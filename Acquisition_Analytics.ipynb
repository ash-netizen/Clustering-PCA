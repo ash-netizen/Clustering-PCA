{
  "nbformat": 4,
  "nbformat_minor": 0,
  "metadata": {
    "kernelspec": {
      "display_name": "Python 3",
      "language": "python",
      "name": "python3"
    },
    "language_info": {
      "codemirror_mode": {
        "name": "ipython",
        "version": 3
      },
      "file_extension": ".py",
      "mimetype": "text/x-python",
      "name": "python",
      "nbconvert_exporter": "python",
      "pygments_lexer": "ipython3",
      "version": "3.6.5"
    },
    "colab": {
      "name": "Acquisition Analytics.ipynb",
      "provenance": [],
      "include_colab_link": true
    }
  },
  "cells": [
    {
      "cell_type": "markdown",
      "metadata": {
        "id": "view-in-github",
        "colab_type": "text"
      },
      "source": [
        "<a href=\"https://colab.research.google.com/github/ash-netizen/Clustering-PCA/blob/master/Acquisition_Analytics.ipynb\" target=\"_parent\"><img src=\"https://colab.research.google.com/assets/colab-badge.svg\" alt=\"Open In Colab\"/></a>"
      ]
    },
    {
      "cell_type": "markdown",
      "metadata": {
        "id": "TTeu5qhuxhF1"
      },
      "source": [
        "## Acquisition Analytics : Bank Marketing\n",
        "\n",
        "We will understand the business objective and understand the data using univariate and multivariate analysis. Then we'll build multiple supervised learning models, choose the best among them and analyze the financial benefits of the analytics project.\n",
        "\n",
        "- Data Understanding\n",
        "- Data Cleaning\n",
        "- Data Preparation\n",
        "- Data Modelling\n",
        "- Model Evaluation"
      ]
    },
    {
      "cell_type": "markdown",
      "metadata": {
        "id": "QMB_6VubxhF2"
      },
      "source": [
        "The objective is to reduce the customer acquisition cost by targeting the ones who are likely to buy and to improve the response rate, i.e. the fraction of prospects who respond to the campaign."
      ]
    },
    {
      "cell_type": "markdown",
      "metadata": {
        "id": "T2g2IKDKxhF2"
      },
      "source": [
        "### Data Understanding\n",
        "\n",
        "The first step in solving any machine learning problem is data understanding. We will import the requisite libraries and apply univariate and multivariate analysis."
      ]
    },
    {
      "cell_type": "code",
      "metadata": {
        "id": "3qE3Pzxfze2w",
        "outputId": "ee34097f-8ada-40e4-fe7b-a95fe8af0b65",
        "colab": {
          "base_uri": "https://localhost:8080/",
          "height": 35
        }
      },
      "source": [
        "from google.colab import drive\n",
        "drive.mount('/content/gdrive')"
      ],
      "execution_count": 117,
      "outputs": [
        {
          "output_type": "stream",
          "text": [
            "Drive already mounted at /content/gdrive; to attempt to forcibly remount, call drive.mount(\"/content/gdrive\", force_remount=True).\n"
          ],
          "name": "stdout"
        }
      ]
    },
    {
      "cell_type": "code",
      "metadata": {
        "id": "KCgbV92AxhF3"
      },
      "source": [
        "import warnings\n",
        "warnings.filterwarnings('ignore')"
      ],
      "execution_count": 118,
      "outputs": []
    },
    {
      "cell_type": "code",
      "metadata": {
        "id": "4Unnmy6DxhF7",
        "outputId": "4b890578-a88e-4cb0-db94-a06fb29dd397",
        "colab": {
          "base_uri": "https://localhost:8080/",
          "height": 503
        }
      },
      "source": [
        "import numpy as np\n",
        "import pandas as pd\n",
        "import matplotlib.pyplot as plt\n",
        "import seaborn as sns\n",
        "\n",
        "loan = pd.read_csv('/content/gdrive/My Drive/bank_marketing.csv')\n",
        "loan.info()"
      ],
      "execution_count": 119,
      "outputs": [
        {
          "output_type": "stream",
          "text": [
            "<class 'pandas.core.frame.DataFrame'>\n",
            "RangeIndex: 41188 entries, 0 to 41187\n",
            "Data columns (total 21 columns):\n",
            " #   Column          Non-Null Count  Dtype  \n",
            "---  ------          --------------  -----  \n",
            " 0   age             41188 non-null  int64  \n",
            " 1   job             41188 non-null  object \n",
            " 2   marital         41188 non-null  object \n",
            " 3   education       41188 non-null  object \n",
            " 4   default         41188 non-null  object \n",
            " 5   housing         41188 non-null  object \n",
            " 6   loan            41188 non-null  object \n",
            " 7   contact         41188 non-null  object \n",
            " 8   month           41188 non-null  object \n",
            " 9   day_of_week     41188 non-null  object \n",
            " 10  duration        41188 non-null  int64  \n",
            " 11  campaign        41188 non-null  int64  \n",
            " 12  pdays           41188 non-null  int64  \n",
            " 13  previous        41188 non-null  int64  \n",
            " 14  poutcome        41188 non-null  object \n",
            " 15  emp.var.rate    41188 non-null  float64\n",
            " 16  cons.price.idx  41188 non-null  float64\n",
            " 17  cons.conf.idx   41188 non-null  float64\n",
            " 18  euribor3m       41188 non-null  float64\n",
            " 19  nr.employed     41188 non-null  float64\n",
            " 20  response        41188 non-null  object \n",
            "dtypes: float64(5), int64(5), object(11)\n",
            "memory usage: 6.6+ MB\n"
          ],
          "name": "stdout"
        }
      ]
    },
    {
      "cell_type": "code",
      "metadata": {
        "id": "3RiG5M1KxhF_"
      },
      "source": [
        "# Drop the duration column\n",
        "\n",
        "loan = loan.drop(['duration'],axis=1)"
      ],
      "execution_count": 120,
      "outputs": []
    },
    {
      "cell_type": "code",
      "metadata": {
        "id": "rWlpby7SxhGC",
        "outputId": "3555e6ca-207b-4000-8409-1bb364adca77",
        "colab": {
          "base_uri": "https://localhost:8080/",
          "height": 381
        }
      },
      "source": [
        "loan.isnull().sum()"
      ],
      "execution_count": 121,
      "outputs": [
        {
          "output_type": "execute_result",
          "data": {
            "text/plain": [
              "age               0\n",
              "job               0\n",
              "marital           0\n",
              "education         0\n",
              "default           0\n",
              "housing           0\n",
              "loan              0\n",
              "contact           0\n",
              "month             0\n",
              "day_of_week       0\n",
              "campaign          0\n",
              "pdays             0\n",
              "previous          0\n",
              "poutcome          0\n",
              "emp.var.rate      0\n",
              "cons.price.idx    0\n",
              "cons.conf.idx     0\n",
              "euribor3m         0\n",
              "nr.employed       0\n",
              "response          0\n",
              "dtype: int64"
            ]
          },
          "metadata": {
            "tags": []
          },
          "execution_count": 121
        }
      ]
    },
    {
      "cell_type": "markdown",
      "metadata": {
        "id": "g0EoS6e2xhGF"
      },
      "source": [
        "We can note that the dataset has 41188 data entries across 20 columns, one of them being the response (Target variable). Another thing to note is that there are no null values. That is, the dataset is completely clean."
      ]
    },
    {
      "cell_type": "code",
      "metadata": {
        "id": "snymcaRGxhGF",
        "outputId": "a16ca9e8-1e01-4fd9-bb8e-eaa1a6c56152",
        "colab": {
          "base_uri": "https://localhost:8080/",
          "height": 222
        }
      },
      "source": [
        "# let's look at the first few rows of the dataframe\n",
        "loan.head()"
      ],
      "execution_count": 122,
      "outputs": [
        {
          "output_type": "execute_result",
          "data": {
            "text/html": [
              "<div>\n",
              "<style scoped>\n",
              "    .dataframe tbody tr th:only-of-type {\n",
              "        vertical-align: middle;\n",
              "    }\n",
              "\n",
              "    .dataframe tbody tr th {\n",
              "        vertical-align: top;\n",
              "    }\n",
              "\n",
              "    .dataframe thead th {\n",
              "        text-align: right;\n",
              "    }\n",
              "</style>\n",
              "<table border=\"1\" class=\"dataframe\">\n",
              "  <thead>\n",
              "    <tr style=\"text-align: right;\">\n",
              "      <th></th>\n",
              "      <th>age</th>\n",
              "      <th>job</th>\n",
              "      <th>marital</th>\n",
              "      <th>education</th>\n",
              "      <th>default</th>\n",
              "      <th>housing</th>\n",
              "      <th>loan</th>\n",
              "      <th>contact</th>\n",
              "      <th>month</th>\n",
              "      <th>day_of_week</th>\n",
              "      <th>campaign</th>\n",
              "      <th>pdays</th>\n",
              "      <th>previous</th>\n",
              "      <th>poutcome</th>\n",
              "      <th>emp.var.rate</th>\n",
              "      <th>cons.price.idx</th>\n",
              "      <th>cons.conf.idx</th>\n",
              "      <th>euribor3m</th>\n",
              "      <th>nr.employed</th>\n",
              "      <th>response</th>\n",
              "    </tr>\n",
              "  </thead>\n",
              "  <tbody>\n",
              "    <tr>\n",
              "      <th>0</th>\n",
              "      <td>56</td>\n",
              "      <td>housemaid</td>\n",
              "      <td>married</td>\n",
              "      <td>basic.4y</td>\n",
              "      <td>no</td>\n",
              "      <td>no</td>\n",
              "      <td>no</td>\n",
              "      <td>telephone</td>\n",
              "      <td>may</td>\n",
              "      <td>mon</td>\n",
              "      <td>1</td>\n",
              "      <td>999</td>\n",
              "      <td>0</td>\n",
              "      <td>nonexistent</td>\n",
              "      <td>1.1</td>\n",
              "      <td>93.994</td>\n",
              "      <td>-36.4</td>\n",
              "      <td>4.857</td>\n",
              "      <td>5191.0</td>\n",
              "      <td>no</td>\n",
              "    </tr>\n",
              "    <tr>\n",
              "      <th>1</th>\n",
              "      <td>57</td>\n",
              "      <td>services</td>\n",
              "      <td>married</td>\n",
              "      <td>high.school</td>\n",
              "      <td>unknown</td>\n",
              "      <td>no</td>\n",
              "      <td>no</td>\n",
              "      <td>telephone</td>\n",
              "      <td>may</td>\n",
              "      <td>mon</td>\n",
              "      <td>1</td>\n",
              "      <td>999</td>\n",
              "      <td>0</td>\n",
              "      <td>nonexistent</td>\n",
              "      <td>1.1</td>\n",
              "      <td>93.994</td>\n",
              "      <td>-36.4</td>\n",
              "      <td>4.857</td>\n",
              "      <td>5191.0</td>\n",
              "      <td>no</td>\n",
              "    </tr>\n",
              "    <tr>\n",
              "      <th>2</th>\n",
              "      <td>37</td>\n",
              "      <td>services</td>\n",
              "      <td>married</td>\n",
              "      <td>high.school</td>\n",
              "      <td>no</td>\n",
              "      <td>yes</td>\n",
              "      <td>no</td>\n",
              "      <td>telephone</td>\n",
              "      <td>may</td>\n",
              "      <td>mon</td>\n",
              "      <td>1</td>\n",
              "      <td>999</td>\n",
              "      <td>0</td>\n",
              "      <td>nonexistent</td>\n",
              "      <td>1.1</td>\n",
              "      <td>93.994</td>\n",
              "      <td>-36.4</td>\n",
              "      <td>4.857</td>\n",
              "      <td>5191.0</td>\n",
              "      <td>no</td>\n",
              "    </tr>\n",
              "    <tr>\n",
              "      <th>3</th>\n",
              "      <td>40</td>\n",
              "      <td>admin.</td>\n",
              "      <td>married</td>\n",
              "      <td>basic.6y</td>\n",
              "      <td>no</td>\n",
              "      <td>no</td>\n",
              "      <td>no</td>\n",
              "      <td>telephone</td>\n",
              "      <td>may</td>\n",
              "      <td>mon</td>\n",
              "      <td>1</td>\n",
              "      <td>999</td>\n",
              "      <td>0</td>\n",
              "      <td>nonexistent</td>\n",
              "      <td>1.1</td>\n",
              "      <td>93.994</td>\n",
              "      <td>-36.4</td>\n",
              "      <td>4.857</td>\n",
              "      <td>5191.0</td>\n",
              "      <td>no</td>\n",
              "    </tr>\n",
              "    <tr>\n",
              "      <th>4</th>\n",
              "      <td>56</td>\n",
              "      <td>services</td>\n",
              "      <td>married</td>\n",
              "      <td>high.school</td>\n",
              "      <td>no</td>\n",
              "      <td>no</td>\n",
              "      <td>yes</td>\n",
              "      <td>telephone</td>\n",
              "      <td>may</td>\n",
              "      <td>mon</td>\n",
              "      <td>1</td>\n",
              "      <td>999</td>\n",
              "      <td>0</td>\n",
              "      <td>nonexistent</td>\n",
              "      <td>1.1</td>\n",
              "      <td>93.994</td>\n",
              "      <td>-36.4</td>\n",
              "      <td>4.857</td>\n",
              "      <td>5191.0</td>\n",
              "      <td>no</td>\n",
              "    </tr>\n",
              "  </tbody>\n",
              "</table>\n",
              "</div>"
            ],
            "text/plain": [
              "   age        job  marital  ... euribor3m nr.employed response\n",
              "0   56  housemaid  married  ...     4.857      5191.0       no\n",
              "1   57   services  married  ...     4.857      5191.0       no\n",
              "2   37   services  married  ...     4.857      5191.0       no\n",
              "3   40     admin.  married  ...     4.857      5191.0       no\n",
              "4   56   services  married  ...     4.857      5191.0       no\n",
              "\n",
              "[5 rows x 20 columns]"
            ]
          },
          "metadata": {
            "tags": []
          },
          "execution_count": 122
        }
      ]
    },
    {
      "cell_type": "code",
      "metadata": {
        "id": "GOiznnMdxhGI",
        "outputId": "f817b718-e701-4dee-fd6b-e892c6953197",
        "colab": {
          "base_uri": "https://localhost:8080/",
          "height": 104
        }
      },
      "source": [
        "# Looking at all the column names\n",
        "loan.columns"
      ],
      "execution_count": 123,
      "outputs": [
        {
          "output_type": "execute_result",
          "data": {
            "text/plain": [
              "Index(['age', 'job', 'marital', 'education', 'default', 'housing', 'loan',\n",
              "       'contact', 'month', 'day_of_week', 'campaign', 'pdays', 'previous',\n",
              "       'poutcome', 'emp.var.rate', 'cons.price.idx', 'cons.conf.idx',\n",
              "       'euribor3m', 'nr.employed', 'response'],\n",
              "      dtype='object')"
            ]
          },
          "metadata": {
            "tags": []
          },
          "execution_count": 123
        }
      ]
    },
    {
      "cell_type": "code",
      "metadata": {
        "id": "snppFswoxhGL",
        "outputId": "3e95083e-3ddf-424b-9021-894602fa7ef9",
        "colab": {
          "base_uri": "https://localhost:8080/",
          "height": 69
        }
      },
      "source": [
        "loan['response'].value_counts()"
      ],
      "execution_count": 124,
      "outputs": [
        {
          "output_type": "execute_result",
          "data": {
            "text/plain": [
              "no     36548\n",
              "yes     4640\n",
              "Name: response, dtype: int64"
            ]
          },
          "metadata": {
            "tags": []
          },
          "execution_count": 124
        }
      ]
    },
    {
      "cell_type": "markdown",
      "metadata": {
        "id": "s0-YzIsPxhGO"
      },
      "source": [
        "As we note that the response variable has 'yes' and 'no' responses, we will convert it to 1 and 0 respectively"
      ]
    },
    {
      "cell_type": "code",
      "metadata": {
        "id": "HG4mXf3zxhGP"
      },
      "source": [
        "loan['response'] = loan['response'].map({'yes': 1, 'no': 0})"
      ],
      "execution_count": 125,
      "outputs": []
    },
    {
      "cell_type": "code",
      "metadata": {
        "id": "qx1_-BdMxhGT",
        "outputId": "6aaa68b1-dbbd-4481-fe8a-6c746f859733",
        "colab": {
          "base_uri": "https://localhost:8080/",
          "height": 121
        }
      },
      "source": [
        "loan['response'].head()"
      ],
      "execution_count": 126,
      "outputs": [
        {
          "output_type": "execute_result",
          "data": {
            "text/plain": [
              "0    0\n",
              "1    0\n",
              "2    0\n",
              "3    0\n",
              "4    0\n",
              "Name: response, dtype: int64"
            ]
          },
          "metadata": {
            "tags": []
          },
          "execution_count": 126
        }
      ]
    },
    {
      "cell_type": "code",
      "metadata": {
        "id": "NwLBwUosxhGW",
        "outputId": "6109d653-825d-4917-cdd1-48356a56deb5",
        "colab": {
          "base_uri": "https://localhost:8080/",
          "height": 69
        }
      },
      "source": [
        "loan['response'].value_counts()"
      ],
      "execution_count": 127,
      "outputs": [
        {
          "output_type": "execute_result",
          "data": {
            "text/plain": [
              "0    36548\n",
              "1     4640\n",
              "Name: response, dtype: int64"
            ]
          },
          "metadata": {
            "tags": []
          },
          "execution_count": 127
        }
      ]
    },
    {
      "cell_type": "code",
      "metadata": {
        "id": "FWYyJdUvxhGZ"
      },
      "source": [
        "# Copy the dataset into a back up dataframe for future use\n",
        "\n",
        "loan_copy = loan"
      ],
      "execution_count": 128,
      "outputs": []
    },
    {
      "cell_type": "code",
      "metadata": {
        "id": "oTC20ZQ6xhGb",
        "outputId": "50436f98-b0f4-46ec-f059-7b08b1fc7e13",
        "colab": {
          "base_uri": "https://localhost:8080/",
          "height": 35
        }
      },
      "source": [
        "# Determine the percentage of people who have bought the investment product, that is those who have the response varibale as 1\n",
        "\n",
        "100*(loan['response'].sum()/loan['response'].count()).round(4)"
      ],
      "execution_count": 129,
      "outputs": [
        {
          "output_type": "execute_result",
          "data": {
            "text/plain": [
              "11.27"
            ]
          },
          "metadata": {
            "tags": []
          },
          "execution_count": 129
        }
      ]
    },
    {
      "cell_type": "markdown",
      "metadata": {
        "id": "NW7LKqpFxhGe"
      },
      "source": [
        "### Exploratory Data Analysis\n",
        "\n",
        "Now, we will do Exploratory Data Analysis on individual features and look for patterns."
      ]
    },
    {
      "cell_type": "markdown",
      "metadata": {
        "id": "YDBTZwFtxhGf"
      },
      "source": [
        "First, we will look at the client data.\n",
        "\n",
        "- Age\n",
        "- Job : type of job\n",
        "- Marital : marital status\n",
        "- Education\n",
        "- Default: has credit in default?\n",
        "- Housing: has housing loan?\n",
        "- Loan: has personal loan?\n",
        "\n",
        "#### Age"
      ]
    },
    {
      "cell_type": "code",
      "metadata": {
        "id": "uMx-RkPjxhGf",
        "outputId": "19f57205-401e-4ab9-b070-826653fea910",
        "colab": {
          "base_uri": "https://localhost:8080/",
          "height": 279
        }
      },
      "source": [
        "sns.boxplot(x='age', data=loan)\n",
        "plt.show()"
      ],
      "execution_count": 130,
      "outputs": [
        {
          "output_type": "display_data",
          "data": {
            "image/png": "[encoded data removed]",
            "text/plain": [
              "<Figure size 432x288 with 1 Axes>"
            ]
          },
          "metadata": {
            "tags": [],
            "needs_background": "light"
          }
        }
      ]
    },
    {
      "cell_type": "code",
      "metadata": {
        "id": "BobWYOrAxhGi"
      },
      "source": [
        "# Since there are a fair few data entries with age > 71, we will club all of those ages at 71 (since we can assume \n",
        "# that the behaviour will not change significantly with age at age above 70)\n",
        "\n",
        "loan['age'][loan['age']>71] =71"
      ],
      "execution_count": 131,
      "outputs": []
    },
    {
      "cell_type": "code",
      "metadata": {
        "id": "FTKygpKyxhGl",
        "outputId": "4e1a7718-b139-4971-db55-c73f8d6db982",
        "colab": {
          "base_uri": "https://localhost:8080/",
          "height": 279
        }
      },
      "source": [
        "sns.boxplot(x='age', data=loan)\n",
        "plt.show()"
      ],
      "execution_count": 132,
      "outputs": [
        {
          "output_type": "display_data",
          "data": {
            "image/png": "[encoded data removed]",
            "text/plain": [
              "<Figure size 432x288 with 1 Axes>"
            ]
          },
          "metadata": {
            "tags": [],
            "needs_background": "light"
          }
        }
      ]
    },
    {
      "cell_type": "code",
      "metadata": {
        "id": "DFORtUZ_xhGo"
      },
      "source": [
        "# To understand the behaviour of people with age, we are going to bucket the age groups into brackets of 10 and \n",
        "# study the response rates\n",
        "\n",
        "bins = np.arange(10,loan['age'].max() + 10, 10)\n",
        "loan['age_bins'] = pd.cut(loan['age'], bins, include_lowest=True)"
      ],
      "execution_count": 133,
      "outputs": []
    },
    {
      "cell_type": "code",
      "metadata": {
        "id": "SX1Ud2cfxhGq"
      },
      "source": [
        "No_of_prospect = loan.groupby('age_bins')['response'].count().reset_index(name = 'No.of_prospect')"
      ],
      "execution_count": 134,
      "outputs": []
    },
    {
      "cell_type": "code",
      "metadata": {
        "id": "nH7G3qtyxhGt"
      },
      "source": [
        "count_prospects = loan[loan['response']==1].groupby('age_bins')['response'].count().reset_index(name = 'count_prospects')"
      ],
      "execution_count": 135,
      "outputs": []
    },
    {
      "cell_type": "code",
      "metadata": {
        "id": "AoVazmTfxhGw"
      },
      "source": [
        "agg_age = No_of_prospect.merge(count_prospects, on='age_bins')"
      ],
      "execution_count": 136,
      "outputs": []
    },
    {
      "cell_type": "code",
      "metadata": {
        "id": "2KhJ7B5CxhGy"
      },
      "source": [
        "agg_age['response_rate'] = 100*(agg_age['count_prospects']/agg_age['No.of_prospect']).round(3)"
      ],
      "execution_count": 137,
      "outputs": []
    },
    {
      "cell_type": "code",
      "metadata": {
        "id": "hbXgSnkzxhG2",
        "outputId": "3f83dcb1-6941-4ac6-961e-249a5210ca21",
        "colab": {
          "base_uri": "https://localhost:8080/",
          "height": 263
        }
      },
      "source": [
        "agg_age"
      ],
      "execution_count": 138,
      "outputs": [
        {
          "output_type": "execute_result",
          "data": {
            "text/html": [
              "<div>\n",
              "<style scoped>\n",
              "    .dataframe tbody tr th:only-of-type {\n",
              "        vertical-align: middle;\n",
              "    }\n",
              "\n",
              "    .dataframe tbody tr th {\n",
              "        vertical-align: top;\n",
              "    }\n",
              "\n",
              "    .dataframe thead th {\n",
              "        text-align: right;\n",
              "    }\n",
              "</style>\n",
              "<table border=\"1\" class=\"dataframe\">\n",
              "  <thead>\n",
              "    <tr style=\"text-align: right;\">\n",
              "      <th></th>\n",
              "      <th>age_bins</th>\n",
              "      <th>No.of_prospect</th>\n",
              "      <th>count_prospects</th>\n",
              "      <th>response_rate</th>\n",
              "    </tr>\n",
              "  </thead>\n",
              "  <tbody>\n",
              "    <tr>\n",
              "      <th>0</th>\n",
              "      <td>(9.999, 20.0]</td>\n",
              "      <td>140</td>\n",
              "      <td>57</td>\n",
              "      <td>40.7</td>\n",
              "    </tr>\n",
              "    <tr>\n",
              "      <th>1</th>\n",
              "      <td>(20.0, 30.0]</td>\n",
              "      <td>7243</td>\n",
              "      <td>1067</td>\n",
              "      <td>14.7</td>\n",
              "    </tr>\n",
              "    <tr>\n",
              "      <th>2</th>\n",
              "      <td>(30.0, 40.0]</td>\n",
              "      <td>16385</td>\n",
              "      <td>1597</td>\n",
              "      <td>9.7</td>\n",
              "    </tr>\n",
              "    <tr>\n",
              "      <th>3</th>\n",
              "      <td>(40.0, 50.0]</td>\n",
              "      <td>10240</td>\n",
              "      <td>837</td>\n",
              "      <td>8.2</td>\n",
              "    </tr>\n",
              "    <tr>\n",
              "      <th>4</th>\n",
              "      <td>(50.0, 60.0]</td>\n",
              "      <td>6270</td>\n",
              "      <td>668</td>\n",
              "      <td>10.7</td>\n",
              "    </tr>\n",
              "    <tr>\n",
              "      <th>5</th>\n",
              "      <td>(60.0, 70.0]</td>\n",
              "      <td>488</td>\n",
              "      <td>212</td>\n",
              "      <td>43.4</td>\n",
              "    </tr>\n",
              "    <tr>\n",
              "      <th>6</th>\n",
              "      <td>(70.0, 80.0]</td>\n",
              "      <td>422</td>\n",
              "      <td>202</td>\n",
              "      <td>47.9</td>\n",
              "    </tr>\n",
              "  </tbody>\n",
              "</table>\n",
              "</div>"
            ],
            "text/plain": [
              "        age_bins  No.of_prospect  count_prospects  response_rate\n",
              "0  (9.999, 20.0]             140               57           40.7\n",
              "1   (20.0, 30.0]            7243             1067           14.7\n",
              "2   (30.0, 40.0]           16385             1597            9.7\n",
              "3   (40.0, 50.0]           10240              837            8.2\n",
              "4   (50.0, 60.0]            6270              668           10.7\n",
              "5   (60.0, 70.0]             488              212           43.4\n",
              "6   (70.0, 80.0]             422              202           47.9"
            ]
          },
          "metadata": {
            "tags": []
          },
          "execution_count": 138
        }
      ]
    },
    {
      "cell_type": "code",
      "metadata": {
        "id": "XDt_u-mgxhG5",
        "outputId": "e4b30624-a3af-461d-dca8-99563315dc1d",
        "colab": {
          "base_uri": "https://localhost:8080/",
          "height": 314
        }
      },
      "source": [
        "ax = sns.barplot(x='age_bins', y='response_rate', data=agg_age)\n",
        "ax.set_xticklabels(ax.get_xticklabels(),rotation=30)\n",
        "plt.show()"
      ],
      "execution_count": 139,
      "outputs": [
        {
          "output_type": "display_data",
          "data": {
            "image/png": "[encoded data removed]",
            "text/plain": [
              "<Figure size 432x288 with 1 Axes>"
            ]
          },
          "metadata": {
            "tags": [],
            "needs_background": "light"
          }
        }
      ]
    },
    {
      "cell_type": "markdown",
      "metadata": {
        "id": "9k3XRd1BxhG7"
      },
      "source": [
        "As we can see, the youngest and the eldest are the most likely to buy the investment product being offered by the bank."
      ]
    },
    {
      "cell_type": "code",
      "metadata": {
        "id": "JAaTkzqJxhG8",
        "outputId": "9538a2c2-9ce4-4d80-bc7b-a365f5b9c98d",
        "colab": {
          "base_uri": "https://localhost:8080/",
          "height": 309
        }
      },
      "source": [
        "# Note that we have added a new column named age bucket to the table\n",
        "\n",
        "loan.head()"
      ],
      "execution_count": 140,
      "outputs": [
        {
          "output_type": "execute_result",
          "data": {
            "text/html": [
              "<div>\n",
              "<style scoped>\n",
              "    .dataframe tbody tr th:only-of-type {\n",
              "        vertical-align: middle;\n",
              "    }\n",
              "\n",
              "    .dataframe tbody tr th {\n",
              "        vertical-align: top;\n",
              "    }\n",
              "\n",
              "    .dataframe thead th {\n",
              "        text-align: right;\n",
              "    }\n",
              "</style>\n",
              "<table border=\"1\" class=\"dataframe\">\n",
              "  <thead>\n",
              "    <tr style=\"text-align: right;\">\n",
              "      <th></th>\n",
              "      <th>age</th>\n",
              "      <th>job</th>\n",
              "      <th>marital</th>\n",
              "      <th>education</th>\n",
              "      <th>default</th>\n",
              "      <th>housing</th>\n",
              "      <th>loan</th>\n",
              "      <th>contact</th>\n",
              "      <th>month</th>\n",
              "      <th>day_of_week</th>\n",
              "      <th>campaign</th>\n",
              "      <th>pdays</th>\n",
              "      <th>previous</th>\n",
              "      <th>poutcome</th>\n",
              "      <th>emp.var.rate</th>\n",
              "      <th>cons.price.idx</th>\n",
              "      <th>cons.conf.idx</th>\n",
              "      <th>euribor3m</th>\n",
              "      <th>nr.employed</th>\n",
              "      <th>response</th>\n",
              "      <th>age_bins</th>\n",
              "    </tr>\n",
              "  </thead>\n",
              "  <tbody>\n",
              "    <tr>\n",
              "      <th>0</th>\n",
              "      <td>56</td>\n",
              "      <td>housemaid</td>\n",
              "      <td>married</td>\n",
              "      <td>basic.4y</td>\n",
              "      <td>no</td>\n",
              "      <td>no</td>\n",
              "      <td>no</td>\n",
              "      <td>telephone</td>\n",
              "      <td>may</td>\n",
              "      <td>mon</td>\n",
              "      <td>1</td>\n",
              "      <td>999</td>\n",
              "      <td>0</td>\n",
              "      <td>nonexistent</td>\n",
              "      <td>1.1</td>\n",
              "      <td>93.994</td>\n",
              "      <td>-36.4</td>\n",
              "      <td>4.857</td>\n",
              "      <td>5191.0</td>\n",
              "      <td>0</td>\n",
              "      <td>(50.0, 60.0]</td>\n",
              "    </tr>\n",
              "    <tr>\n",
              "      <th>1</th>\n",
              "      <td>57</td>\n",
              "      <td>services</td>\n",
              "      <td>married</td>\n",
              "      <td>high.school</td>\n",
              "      <td>unknown</td>\n",
              "      <td>no</td>\n",
              "      <td>no</td>\n",
              "      <td>telephone</td>\n",
              "      <td>may</td>\n",
              "      <td>mon</td>\n",
              "      <td>1</td>\n",
              "      <td>999</td>\n",
              "      <td>0</td>\n",
              "      <td>nonexistent</td>\n",
              "      <td>1.1</td>\n",
              "      <td>93.994</td>\n",
              "      <td>-36.4</td>\n",
              "      <td>4.857</td>\n",
              "      <td>5191.0</td>\n",
              "      <td>0</td>\n",
              "      <td>(50.0, 60.0]</td>\n",
              "    </tr>\n",
              "    <tr>\n",
              "      <th>2</th>\n",
              "      <td>37</td>\n",
              "      <td>services</td>\n",
              "      <td>married</td>\n",
              "      <td>high.school</td>\n",
              "      <td>no</td>\n",
              "      <td>yes</td>\n",
              "      <td>no</td>\n",
              "      <td>telephone</td>\n",
              "      <td>may</td>\n",
              "      <td>mon</td>\n",
              "      <td>1</td>\n",
              "      <td>999</td>\n",
              "      <td>0</td>\n",
              "      <td>nonexistent</td>\n",
              "      <td>1.1</td>\n",
              "      <td>93.994</td>\n",
              "      <td>-36.4</td>\n",
              "      <td>4.857</td>\n",
              "      <td>5191.0</td>\n",
              "      <td>0</td>\n",
              "      <td>(30.0, 40.0]</td>\n",
              "    </tr>\n",
              "    <tr>\n",
              "      <th>3</th>\n",
              "      <td>40</td>\n",
              "      <td>admin.</td>\n",
              "      <td>married</td>\n",
              "      <td>basic.6y</td>\n",
              "      <td>no</td>\n",
              "      <td>no</td>\n",
              "      <td>no</td>\n",
              "      <td>telephone</td>\n",
              "      <td>may</td>\n",
              "      <td>mon</td>\n",
              "      <td>1</td>\n",
              "      <td>999</td>\n",
              "      <td>0</td>\n",
              "      <td>nonexistent</td>\n",
              "      <td>1.1</td>\n",
              "      <td>93.994</td>\n",
              "      <td>-36.4</td>\n",
              "      <td>4.857</td>\n",
              "      <td>5191.0</td>\n",
              "      <td>0</td>\n",
              "      <td>(30.0, 40.0]</td>\n",
              "    </tr>\n",
              "    <tr>\n",
              "      <th>4</th>\n",
              "      <td>56</td>\n",
              "      <td>services</td>\n",
              "      <td>married</td>\n",
              "      <td>high.school</td>\n",
              "      <td>no</td>\n",
              "      <td>no</td>\n",
              "      <td>yes</td>\n",
              "      <td>telephone</td>\n",
              "      <td>may</td>\n",
              "      <td>mon</td>\n",
              "      <td>1</td>\n",
              "      <td>999</td>\n",
              "      <td>0</td>\n",
              "      <td>nonexistent</td>\n",
              "      <td>1.1</td>\n",
              "      <td>93.994</td>\n",
              "      <td>-36.4</td>\n",
              "      <td>4.857</td>\n",
              "      <td>5191.0</td>\n",
              "      <td>0</td>\n",
              "      <td>(50.0, 60.0]</td>\n",
              "    </tr>\n",
              "  </tbody>\n",
              "</table>\n",
              "</div>"
            ],
            "text/plain": [
              "   age        job  marital  ... nr.employed response      age_bins\n",
              "0   56  housemaid  married  ...      5191.0        0  (50.0, 60.0]\n",
              "1   57   services  married  ...      5191.0        0  (50.0, 60.0]\n",
              "2   37   services  married  ...      5191.0        0  (30.0, 40.0]\n",
              "3   40     admin.  married  ...      5191.0        0  (30.0, 40.0]\n",
              "4   56   services  married  ...      5191.0        0  (50.0, 60.0]\n",
              "\n",
              "[5 rows x 21 columns]"
            ]
          },
          "metadata": {
            "tags": []
          },
          "execution_count": 140
        }
      ]
    },
    {
      "cell_type": "markdown",
      "metadata": {
        "id": "kO30ZVzVxhG-"
      },
      "source": [
        "Similarly, we will look at the relation between response rate and job. Note that since job is already a categorical variable, we don't need to bucket the data"
      ]
    },
    {
      "cell_type": "markdown",
      "metadata": {
        "id": "3ALJjdczxhG_"
      },
      "source": [
        "#### Job"
      ]
    },
    {
      "cell_type": "code",
      "metadata": {
        "id": "PEq-KdcHxhG_",
        "outputId": "1a01a14c-5d19-4013-ec17-cb19df9b5fac",
        "colab": {
          "base_uri": "https://localhost:8080/",
          "height": 243
        }
      },
      "source": [
        "loan['job'].value_counts()"
      ],
      "execution_count": 141,
      "outputs": [
        {
          "output_type": "execute_result",
          "data": {
            "text/plain": [
              "admin.           10422\n",
              "blue-collar       9254\n",
              "technician        6743\n",
              "services          3969\n",
              "management        2924\n",
              "retired           1720\n",
              "entrepreneur      1456\n",
              "self-employed     1421\n",
              "housemaid         1060\n",
              "unemployed        1014\n",
              "student            875\n",
              "unknown            330\n",
              "Name: job, dtype: int64"
            ]
          },
          "metadata": {
            "tags": []
          },
          "execution_count": 141
        }
      ]
    },
    {
      "cell_type": "code",
      "metadata": {
        "id": "o5qno7o7xhHD"
      },
      "source": [
        "count_prospects_job = loan.groupby('job')['response'].sum().reset_index(name = 'count_prospects')"
      ],
      "execution_count": 142,
      "outputs": []
    },
    {
      "cell_type": "code",
      "metadata": {
        "id": "CSY2hwOFxhHF"
      },
      "source": [
        "No_of_prospect_job = loan.groupby('job')['response'].count().reset_index(name = 'No_of_prospects')"
      ],
      "execution_count": 143,
      "outputs": []
    },
    {
      "cell_type": "code",
      "metadata": {
        "id": "PGOovVUExhHI"
      },
      "source": [
        "agg_job = count_prospects_job.merge(No_of_prospect_job, on = 'job')"
      ],
      "execution_count": 144,
      "outputs": []
    },
    {
      "cell_type": "code",
      "metadata": {
        "id": "GtWdo_vQxhHK"
      },
      "source": [
        "agg_job['response_rate'] = 100*(agg_job['count_prospects']/agg_job['No_of_prospects']).round(4)"
      ],
      "execution_count": 145,
      "outputs": []
    },
    {
      "cell_type": "code",
      "metadata": {
        "id": "90BMk6gkxhHM",
        "outputId": "2e155cba-219c-4381-e84b-d7bb7aa1e1e4",
        "colab": {
          "base_uri": "https://localhost:8080/",
          "height": 417
        }
      },
      "source": [
        "agg_job"
      ],
      "execution_count": 146,
      "outputs": [
        {
          "output_type": "execute_result",
          "data": {
            "text/html": [
              "<div>\n",
              "<style scoped>\n",
              "    .dataframe tbody tr th:only-of-type {\n",
              "        vertical-align: middle;\n",
              "    }\n",
              "\n",
              "    .dataframe tbody tr th {\n",
              "        vertical-align: top;\n",
              "    }\n",
              "\n",
              "    .dataframe thead th {\n",
              "        text-align: right;\n",
              "    }\n",
              "</style>\n",
              "<table border=\"1\" class=\"dataframe\">\n",
              "  <thead>\n",
              "    <tr style=\"text-align: right;\">\n",
              "      <th></th>\n",
              "      <th>job</th>\n",
              "      <th>count_prospects</th>\n",
              "      <th>No_of_prospects</th>\n",
              "      <th>response_rate</th>\n",
              "    </tr>\n",
              "  </thead>\n",
              "  <tbody>\n",
              "    <tr>\n",
              "      <th>0</th>\n",
              "      <td>admin.</td>\n",
              "      <td>1352</td>\n",
              "      <td>10422</td>\n",
              "      <td>12.97</td>\n",
              "    </tr>\n",
              "    <tr>\n",
              "      <th>1</th>\n",
              "      <td>blue-collar</td>\n",
              "      <td>638</td>\n",
              "      <td>9254</td>\n",
              "      <td>6.89</td>\n",
              "    </tr>\n",
              "    <tr>\n",
              "      <th>2</th>\n",
              "      <td>entrepreneur</td>\n",
              "      <td>124</td>\n",
              "      <td>1456</td>\n",
              "      <td>8.52</td>\n",
              "    </tr>\n",
              "    <tr>\n",
              "      <th>3</th>\n",
              "      <td>housemaid</td>\n",
              "      <td>106</td>\n",
              "      <td>1060</td>\n",
              "      <td>10.00</td>\n",
              "    </tr>\n",
              "    <tr>\n",
              "      <th>4</th>\n",
              "      <td>management</td>\n",
              "      <td>328</td>\n",
              "      <td>2924</td>\n",
              "      <td>11.22</td>\n",
              "    </tr>\n",
              "    <tr>\n",
              "      <th>5</th>\n",
              "      <td>retired</td>\n",
              "      <td>434</td>\n",
              "      <td>1720</td>\n",
              "      <td>25.23</td>\n",
              "    </tr>\n",
              "    <tr>\n",
              "      <th>6</th>\n",
              "      <td>self-employed</td>\n",
              "      <td>149</td>\n",
              "      <td>1421</td>\n",
              "      <td>10.49</td>\n",
              "    </tr>\n",
              "    <tr>\n",
              "      <th>7</th>\n",
              "      <td>services</td>\n",
              "      <td>323</td>\n",
              "      <td>3969</td>\n",
              "      <td>8.14</td>\n",
              "    </tr>\n",
              "    <tr>\n",
              "      <th>8</th>\n",
              "      <td>student</td>\n",
              "      <td>275</td>\n",
              "      <td>875</td>\n",
              "      <td>31.43</td>\n",
              "    </tr>\n",
              "    <tr>\n",
              "      <th>9</th>\n",
              "      <td>technician</td>\n",
              "      <td>730</td>\n",
              "      <td>6743</td>\n",
              "      <td>10.83</td>\n",
              "    </tr>\n",
              "    <tr>\n",
              "      <th>10</th>\n",
              "      <td>unemployed</td>\n",
              "      <td>144</td>\n",
              "      <td>1014</td>\n",
              "      <td>14.20</td>\n",
              "    </tr>\n",
              "    <tr>\n",
              "      <th>11</th>\n",
              "      <td>unknown</td>\n",
              "      <td>37</td>\n",
              "      <td>330</td>\n",
              "      <td>11.21</td>\n",
              "    </tr>\n",
              "  </tbody>\n",
              "</table>\n",
              "</div>"
            ],
            "text/plain": [
              "              job  count_prospects  No_of_prospects  response_rate\n",
              "0          admin.             1352            10422          12.97\n",
              "1     blue-collar              638             9254           6.89\n",
              "2    entrepreneur              124             1456           8.52\n",
              "3       housemaid              106             1060          10.00\n",
              "4      management              328             2924          11.22\n",
              "5         retired              434             1720          25.23\n",
              "6   self-employed              149             1421          10.49\n",
              "7        services              323             3969           8.14\n",
              "8         student              275              875          31.43\n",
              "9      technician              730             6743          10.83\n",
              "10     unemployed              144             1014          14.20\n",
              "11        unknown               37              330          11.21"
            ]
          },
          "metadata": {
            "tags": []
          },
          "execution_count": 146
        }
      ]
    },
    {
      "cell_type": "code",
      "metadata": {
        "id": "Fcn4N2ylxhHQ",
        "outputId": "eac8e0b2-600a-4942-ac8b-ef0b690f0470",
        "colab": {
          "base_uri": "https://localhost:8080/",
          "height": 340
        }
      },
      "source": [
        "ax = sns.barplot(x='job', y='response_rate', data=agg_job)\n",
        "ax.set_xticklabels(ax.get_xticklabels(),rotation=90)\n",
        "plt.show()"
      ],
      "execution_count": 147,
      "outputs": [
        {
          "output_type": "display_data",
          "data": {
            "image/png": "[encoded data removed]",
            "text/plain": [
              "<Figure size 432x288 with 1 Axes>"
            ]
          },
          "metadata": {
            "tags": [],
            "needs_background": "light"
          }
        }
      ]
    },
    {
      "cell_type": "markdown",
      "metadata": {
        "id": "fKZs2E2DxhHS"
      },
      "source": [
        "We can draw similarities from the age response analysis where we found that the youngest and eldest were most likely to respond in a positive manner. It is rreiterated by the above analysis, where we notice that student and retired have the highest response rates."
      ]
    },
    {
      "cell_type": "markdown",
      "metadata": {
        "id": "KYHCORhaxhHT"
      },
      "source": [
        "#### Marital"
      ]
    },
    {
      "cell_type": "code",
      "metadata": {
        "id": "WLUxxEDCxhHT",
        "outputId": "2864a162-6ba2-4c41-c033-29867cd4eebd",
        "colab": {
          "base_uri": "https://localhost:8080/",
          "height": 104
        }
      },
      "source": [
        "loan['marital'].value_counts()"
      ],
      "execution_count": 148,
      "outputs": [
        {
          "output_type": "execute_result",
          "data": {
            "text/plain": [
              "married     24928\n",
              "single      11568\n",
              "divorced     4612\n",
              "unknown        80\n",
              "Name: marital, dtype: int64"
            ]
          },
          "metadata": {
            "tags": []
          },
          "execution_count": 148
        }
      ]
    },
    {
      "cell_type": "markdown",
      "metadata": {
        "id": "fzj56-VPxhHW"
      },
      "source": [
        "Since there are 80 entries which list marital status as 'unknown', we will assign them to the biggest group, which is, 'married'."
      ]
    },
    {
      "cell_type": "code",
      "metadata": {
        "id": "D82LZAZuxhHW"
      },
      "source": [
        "loan.replace({'marital' : { 'unknown' : 'married'}}, inplace=True)"
      ],
      "execution_count": 149,
      "outputs": []
    },
    {
      "cell_type": "code",
      "metadata": {
        "id": "-hy8gwUWxhHY"
      },
      "source": [
        "count_prospects_marital = loan.groupby('marital')['response'].sum().reset_index(name = 'count_prospects')"
      ],
      "execution_count": 150,
      "outputs": []
    },
    {
      "cell_type": "code",
      "metadata": {
        "id": "zFG0JUISxhHb"
      },
      "source": [
        "No_of_prospect_job = loan.groupby('marital')['response'].count().reset_index(name = 'No_of_prospects')"
      ],
      "execution_count": 151,
      "outputs": []
    },
    {
      "cell_type": "code",
      "metadata": {
        "id": "nWlpJqn-xhHe"
      },
      "source": [
        "agg_marital = count_prospects_marital.merge(No_of_prospect_job, on = 'marital')"
      ],
      "execution_count": 152,
      "outputs": []
    },
    {
      "cell_type": "code",
      "metadata": {
        "id": "OZfduUpsxhHh"
      },
      "source": [
        "agg_marital['response_rate'] = 100*(agg_marital['count_prospects']/agg_marital['No_of_prospects']).round(4)"
      ],
      "execution_count": 153,
      "outputs": []
    },
    {
      "cell_type": "code",
      "metadata": {
        "id": "WCU5539fxhHj",
        "outputId": "ec364dee-1482-495d-80f2-ad41bc9b4240",
        "colab": {
          "base_uri": "https://localhost:8080/",
          "height": 141
        }
      },
      "source": [
        "agg_marital"
      ],
      "execution_count": 154,
      "outputs": [
        {
          "output_type": "execute_result",
          "data": {
            "text/html": [
              "<div>\n",
              "<style scoped>\n",
              "    .dataframe tbody tr th:only-of-type {\n",
              "        vertical-align: middle;\n",
              "    }\n",
              "\n",
              "    .dataframe tbody tr th {\n",
              "        vertical-align: top;\n",
              "    }\n",
              "\n",
              "    .dataframe thead th {\n",
              "        text-align: right;\n",
              "    }\n",
              "</style>\n",
              "<table border=\"1\" class=\"dataframe\">\n",
              "  <thead>\n",
              "    <tr style=\"text-align: right;\">\n",
              "      <th></th>\n",
              "      <th>marital</th>\n",
              "      <th>count_prospects</th>\n",
              "      <th>No_of_prospects</th>\n",
              "      <th>response_rate</th>\n",
              "    </tr>\n",
              "  </thead>\n",
              "  <tbody>\n",
              "    <tr>\n",
              "      <th>0</th>\n",
              "      <td>divorced</td>\n",
              "      <td>476</td>\n",
              "      <td>4612</td>\n",
              "      <td>10.32</td>\n",
              "    </tr>\n",
              "    <tr>\n",
              "      <th>1</th>\n",
              "      <td>married</td>\n",
              "      <td>2544</td>\n",
              "      <td>25008</td>\n",
              "      <td>10.17</td>\n",
              "    </tr>\n",
              "    <tr>\n",
              "      <th>2</th>\n",
              "      <td>single</td>\n",
              "      <td>1620</td>\n",
              "      <td>11568</td>\n",
              "      <td>14.00</td>\n",
              "    </tr>\n",
              "  </tbody>\n",
              "</table>\n",
              "</div>"
            ],
            "text/plain": [
              "    marital  count_prospects  No_of_prospects  response_rate\n",
              "0  divorced              476             4612          10.32\n",
              "1   married             2544            25008          10.17\n",
              "2    single             1620            11568          14.00"
            ]
          },
          "metadata": {
            "tags": []
          },
          "execution_count": 154
        }
      ]
    },
    {
      "cell_type": "code",
      "metadata": {
        "id": "xChIon6SxhHl",
        "outputId": "1ffeafe2-504a-4c8d-bffd-56ba35b164fc",
        "colab": {
          "base_uri": "https://localhost:8080/",
          "height": 279
        }
      },
      "source": [
        "ax = sns.barplot(x='marital', y='response_rate', data=agg_marital)\n",
        "ax.set_xticklabels(ax.get_xticklabels(),rotation=0)\n",
        "plt.show()"
      ],
      "execution_count": 155,
      "outputs": [
        {
          "output_type": "display_data",
          "data": {
            "image/png": "[encoded data removed]",
            "text/plain": [
              "<Figure size 432x288 with 1 Axes>"
            ]
          },
          "metadata": {
            "tags": [],
            "needs_background": "light"
          }
        }
      ]
    },
    {
      "cell_type": "markdown",
      "metadata": {
        "id": "BAGmBrFMxhHp"
      },
      "source": [
        "You may note that there is a slight uptick in response rate for single customers, this can be attributed in part to the fact that people under the age of 20 have a very high response rate. "
      ]
    },
    {
      "cell_type": "markdown",
      "metadata": {
        "id": "9xM6tljzxhHp"
      },
      "source": [
        "#### Education"
      ]
    },
    {
      "cell_type": "code",
      "metadata": {
        "id": "zYNdB8-2xhHr",
        "outputId": "9c51d3e8-8d29-4745-83f0-0e3da6e45137",
        "colab": {
          "base_uri": "https://localhost:8080/",
          "height": 173
        }
      },
      "source": [
        "loan['education'].value_counts()"
      ],
      "execution_count": 156,
      "outputs": [
        {
          "output_type": "execute_result",
          "data": {
            "text/plain": [
              "university.degree      12168\n",
              "high.school             9515\n",
              "basic.9y                6045\n",
              "professional.course     5243\n",
              "basic.4y                4176\n",
              "basic.6y                2292\n",
              "unknown                 1731\n",
              "illiterate                18\n",
              "Name: education, dtype: int64"
            ]
          },
          "metadata": {
            "tags": []
          },
          "execution_count": 156
        }
      ]
    },
    {
      "cell_type": "markdown",
      "metadata": {
        "id": "svIj1MCaxhHu"
      },
      "source": [
        "To simplify the problem, we are going to convert the educational qualifications to simple buckets of primary educations, secondary education, tertiary education and professional courses. Also note that there are 18 entries listing the educational status as illiterate. Since the closest group to them is primary education, we are going to assign all entries with educational status as illiterate to primary education."
      ]
    },
    {
      "cell_type": "code",
      "metadata": {
        "id": "RisMki7UxhHu"
      },
      "source": [
        "loan.replace({'education' : { 'basic.9y' : 'Primary_Education', 'basic.4y' : 'Primary_Education','basic.6y' : 'Primary_Education','illiterate' : 'Primary_Education',\n",
        "                             'high.school' : 'Secondary_Education', 'university.degree' : 'Tertiary_Education' }}, inplace=True)"
      ],
      "execution_count": 157,
      "outputs": []
    },
    {
      "cell_type": "code",
      "metadata": {
        "id": "FKgxQV5-xhHx",
        "outputId": "1b599060-5070-4731-9487-edf87ebcffc3",
        "colab": {
          "base_uri": "https://localhost:8080/",
          "height": 121
        }
      },
      "source": [
        "loan['education'].value_counts()"
      ],
      "execution_count": 158,
      "outputs": [
        {
          "output_type": "execute_result",
          "data": {
            "text/plain": [
              "Primary_Education      12531\n",
              "Tertiary_Education     12168\n",
              "Secondary_Education     9515\n",
              "professional.course     5243\n",
              "unknown                 1731\n",
              "Name: education, dtype: int64"
            ]
          },
          "metadata": {
            "tags": []
          },
          "execution_count": 158
        }
      ]
    },
    {
      "cell_type": "code",
      "metadata": {
        "id": "OsOZhEvtxhH0"
      },
      "source": [
        "count_prospects_education = loan.groupby('education')['response'].sum().reset_index(name = 'count_prospects')"
      ],
      "execution_count": 159,
      "outputs": []
    },
    {
      "cell_type": "code",
      "metadata": {
        "id": "IBBwJ0LSxhH3"
      },
      "source": [
        "No_of_prospect_education = loan.groupby('education')['response'].count().reset_index(name = 'No_of_prospects')"
      ],
      "execution_count": 160,
      "outputs": []
    },
    {
      "cell_type": "code",
      "metadata": {
        "id": "5FQpggCgxhH6"
      },
      "source": [
        "agg_education = count_prospects_education.merge(No_of_prospect_education, on = 'education')"
      ],
      "execution_count": 161,
      "outputs": []
    },
    {
      "cell_type": "code",
      "metadata": {
        "id": "GW4vzKigxhH8"
      },
      "source": [
        "agg_education['response_rate'] = 100*(agg_education['count_prospects']/agg_education['No_of_prospects']).round(4)"
      ],
      "execution_count": 162,
      "outputs": []
    },
    {
      "cell_type": "code",
      "metadata": {
        "id": "NF29LwDwxhH_",
        "outputId": "589872ef-401b-455c-fac7-16cb1369c234",
        "colab": {
          "base_uri": "https://localhost:8080/",
          "height": 202
        }
      },
      "source": [
        "agg_education"
      ],
      "execution_count": 163,
      "outputs": [
        {
          "output_type": "execute_result",
          "data": {
            "text/html": [
              "<div>\n",
              "<style scoped>\n",
              "    .dataframe tbody tr th:only-of-type {\n",
              "        vertical-align: middle;\n",
              "    }\n",
              "\n",
              "    .dataframe tbody tr th {\n",
              "        vertical-align: top;\n",
              "    }\n",
              "\n",
              "    .dataframe thead th {\n",
              "        text-align: right;\n",
              "    }\n",
              "</style>\n",
              "<table border=\"1\" class=\"dataframe\">\n",
              "  <thead>\n",
              "    <tr style=\"text-align: right;\">\n",
              "      <th></th>\n",
              "      <th>education</th>\n",
              "      <th>count_prospects</th>\n",
              "      <th>No_of_prospects</th>\n",
              "      <th>response_rate</th>\n",
              "    </tr>\n",
              "  </thead>\n",
              "  <tbody>\n",
              "    <tr>\n",
              "      <th>0</th>\n",
              "      <td>Primary_Education</td>\n",
              "      <td>1093</td>\n",
              "      <td>12531</td>\n",
              "      <td>8.72</td>\n",
              "    </tr>\n",
              "    <tr>\n",
              "      <th>1</th>\n",
              "      <td>Secondary_Education</td>\n",
              "      <td>1031</td>\n",
              "      <td>9515</td>\n",
              "      <td>10.84</td>\n",
              "    </tr>\n",
              "    <tr>\n",
              "      <th>2</th>\n",
              "      <td>Tertiary_Education</td>\n",
              "      <td>1670</td>\n",
              "      <td>12168</td>\n",
              "      <td>13.72</td>\n",
              "    </tr>\n",
              "    <tr>\n",
              "      <th>3</th>\n",
              "      <td>professional.course</td>\n",
              "      <td>595</td>\n",
              "      <td>5243</td>\n",
              "      <td>11.35</td>\n",
              "    </tr>\n",
              "    <tr>\n",
              "      <th>4</th>\n",
              "      <td>unknown</td>\n",
              "      <td>251</td>\n",
              "      <td>1731</td>\n",
              "      <td>14.50</td>\n",
              "    </tr>\n",
              "  </tbody>\n",
              "</table>\n",
              "</div>"
            ],
            "text/plain": [
              "             education  count_prospects  No_of_prospects  response_rate\n",
              "0    Primary_Education             1093            12531           8.72\n",
              "1  Secondary_Education             1031             9515          10.84\n",
              "2   Tertiary_Education             1670            12168          13.72\n",
              "3  professional.course              595             5243          11.35\n",
              "4              unknown              251             1731          14.50"
            ]
          },
          "metadata": {
            "tags": []
          },
          "execution_count": 163
        }
      ]
    },
    {
      "cell_type": "code",
      "metadata": {
        "id": "6_EJb79bxhIB",
        "outputId": "40521032-dfb2-4094-e442-f6c4b639bb83",
        "colab": {
          "base_uri": "https://localhost:8080/",
          "height": 333
        }
      },
      "source": [
        "ax = sns.barplot(x='education', y='response_rate', data=agg_education)\n",
        "ax.set_xticklabels(ax.get_xticklabels(),rotation=30)\n",
        "plt.show()"
      ],
      "execution_count": 164,
      "outputs": [
        {
          "output_type": "display_data",
          "data": {
            "image/png": "[encoded data removed]",
            "text/plain": [
              "<Figure size 432x288 with 1 Axes>"
            ]
          },
          "metadata": {
            "tags": [],
            "needs_background": "light"
          }
        }
      ]
    },
    {
      "cell_type": "markdown",
      "metadata": {
        "id": "z7Jh18VcxhIG"
      },
      "source": [
        "You can note that the response rate is lowest for people with highest education qualification as primary education, which may be attributed, in part, to lack of awareness and a lack of trust between the bank and the customer. It is the highest for people with tertiary education."
      ]
    },
    {
      "cell_type": "markdown",
      "metadata": {
        "id": "xOD9AWpKxhIH"
      },
      "source": [
        "#### Previous Default"
      ]
    },
    {
      "cell_type": "code",
      "metadata": {
        "id": "uP5AWNXzxhIH",
        "outputId": "3e7aa4e0-6be6-425e-9f84-6b5c717097a6",
        "colab": {
          "base_uri": "https://localhost:8080/",
          "height": 87
        }
      },
      "source": [
        "loan['default'].value_counts()"
      ],
      "execution_count": 165,
      "outputs": [
        {
          "output_type": "execute_result",
          "data": {
            "text/plain": [
              "no         32588\n",
              "unknown     8597\n",
              "yes            3\n",
              "Name: default, dtype: int64"
            ]
          },
          "metadata": {
            "tags": []
          },
          "execution_count": 165
        }
      ]
    },
    {
      "cell_type": "code",
      "metadata": {
        "id": "j8ZB2O8SxhIJ"
      },
      "source": [
        "count_prospects_default = loan.groupby('default')['response'].sum().reset_index(name = 'count_prospects')"
      ],
      "execution_count": 166,
      "outputs": []
    },
    {
      "cell_type": "code",
      "metadata": {
        "id": "10AgLtRIxhIO"
      },
      "source": [
        "No_of_prospect_default = loan.groupby('default')['response'].count().reset_index(name = 'No_of_prospects')"
      ],
      "execution_count": 167,
      "outputs": []
    },
    {
      "cell_type": "code",
      "metadata": {
        "id": "mqUDy41xxhIQ"
      },
      "source": [
        "agg_default = count_prospects_default.merge(No_of_prospect_default, on = 'default')"
      ],
      "execution_count": 168,
      "outputs": []
    },
    {
      "cell_type": "code",
      "metadata": {
        "id": "3s2Z3z8WxhIU"
      },
      "source": [
        "agg_default['response_rate'] = 100*(agg_default['count_prospects']/agg_default['No_of_prospects']).round(4)"
      ],
      "execution_count": 169,
      "outputs": []
    },
    {
      "cell_type": "code",
      "metadata": {
        "id": "5T_5Q7Y0xhIW",
        "outputId": "0655314d-aa45-479b-ee02-b23f34898ed9",
        "colab": {
          "base_uri": "https://localhost:8080/",
          "height": 141
        }
      },
      "source": [
        "agg_default"
      ],
      "execution_count": 170,
      "outputs": [
        {
          "output_type": "execute_result",
          "data": {
            "text/html": [
              "<div>\n",
              "<style scoped>\n",
              "    .dataframe tbody tr th:only-of-type {\n",
              "        vertical-align: middle;\n",
              "    }\n",
              "\n",
              "    .dataframe tbody tr th {\n",
              "        vertical-align: top;\n",
              "    }\n",
              "\n",
              "    .dataframe thead th {\n",
              "        text-align: right;\n",
              "    }\n",
              "</style>\n",
              "<table border=\"1\" class=\"dataframe\">\n",
              "  <thead>\n",
              "    <tr style=\"text-align: right;\">\n",
              "      <th></th>\n",
              "      <th>default</th>\n",
              "      <th>count_prospects</th>\n",
              "      <th>No_of_prospects</th>\n",
              "      <th>response_rate</th>\n",
              "    </tr>\n",
              "  </thead>\n",
              "  <tbody>\n",
              "    <tr>\n",
              "      <th>0</th>\n",
              "      <td>no</td>\n",
              "      <td>4197</td>\n",
              "      <td>32588</td>\n",
              "      <td>12.88</td>\n",
              "    </tr>\n",
              "    <tr>\n",
              "      <th>1</th>\n",
              "      <td>unknown</td>\n",
              "      <td>443</td>\n",
              "      <td>8597</td>\n",
              "      <td>5.15</td>\n",
              "    </tr>\n",
              "    <tr>\n",
              "      <th>2</th>\n",
              "      <td>yes</td>\n",
              "      <td>0</td>\n",
              "      <td>3</td>\n",
              "      <td>0.00</td>\n",
              "    </tr>\n",
              "  </tbody>\n",
              "</table>\n",
              "</div>"
            ],
            "text/plain": [
              "   default  count_prospects  No_of_prospects  response_rate\n",
              "0       no             4197            32588          12.88\n",
              "1  unknown              443             8597           5.15\n",
              "2      yes                0                3           0.00"
            ]
          },
          "metadata": {
            "tags": []
          },
          "execution_count": 170
        }
      ]
    },
    {
      "cell_type": "code",
      "metadata": {
        "id": "vnKhxA7axhIa",
        "outputId": "c5b81c47-52d6-4eb8-cec4-6b327a2c4d4b",
        "colab": {
          "base_uri": "https://localhost:8080/",
          "height": 279
        }
      },
      "source": [
        "ax = sns.barplot(x='default', y='response_rate', data=agg_default)\n",
        "ax.set_xticklabels(ax.get_xticklabels(),rotation=0)\n",
        "plt.show()"
      ],
      "execution_count": 171,
      "outputs": [
        {
          "output_type": "display_data",
          "data": {
            "image/png": "[encoded data removed]",
            "text/plain": [
              "<Figure size 432x288 with 1 Axes>"
            ]
          },
          "metadata": {
            "tags": [],
            "needs_background": "light"
          }
        }
      ]
    },
    {
      "cell_type": "markdown",
      "metadata": {
        "id": "5PtOcEeIxhIc"
      },
      "source": [
        "#### Housing"
      ]
    },
    {
      "cell_type": "code",
      "metadata": {
        "id": "6EKVscCJxhId",
        "outputId": "1ed1089d-febf-4506-b2b4-2c907f145f87",
        "colab": {
          "base_uri": "https://localhost:8080/",
          "height": 87
        }
      },
      "source": [
        "loan['housing'].value_counts()"
      ],
      "execution_count": 172,
      "outputs": [
        {
          "output_type": "execute_result",
          "data": {
            "text/plain": [
              "yes        21576\n",
              "no         18622\n",
              "unknown      990\n",
              "Name: housing, dtype: int64"
            ]
          },
          "metadata": {
            "tags": []
          },
          "execution_count": 172
        }
      ]
    },
    {
      "cell_type": "code",
      "metadata": {
        "id": "Q3tImg1mxhIf"
      },
      "source": [
        "count_prospects_housing = loan.groupby('housing')['response'].sum().reset_index(name = 'count_prospects')"
      ],
      "execution_count": 173,
      "outputs": []
    },
    {
      "cell_type": "code",
      "metadata": {
        "id": "WJ-7fWA9xhIh"
      },
      "source": [
        "No_of_prospect_housing = loan.groupby('housing')['response'].count().reset_index(name = 'No_of_prospects')"
      ],
      "execution_count": 174,
      "outputs": []
    },
    {
      "cell_type": "code",
      "metadata": {
        "id": "F4LqubQxxhIj"
      },
      "source": [
        "agg_housing = count_prospects_housing.merge(No_of_prospect_housing, on = 'housing')"
      ],
      "execution_count": 175,
      "outputs": []
    },
    {
      "cell_type": "code",
      "metadata": {
        "id": "Gw7JZHXmxhIm"
      },
      "source": [
        "agg_housing['response_rate'] = 100*(agg_housing['count_prospects']/agg_housing['No_of_prospects']).round(4)"
      ],
      "execution_count": 176,
      "outputs": []
    },
    {
      "cell_type": "code",
      "metadata": {
        "id": "XqRrZ0LtxhIo",
        "outputId": "3e2e524c-79f2-4568-d15e-5defeaba5af9",
        "colab": {
          "base_uri": "https://localhost:8080/",
          "height": 141
        }
      },
      "source": [
        "agg_housing"
      ],
      "execution_count": 177,
      "outputs": [
        {
          "output_type": "execute_result",
          "data": {
            "text/html": [
              "<div>\n",
              "<style scoped>\n",
              "    .dataframe tbody tr th:only-of-type {\n",
              "        vertical-align: middle;\n",
              "    }\n",
              "\n",
              "    .dataframe tbody tr th {\n",
              "        vertical-align: top;\n",
              "    }\n",
              "\n",
              "    .dataframe thead th {\n",
              "        text-align: right;\n",
              "    }\n",
              "</style>\n",
              "<table border=\"1\" class=\"dataframe\">\n",
              "  <thead>\n",
              "    <tr style=\"text-align: right;\">\n",
              "      <th></th>\n",
              "      <th>housing</th>\n",
              "      <th>count_prospects</th>\n",
              "      <th>No_of_prospects</th>\n",
              "      <th>response_rate</th>\n",
              "    </tr>\n",
              "  </thead>\n",
              "  <tbody>\n",
              "    <tr>\n",
              "      <th>0</th>\n",
              "      <td>no</td>\n",
              "      <td>2026</td>\n",
              "      <td>18622</td>\n",
              "      <td>10.88</td>\n",
              "    </tr>\n",
              "    <tr>\n",
              "      <th>1</th>\n",
              "      <td>unknown</td>\n",
              "      <td>107</td>\n",
              "      <td>990</td>\n",
              "      <td>10.81</td>\n",
              "    </tr>\n",
              "    <tr>\n",
              "      <th>2</th>\n",
              "      <td>yes</td>\n",
              "      <td>2507</td>\n",
              "      <td>21576</td>\n",
              "      <td>11.62</td>\n",
              "    </tr>\n",
              "  </tbody>\n",
              "</table>\n",
              "</div>"
            ],
            "text/plain": [
              "   housing  count_prospects  No_of_prospects  response_rate\n",
              "0       no             2026            18622          10.88\n",
              "1  unknown              107              990          10.81\n",
              "2      yes             2507            21576          11.62"
            ]
          },
          "metadata": {
            "tags": []
          },
          "execution_count": 177
        }
      ]
    },
    {
      "cell_type": "code",
      "metadata": {
        "id": "Wi-e4og2xhIq",
        "outputId": "45948881-a712-4045-d6db-d26f7aadbb1d",
        "colab": {
          "base_uri": "https://localhost:8080/",
          "height": 280
        }
      },
      "source": [
        "ax = sns.barplot(x='housing', y='response_rate', data=agg_housing)\n",
        "ax.set_xticklabels(ax.get_xticklabels(),rotation=0)\n",
        "plt.show()"
      ],
      "execution_count": 178,
      "outputs": [
        {
          "output_type": "display_data",
          "data": {
            "image/png": "[encoded data removed]",
            "text/plain": [
              "<Figure size 432x288 with 1 Axes>"
            ]
          },
          "metadata": {
            "tags": [],
            "needs_background": "light"
          }
        }
      ]
    },
    {
      "cell_type": "markdown",
      "metadata": {
        "id": "CH0Uy2mqxhIs"
      },
      "source": [
        "You can see that there is a slight uptick in the response rate for people with housing, though it is probably not very significant"
      ]
    },
    {
      "cell_type": "markdown",
      "metadata": {
        "id": "Qo8KGQ_6xhIs"
      },
      "source": [
        "#### Loan"
      ]
    },
    {
      "cell_type": "code",
      "metadata": {
        "id": "eTt92tNfxhIt",
        "outputId": "8e78bf83-5499-4fcf-dda2-9b376b2a6c8c",
        "colab": {
          "base_uri": "https://localhost:8080/",
          "height": 87
        }
      },
      "source": [
        "loan['loan'].value_counts()"
      ],
      "execution_count": 179,
      "outputs": [
        {
          "output_type": "execute_result",
          "data": {
            "text/plain": [
              "no         33950\n",
              "yes         6248\n",
              "unknown      990\n",
              "Name: loan, dtype: int64"
            ]
          },
          "metadata": {
            "tags": []
          },
          "execution_count": 179
        }
      ]
    },
    {
      "cell_type": "code",
      "metadata": {
        "id": "AXY3sCq7xhIu"
      },
      "source": [
        "count_prospects_loan = loan.groupby('loan')['response'].sum().reset_index(name = 'count_prospects')"
      ],
      "execution_count": 180,
      "outputs": []
    },
    {
      "cell_type": "code",
      "metadata": {
        "id": "pysM2y0gxhIw"
      },
      "source": [
        "No_of_prospect_loan = loan.groupby('loan')['response'].count().reset_index(name = 'No_of_prospects')"
      ],
      "execution_count": 181,
      "outputs": []
    },
    {
      "cell_type": "code",
      "metadata": {
        "id": "mO3M1Xn1xhIy"
      },
      "source": [
        "agg_loan = count_prospects_loan.merge(No_of_prospect_loan, on = 'loan')"
      ],
      "execution_count": 182,
      "outputs": []
    },
    {
      "cell_type": "code",
      "metadata": {
        "id": "0VhA59mjxhI0"
      },
      "source": [
        "agg_loan['response_rate'] = 100*(agg_loan['count_prospects']/agg_loan['No_of_prospects']).round(4)"
      ],
      "execution_count": 183,
      "outputs": []
    },
    {
      "cell_type": "code",
      "metadata": {
        "id": "2fSyQm8txhI1",
        "outputId": "fa8e7596-f9c2-4343-92a9-eeeaec25481d",
        "colab": {
          "base_uri": "https://localhost:8080/",
          "height": 141
        }
      },
      "source": [
        "agg_loan"
      ],
      "execution_count": 184,
      "outputs": [
        {
          "output_type": "execute_result",
          "data": {
            "text/html": [
              "<div>\n",
              "<style scoped>\n",
              "    .dataframe tbody tr th:only-of-type {\n",
              "        vertical-align: middle;\n",
              "    }\n",
              "\n",
              "    .dataframe tbody tr th {\n",
              "        vertical-align: top;\n",
              "    }\n",
              "\n",
              "    .dataframe thead th {\n",
              "        text-align: right;\n",
              "    }\n",
              "</style>\n",
              "<table border=\"1\" class=\"dataframe\">\n",
              "  <thead>\n",
              "    <tr style=\"text-align: right;\">\n",
              "      <th></th>\n",
              "      <th>loan</th>\n",
              "      <th>count_prospects</th>\n",
              "      <th>No_of_prospects</th>\n",
              "      <th>response_rate</th>\n",
              "    </tr>\n",
              "  </thead>\n",
              "  <tbody>\n",
              "    <tr>\n",
              "      <th>0</th>\n",
              "      <td>no</td>\n",
              "      <td>3850</td>\n",
              "      <td>33950</td>\n",
              "      <td>11.34</td>\n",
              "    </tr>\n",
              "    <tr>\n",
              "      <th>1</th>\n",
              "      <td>unknown</td>\n",
              "      <td>107</td>\n",
              "      <td>990</td>\n",
              "      <td>10.81</td>\n",
              "    </tr>\n",
              "    <tr>\n",
              "      <th>2</th>\n",
              "      <td>yes</td>\n",
              "      <td>683</td>\n",
              "      <td>6248</td>\n",
              "      <td>10.93</td>\n",
              "    </tr>\n",
              "  </tbody>\n",
              "</table>\n",
              "</div>"
            ],
            "text/plain": [
              "      loan  count_prospects  No_of_prospects  response_rate\n",
              "0       no             3850            33950          11.34\n",
              "1  unknown              107              990          10.81\n",
              "2      yes              683             6248          10.93"
            ]
          },
          "metadata": {
            "tags": []
          },
          "execution_count": 184
        }
      ]
    },
    {
      "cell_type": "code",
      "metadata": {
        "id": "4_TAsVS6xhI5",
        "outputId": "f4807c32-9d1b-4bb1-f977-0d5c19824f3a",
        "colab": {
          "base_uri": "https://localhost:8080/",
          "height": 279
        }
      },
      "source": [
        "ax = sns.barplot(x='loan', y='response_rate', data=agg_loan)\n",
        "ax.set_xticklabels(ax.get_xticklabels(),rotation=0)\n",
        "plt.show()"
      ],
      "execution_count": 185,
      "outputs": [
        {
          "output_type": "display_data",
          "data": {
            "image/png": "[encoded data removed]",
            "text/plain": [
              "<Figure size 432x288 with 1 Axes>"
            ]
          },
          "metadata": {
            "tags": [],
            "needs_background": "light"
          }
        }
      ]
    },
    {
      "cell_type": "markdown",
      "metadata": {
        "id": "951iKnNjxhI7"
      },
      "source": [
        "As you can see there seems to be very little correlation between a prospect having a personal loan and the likelihood of him/her responding positively to the investment product"
      ]
    },
    {
      "cell_type": "markdown",
      "metadata": {
        "id": "VM9FtHdwxhI7"
      },
      "source": [
        "Now that we have had a look at the client data, we will move to the last contact information.\n",
        "\n",
        "There are four features in the given dataset which cover this information. (Refer to the data dictionary for the same)\n",
        "\n",
        "- Contact: contact communication type\n",
        "- Month: last contact month of year\n",
        "- Day_of_week: last contact day of the week\n",
        "\n",
        "Please note that the attribute, duration highly affects the output target (e.g., if duration=0 then y='no'). Yet, the duration is not known before a call is performed. Also, after the end of the call y is obviously known. Thus, this input should only be included for benchmark purposes and should be discarded if the intention is to have a realistic predictive model."
      ]
    },
    {
      "cell_type": "markdown",
      "metadata": {
        "id": "nBtYEeZexhI8"
      },
      "source": [
        "#### Contact"
      ]
    },
    {
      "cell_type": "code",
      "metadata": {
        "id": "dSbujj8XxhI8",
        "outputId": "ffd8df16-6f55-4384-f776-732e97330c47",
        "colab": {
          "base_uri": "https://localhost:8080/",
          "height": 69
        }
      },
      "source": [
        "loan['contact'].value_counts()"
      ],
      "execution_count": 186,
      "outputs": [
        {
          "output_type": "execute_result",
          "data": {
            "text/plain": [
              "cellular     26144\n",
              "telephone    15044\n",
              "Name: contact, dtype: int64"
            ]
          },
          "metadata": {
            "tags": []
          },
          "execution_count": 186
        }
      ]
    },
    {
      "cell_type": "code",
      "metadata": {
        "id": "IS_Kb71YxhI-"
      },
      "source": [
        "count_prospects_contact = loan.groupby('contact')['response'].sum().reset_index(name = 'count_prospects')"
      ],
      "execution_count": 187,
      "outputs": []
    },
    {
      "cell_type": "code",
      "metadata": {
        "id": "t3kYJb1QxhI_"
      },
      "source": [
        "No_of_prospect_contact = loan.groupby('contact')['response'].count().reset_index(name = 'No_of_prospects')"
      ],
      "execution_count": 188,
      "outputs": []
    },
    {
      "cell_type": "code",
      "metadata": {
        "id": "tLERNeEyxhJB"
      },
      "source": [
        "agg_contact = count_prospects_contact.merge(No_of_prospect_contact, on = 'contact')"
      ],
      "execution_count": 189,
      "outputs": []
    },
    {
      "cell_type": "code",
      "metadata": {
        "id": "27IyJ3uJxhJC"
      },
      "source": [
        "agg_contact['response_rate'] = 100*(agg_contact['count_prospects']/agg_contact['No_of_prospects']).round(4)"
      ],
      "execution_count": 190,
      "outputs": []
    },
    {
      "cell_type": "code",
      "metadata": {
        "id": "aq8IhyDQxhJH",
        "outputId": "1d1c1b1d-7fe9-449a-c8a2-cd11a16cb92d",
        "colab": {
          "base_uri": "https://localhost:8080/",
          "height": 110
        }
      },
      "source": [
        "agg_contact"
      ],
      "execution_count": 191,
      "outputs": [
        {
          "output_type": "execute_result",
          "data": {
            "text/html": [
              "<div>\n",
              "<style scoped>\n",
              "    .dataframe tbody tr th:only-of-type {\n",
              "        vertical-align: middle;\n",
              "    }\n",
              "\n",
              "    .dataframe tbody tr th {\n",
              "        vertical-align: top;\n",
              "    }\n",
              "\n",
              "    .dataframe thead th {\n",
              "        text-align: right;\n",
              "    }\n",
              "</style>\n",
              "<table border=\"1\" class=\"dataframe\">\n",
              "  <thead>\n",
              "    <tr style=\"text-align: right;\">\n",
              "      <th></th>\n",
              "      <th>contact</th>\n",
              "      <th>count_prospects</th>\n",
              "      <th>No_of_prospects</th>\n",
              "      <th>response_rate</th>\n",
              "    </tr>\n",
              "  </thead>\n",
              "  <tbody>\n",
              "    <tr>\n",
              "      <th>0</th>\n",
              "      <td>cellular</td>\n",
              "      <td>3853</td>\n",
              "      <td>26144</td>\n",
              "      <td>14.74</td>\n",
              "    </tr>\n",
              "    <tr>\n",
              "      <th>1</th>\n",
              "      <td>telephone</td>\n",
              "      <td>787</td>\n",
              "      <td>15044</td>\n",
              "      <td>5.23</td>\n",
              "    </tr>\n",
              "  </tbody>\n",
              "</table>\n",
              "</div>"
            ],
            "text/plain": [
              "     contact  count_prospects  No_of_prospects  response_rate\n",
              "0   cellular             3853            26144          14.74\n",
              "1  telephone              787            15044           5.23"
            ]
          },
          "metadata": {
            "tags": []
          },
          "execution_count": 191
        }
      ]
    },
    {
      "cell_type": "code",
      "metadata": {
        "id": "rAMUq_NexhJJ",
        "outputId": "0e5f27af-f937-4960-91f6-f7a53d1bd99d",
        "colab": {
          "base_uri": "https://localhost:8080/",
          "height": 279
        }
      },
      "source": [
        "ax = sns.barplot(x='contact', y='response_rate', data=agg_contact)\n",
        "ax.set_xticklabels(ax.get_xticklabels(),rotation=0)\n",
        "plt.show()"
      ],
      "execution_count": 192,
      "outputs": [
        {
          "output_type": "display_data",
          "data": {
            "image/png": "[encoded data removed]",
            "text/plain": [
              "<Figure size 432x288 with 1 Axes>"
            ]
          },
          "metadata": {
            "tags": [],
            "needs_background": "light"
          }
        }
      ]
    },
    {
      "cell_type": "markdown",
      "metadata": {
        "id": "dRvfS9E1xhJK"
      },
      "source": [
        "You can see that the prospective customers contacted through cellular medium are significantly ore likely to opt in to the investment scheme compared to customers contacted through telephonic medium."
      ]
    },
    {
      "cell_type": "markdown",
      "metadata": {
        "id": "BTpTi5AWxhJL"
      },
      "source": [
        "#### Month"
      ]
    },
    {
      "cell_type": "code",
      "metadata": {
        "id": "dUWkgrw-xhJL",
        "outputId": "0bfba6b6-3120-42be-b7ec-ff5b1fd5ac28",
        "colab": {
          "base_uri": "https://localhost:8080/",
          "height": 208
        }
      },
      "source": [
        "loan['month'].value_counts()"
      ],
      "execution_count": 193,
      "outputs": [
        {
          "output_type": "execute_result",
          "data": {
            "text/plain": [
              "may    13769\n",
              "jul     7174\n",
              "aug     6178\n",
              "jun     5318\n",
              "nov     4101\n",
              "apr     2632\n",
              "oct      718\n",
              "sep      570\n",
              "mar      546\n",
              "dec      182\n",
              "Name: month, dtype: int64"
            ]
          },
          "metadata": {
            "tags": []
          },
          "execution_count": 193
        }
      ]
    },
    {
      "cell_type": "code",
      "metadata": {
        "id": "VSTtERaKxhJN"
      },
      "source": [
        "count_prospects_month = loan.groupby('month')['response'].sum().reset_index(name = 'count_prospects')"
      ],
      "execution_count": 194,
      "outputs": []
    },
    {
      "cell_type": "code",
      "metadata": {
        "id": "sZ9Jai48xhJO"
      },
      "source": [
        "No_of_prospect_month = loan.groupby('month')['response'].count().reset_index(name = 'No_of_prospects')"
      ],
      "execution_count": 195,
      "outputs": []
    },
    {
      "cell_type": "code",
      "metadata": {
        "id": "6eaFSywWxhJR"
      },
      "source": [
        "agg_month = count_prospects_month.merge(No_of_prospect_month, on = 'month')"
      ],
      "execution_count": 196,
      "outputs": []
    },
    {
      "cell_type": "code",
      "metadata": {
        "id": "LrQoquQfxhJS"
      },
      "source": [
        "agg_month['response_rate'] = 100*(agg_month['count_prospects']/agg_month['No_of_prospects']).round(4)"
      ],
      "execution_count": 197,
      "outputs": []
    },
    {
      "cell_type": "code",
      "metadata": {
        "id": "OPEZ3KFjxhJU",
        "outputId": "8ca1204f-d622-489d-b5a3-1052cd344709",
        "colab": {
          "base_uri": "https://localhost:8080/",
          "height": 355
        }
      },
      "source": [
        "agg_month"
      ],
      "execution_count": 198,
      "outputs": [
        {
          "output_type": "execute_result",
          "data": {
            "text/html": [
              "<div>\n",
              "<style scoped>\n",
              "    .dataframe tbody tr th:only-of-type {\n",
              "        vertical-align: middle;\n",
              "    }\n",
              "\n",
              "    .dataframe tbody tr th {\n",
              "        vertical-align: top;\n",
              "    }\n",
              "\n",
              "    .dataframe thead th {\n",
              "        text-align: right;\n",
              "    }\n",
              "</style>\n",
              "<table border=\"1\" class=\"dataframe\">\n",
              "  <thead>\n",
              "    <tr style=\"text-align: right;\">\n",
              "      <th></th>\n",
              "      <th>month</th>\n",
              "      <th>count_prospects</th>\n",
              "      <th>No_of_prospects</th>\n",
              "      <th>response_rate</th>\n",
              "    </tr>\n",
              "  </thead>\n",
              "  <tbody>\n",
              "    <tr>\n",
              "      <th>0</th>\n",
              "      <td>apr</td>\n",
              "      <td>539</td>\n",
              "      <td>2632</td>\n",
              "      <td>20.48</td>\n",
              "    </tr>\n",
              "    <tr>\n",
              "      <th>1</th>\n",
              "      <td>aug</td>\n",
              "      <td>655</td>\n",
              "      <td>6178</td>\n",
              "      <td>10.60</td>\n",
              "    </tr>\n",
              "    <tr>\n",
              "      <th>2</th>\n",
              "      <td>dec</td>\n",
              "      <td>89</td>\n",
              "      <td>182</td>\n",
              "      <td>48.90</td>\n",
              "    </tr>\n",
              "    <tr>\n",
              "      <th>3</th>\n",
              "      <td>jul</td>\n",
              "      <td>649</td>\n",
              "      <td>7174</td>\n",
              "      <td>9.05</td>\n",
              "    </tr>\n",
              "    <tr>\n",
              "      <th>4</th>\n",
              "      <td>jun</td>\n",
              "      <td>559</td>\n",
              "      <td>5318</td>\n",
              "      <td>10.51</td>\n",
              "    </tr>\n",
              "    <tr>\n",
              "      <th>5</th>\n",
              "      <td>mar</td>\n",
              "      <td>276</td>\n",
              "      <td>546</td>\n",
              "      <td>50.55</td>\n",
              "    </tr>\n",
              "    <tr>\n",
              "      <th>6</th>\n",
              "      <td>may</td>\n",
              "      <td>886</td>\n",
              "      <td>13769</td>\n",
              "      <td>6.43</td>\n",
              "    </tr>\n",
              "    <tr>\n",
              "      <th>7</th>\n",
              "      <td>nov</td>\n",
              "      <td>416</td>\n",
              "      <td>4101</td>\n",
              "      <td>10.14</td>\n",
              "    </tr>\n",
              "    <tr>\n",
              "      <th>8</th>\n",
              "      <td>oct</td>\n",
              "      <td>315</td>\n",
              "      <td>718</td>\n",
              "      <td>43.87</td>\n",
              "    </tr>\n",
              "    <tr>\n",
              "      <th>9</th>\n",
              "      <td>sep</td>\n",
              "      <td>256</td>\n",
              "      <td>570</td>\n",
              "      <td>44.91</td>\n",
              "    </tr>\n",
              "  </tbody>\n",
              "</table>\n",
              "</div>"
            ],
            "text/plain": [
              "  month  count_prospects  No_of_prospects  response_rate\n",
              "0   apr              539             2632          20.48\n",
              "1   aug              655             6178          10.60\n",
              "2   dec               89              182          48.90\n",
              "3   jul              649             7174           9.05\n",
              "4   jun              559             5318          10.51\n",
              "5   mar              276              546          50.55\n",
              "6   may              886            13769           6.43\n",
              "7   nov              416             4101          10.14\n",
              "8   oct              315              718          43.87\n",
              "9   sep              256              570          44.91"
            ]
          },
          "metadata": {
            "tags": []
          },
          "execution_count": 198
        }
      ]
    },
    {
      "cell_type": "code",
      "metadata": {
        "id": "0D-SB5FdxhJW",
        "outputId": "9a653fff-8b76-41db-a5cd-1efde5dc2ce8",
        "colab": {
          "base_uri": "https://localhost:8080/",
          "height": 279
        }
      },
      "source": [
        "ax = sns.barplot(x='month', y='response_rate', data=agg_month)\n",
        "ax.set_xticklabels(ax.get_xticklabels(),rotation=0)\n",
        "plt.show()"
      ],
      "execution_count": 199,
      "outputs": [
        {
          "output_type": "display_data",
          "data": {
            "image/png": "[encoded data removed]",
            "text/plain": [
              "<Figure size 432x288 with 1 Axes>"
            ]
          },
          "metadata": {
            "tags": [],
            "needs_background": "light"
          }
        }
      ]
    },
    {
      "cell_type": "markdown",
      "metadata": {
        "id": "USRV78EhxhJY"
      },
      "source": [
        "We can note that the four months of december, march, october and september appear to be the best to contact the potential customers. However, please note that these our months have the fewest data entries as well, so it is not certain, how well it would behave when calls are made at a high volume."
      ]
    },
    {
      "cell_type": "markdown",
      "metadata": {
        "id": "q67_o7e9xhJY"
      },
      "source": [
        "#### Day of the week"
      ]
    },
    {
      "cell_type": "code",
      "metadata": {
        "id": "khxIiexBxhJZ",
        "outputId": "526b854e-0db5-4b72-9c5b-c3527da96bf8",
        "colab": {
          "base_uri": "https://localhost:8080/",
          "height": 121
        }
      },
      "source": [
        "loan['day_of_week'].value_counts()"
      ],
      "execution_count": 200,
      "outputs": [
        {
          "output_type": "execute_result",
          "data": {
            "text/plain": [
              "thu    8623\n",
              "mon    8514\n",
              "wed    8134\n",
              "tue    8090\n",
              "fri    7827\n",
              "Name: day_of_week, dtype: int64"
            ]
          },
          "metadata": {
            "tags": []
          },
          "execution_count": 200
        }
      ]
    },
    {
      "cell_type": "code",
      "metadata": {
        "id": "65vkwHqTxhJa"
      },
      "source": [
        "count_prospects_day = loan.groupby('day_of_week')['response'].sum().reset_index(name = 'count_prospects')"
      ],
      "execution_count": 201,
      "outputs": []
    },
    {
      "cell_type": "code",
      "metadata": {
        "id": "Dwbw7CVexhJb"
      },
      "source": [
        "No_of_prospect_day = loan.groupby('day_of_week')['response'].count().reset_index(name = 'No_of_prospects')"
      ],
      "execution_count": 202,
      "outputs": []
    },
    {
      "cell_type": "code",
      "metadata": {
        "id": "ucdR2KmYxhJd"
      },
      "source": [
        "agg_day = count_prospects_day.merge(No_of_prospect_day, on = 'day_of_week')"
      ],
      "execution_count": 203,
      "outputs": []
    },
    {
      "cell_type": "code",
      "metadata": {
        "id": "2MVolfQ1xhJe"
      },
      "source": [
        "agg_day['response_rate'] = 100*(agg_day['count_prospects']/agg_day['No_of_prospects']).round(4)"
      ],
      "execution_count": 204,
      "outputs": []
    },
    {
      "cell_type": "code",
      "metadata": {
        "id": "4D2J5aSLxhJg",
        "outputId": "9a1c08c0-a555-4f85-d4df-8ac47cb73391",
        "colab": {
          "base_uri": "https://localhost:8080/",
          "height": 202
        }
      },
      "source": [
        "agg_day"
      ],
      "execution_count": 205,
      "outputs": [
        {
          "output_type": "execute_result",
          "data": {
            "text/html": [
              "<div>\n",
              "<style scoped>\n",
              "    .dataframe tbody tr th:only-of-type {\n",
              "        vertical-align: middle;\n",
              "    }\n",
              "\n",
              "    .dataframe tbody tr th {\n",
              "        vertical-align: top;\n",
              "    }\n",
              "\n",
              "    .dataframe thead th {\n",
              "        text-align: right;\n",
              "    }\n",
              "</style>\n",
              "<table border=\"1\" class=\"dataframe\">\n",
              "  <thead>\n",
              "    <tr style=\"text-align: right;\">\n",
              "      <th></th>\n",
              "      <th>day_of_week</th>\n",
              "      <th>count_prospects</th>\n",
              "      <th>No_of_prospects</th>\n",
              "      <th>response_rate</th>\n",
              "    </tr>\n",
              "  </thead>\n",
              "  <tbody>\n",
              "    <tr>\n",
              "      <th>0</th>\n",
              "      <td>fri</td>\n",
              "      <td>846</td>\n",
              "      <td>7827</td>\n",
              "      <td>10.81</td>\n",
              "    </tr>\n",
              "    <tr>\n",
              "      <th>1</th>\n",
              "      <td>mon</td>\n",
              "      <td>847</td>\n",
              "      <td>8514</td>\n",
              "      <td>9.95</td>\n",
              "    </tr>\n",
              "    <tr>\n",
              "      <th>2</th>\n",
              "      <td>thu</td>\n",
              "      <td>1045</td>\n",
              "      <td>8623</td>\n",
              "      <td>12.12</td>\n",
              "    </tr>\n",
              "    <tr>\n",
              "      <th>3</th>\n",
              "      <td>tue</td>\n",
              "      <td>953</td>\n",
              "      <td>8090</td>\n",
              "      <td>11.78</td>\n",
              "    </tr>\n",
              "    <tr>\n",
              "      <th>4</th>\n",
              "      <td>wed</td>\n",
              "      <td>949</td>\n",
              "      <td>8134</td>\n",
              "      <td>11.67</td>\n",
              "    </tr>\n",
              "  </tbody>\n",
              "</table>\n",
              "</div>"
            ],
            "text/plain": [
              "  day_of_week  count_prospects  No_of_prospects  response_rate\n",
              "0         fri              846             7827          10.81\n",
              "1         mon              847             8514           9.95\n",
              "2         thu             1045             8623          12.12\n",
              "3         tue              953             8090          11.78\n",
              "4         wed              949             8134          11.67"
            ]
          },
          "metadata": {
            "tags": []
          },
          "execution_count": 205
        }
      ]
    },
    {
      "cell_type": "code",
      "metadata": {
        "id": "n5TcXSg_xhJh",
        "outputId": "adb439e5-8ede-43d6-c386-6523d16cc6a2",
        "colab": {
          "base_uri": "https://localhost:8080/",
          "height": 280
        }
      },
      "source": [
        "ax = sns.barplot(x='day_of_week', y='response_rate', data=agg_day)\n",
        "ax.set_xticklabels(ax.get_xticklabels(),rotation=0)\n",
        "plt.show()"
      ],
      "execution_count": 206,
      "outputs": [
        {
          "output_type": "display_data",
          "data": {
            "image/png": "[encoded data removed]",
            "text/plain": [
              "<Figure size 432x288 with 1 Axes>"
            ]
          },
          "metadata": {
            "tags": [],
            "needs_background": "light"
          }
        }
      ]
    },
    {
      "cell_type": "markdown",
      "metadata": {
        "id": "rIRH7GLuxhJj"
      },
      "source": [
        "As you can note that response rate is lowest on monday, while being highest on thursday. However, the gap isn't very big."
      ]
    },
    {
      "cell_type": "markdown",
      "metadata": {
        "id": "GOovP-dxxhJj"
      },
      "source": [
        "Now that we have looked at client data and the data related to last contact, we will look at some of the other attributes.\n",
        "\n",
        "- Campaign: number of contacts performed during this campaign and for this client\n",
        "- Pdays: number of days that passed by after the client was last contacted from a previous campaign\n",
        "- Previous: number of contacts performed before this campaign and for this client\n",
        "- Poutcome: outcome of the previous marketing campaign"
      ]
    },
    {
      "cell_type": "markdown",
      "metadata": {
        "id": "oCXvapcGxhJj"
      },
      "source": [
        "#### Campaign"
      ]
    },
    {
      "cell_type": "code",
      "metadata": {
        "id": "TNexre0FxhJk",
        "outputId": "d98fbdd5-d157-4e0a-a32c-de818b39e3fd",
        "colab": {
          "base_uri": "https://localhost:8080/",
          "height": 763
        }
      },
      "source": [
        "loan['campaign'].value_counts()"
      ],
      "execution_count": 207,
      "outputs": [
        {
          "output_type": "execute_result",
          "data": {
            "text/plain": [
              "1     17642\n",
              "2     10570\n",
              "3      5341\n",
              "4      2651\n",
              "5      1599\n",
              "6       979\n",
              "7       629\n",
              "8       400\n",
              "9       283\n",
              "10      225\n",
              "11      177\n",
              "12      125\n",
              "13       92\n",
              "14       69\n",
              "17       58\n",
              "15       51\n",
              "16       51\n",
              "18       33\n",
              "20       30\n",
              "19       26\n",
              "21       24\n",
              "22       17\n",
              "23       16\n",
              "24       15\n",
              "27       11\n",
              "29       10\n",
              "25        8\n",
              "26        8\n",
              "28        8\n",
              "30        7\n",
              "31        7\n",
              "35        5\n",
              "33        4\n",
              "32        4\n",
              "34        3\n",
              "40        2\n",
              "42        2\n",
              "43        2\n",
              "37        1\n",
              "39        1\n",
              "41        1\n",
              "56        1\n",
              "Name: campaign, dtype: int64"
            ]
          },
          "metadata": {
            "tags": []
          },
          "execution_count": 207
        }
      ]
    },
    {
      "cell_type": "code",
      "metadata": {
        "id": "-bo8Z-z7xhJl",
        "outputId": "1961132c-c9ed-42ca-a4fe-a8e81d982551",
        "colab": {
          "base_uri": "https://localhost:8080/",
          "height": 279
        }
      },
      "source": [
        "sns.distplot(loan['campaign'])\n",
        "plt.show()"
      ],
      "execution_count": 208,
      "outputs": [
        {
          "output_type": "display_data",
          "data": {
            "image/png": "[encoded data removed]",
            "text/plain": [
              "<Figure size 432x288 with 1 Axes>"
            ]
          },
          "metadata": {
            "tags": [],
            "needs_background": "light"
          }
        }
      ]
    },
    {
      "cell_type": "code",
      "metadata": {
        "id": "QTauRVmNxhJo",
        "outputId": "4c68ff56-c004-43ea-ea15-6a0fc59afc9f",
        "colab": {
          "base_uri": "https://localhost:8080/",
          "height": 279
        }
      },
      "source": [
        "# We will create a box plot\n",
        "\n",
        "sns.boxplot(x='campaign', data=loan)\n",
        "plt.show()"
      ],
      "execution_count": 209,
      "outputs": [
        {
          "output_type": "display_data",
          "data": {
            "image/png": "[encoded data removed]",
            "text/plain": [
              "<Figure size 432x288 with 1 Axes>"
            ]
          },
          "metadata": {
            "tags": [],
            "needs_background": "light"
          }
        }
      ]
    },
    {
      "cell_type": "code",
      "metadata": {
        "id": "eFAoAVZexhJp",
        "outputId": "6dbfc30a-f1e3-457c-8eec-4fd8be5fc124",
        "colab": {
          "base_uri": "https://localhost:8080/",
          "height": 208
        }
      },
      "source": [
        "loan['campaign'].describe(percentiles = [0.25,0.50,0.75,0.95,0.99])"
      ],
      "execution_count": 210,
      "outputs": [
        {
          "output_type": "execute_result",
          "data": {
            "text/plain": [
              "count    41188.000000\n",
              "mean         2.567593\n",
              "std          2.770014\n",
              "min          1.000000\n",
              "25%          1.000000\n",
              "50%          2.000000\n",
              "75%          3.000000\n",
              "95%          7.000000\n",
              "99%         14.000000\n",
              "max         56.000000\n",
              "Name: campaign, dtype: float64"
            ]
          },
          "metadata": {
            "tags": []
          },
          "execution_count": 210
        }
      ]
    },
    {
      "cell_type": "markdown",
      "metadata": {
        "id": "hzwk0RHaxhJr"
      },
      "source": [
        "Once again, we can merga all data entries with contacts greater than 14 as having campaign contact as 14"
      ]
    },
    {
      "cell_type": "code",
      "metadata": {
        "id": "RQuUd_u1xhJs"
      },
      "source": [
        "loan['campaign'][loan['campaign']>14] =14"
      ],
      "execution_count": 211,
      "outputs": []
    },
    {
      "cell_type": "code",
      "metadata": {
        "id": "2kOi8VRzxhJu",
        "outputId": "50cb16f4-3154-4b08-84dd-7558dc9c0e9d",
        "colab": {
          "base_uri": "https://localhost:8080/",
          "height": 279
        }
      },
      "source": [
        "sns.countplot(loan['campaign'])\n",
        "plt.show()"
      ],
      "execution_count": 212,
      "outputs": [
        {
          "output_type": "display_data",
          "data": {
            "image/png": "[encoded data removed]",
            "text/plain": [
              "<Figure size 432x288 with 1 Axes>"
            ]
          },
          "metadata": {
            "tags": [],
            "needs_background": "light"
          }
        }
      ]
    },
    {
      "cell_type": "code",
      "metadata": {
        "id": "9sbu35W9xhJv"
      },
      "source": [
        "count_prospects_campaign = loan.groupby('campaign')['response'].sum().reset_index(name = 'count_prospects')"
      ],
      "execution_count": 213,
      "outputs": []
    },
    {
      "cell_type": "code",
      "metadata": {
        "id": "rzE8qpWUxhJw"
      },
      "source": [
        "No_of_prospect_campaign = loan.groupby('campaign')['response'].count().reset_index(name = 'No_of_prospects')"
      ],
      "execution_count": 214,
      "outputs": []
    },
    {
      "cell_type": "code",
      "metadata": {
        "id": "Lhux4KBBxhJy"
      },
      "source": [
        "agg_campaign = count_prospects_campaign.merge(No_of_prospect_campaign, on = 'campaign')"
      ],
      "execution_count": 215,
      "outputs": []
    },
    {
      "cell_type": "code",
      "metadata": {
        "id": "TMhoRgj3xhJz"
      },
      "source": [
        "agg_campaign['response_rate'] = 100*(agg_campaign['count_prospects']/agg_campaign['No_of_prospects']).round(4)"
      ],
      "execution_count": 216,
      "outputs": []
    },
    {
      "cell_type": "code",
      "metadata": {
        "id": "jaEp9r82xhJ1",
        "outputId": "01759ae4-3fac-4440-bb37-017989dbf3dd",
        "colab": {
          "base_uri": "https://localhost:8080/",
          "height": 478
        }
      },
      "source": [
        "agg_campaign"
      ],
      "execution_count": 217,
      "outputs": [
        {
          "output_type": "execute_result",
          "data": {
            "text/html": [
              "<div>\n",
              "<style scoped>\n",
              "    .dataframe tbody tr th:only-of-type {\n",
              "        vertical-align: middle;\n",
              "    }\n",
              "\n",
              "    .dataframe tbody tr th {\n",
              "        vertical-align: top;\n",
              "    }\n",
              "\n",
              "    .dataframe thead th {\n",
              "        text-align: right;\n",
              "    }\n",
              "</style>\n",
              "<table border=\"1\" class=\"dataframe\">\n",
              "  <thead>\n",
              "    <tr style=\"text-align: right;\">\n",
              "      <th></th>\n",
              "      <th>campaign</th>\n",
              "      <th>count_prospects</th>\n",
              "      <th>No_of_prospects</th>\n",
              "      <th>response_rate</th>\n",
              "    </tr>\n",
              "  </thead>\n",
              "  <tbody>\n",
              "    <tr>\n",
              "      <th>0</th>\n",
              "      <td>1</td>\n",
              "      <td>2300</td>\n",
              "      <td>17642</td>\n",
              "      <td>13.04</td>\n",
              "    </tr>\n",
              "    <tr>\n",
              "      <th>1</th>\n",
              "      <td>2</td>\n",
              "      <td>1211</td>\n",
              "      <td>10570</td>\n",
              "      <td>11.46</td>\n",
              "    </tr>\n",
              "    <tr>\n",
              "      <th>2</th>\n",
              "      <td>3</td>\n",
              "      <td>574</td>\n",
              "      <td>5341</td>\n",
              "      <td>10.75</td>\n",
              "    </tr>\n",
              "    <tr>\n",
              "      <th>3</th>\n",
              "      <td>4</td>\n",
              "      <td>249</td>\n",
              "      <td>2651</td>\n",
              "      <td>9.39</td>\n",
              "    </tr>\n",
              "    <tr>\n",
              "      <th>4</th>\n",
              "      <td>5</td>\n",
              "      <td>120</td>\n",
              "      <td>1599</td>\n",
              "      <td>7.50</td>\n",
              "    </tr>\n",
              "    <tr>\n",
              "      <th>5</th>\n",
              "      <td>6</td>\n",
              "      <td>75</td>\n",
              "      <td>979</td>\n",
              "      <td>7.66</td>\n",
              "    </tr>\n",
              "    <tr>\n",
              "      <th>6</th>\n",
              "      <td>7</td>\n",
              "      <td>38</td>\n",
              "      <td>629</td>\n",
              "      <td>6.04</td>\n",
              "    </tr>\n",
              "    <tr>\n",
              "      <th>7</th>\n",
              "      <td>8</td>\n",
              "      <td>17</td>\n",
              "      <td>400</td>\n",
              "      <td>4.25</td>\n",
              "    </tr>\n",
              "    <tr>\n",
              "      <th>8</th>\n",
              "      <td>9</td>\n",
              "      <td>17</td>\n",
              "      <td>283</td>\n",
              "      <td>6.01</td>\n",
              "    </tr>\n",
              "    <tr>\n",
              "      <th>9</th>\n",
              "      <td>10</td>\n",
              "      <td>12</td>\n",
              "      <td>225</td>\n",
              "      <td>5.33</td>\n",
              "    </tr>\n",
              "    <tr>\n",
              "      <th>10</th>\n",
              "      <td>11</td>\n",
              "      <td>12</td>\n",
              "      <td>177</td>\n",
              "      <td>6.78</td>\n",
              "    </tr>\n",
              "    <tr>\n",
              "      <th>11</th>\n",
              "      <td>12</td>\n",
              "      <td>3</td>\n",
              "      <td>125</td>\n",
              "      <td>2.40</td>\n",
              "    </tr>\n",
              "    <tr>\n",
              "      <th>12</th>\n",
              "      <td>13</td>\n",
              "      <td>4</td>\n",
              "      <td>92</td>\n",
              "      <td>4.35</td>\n",
              "    </tr>\n",
              "    <tr>\n",
              "      <th>13</th>\n",
              "      <td>14</td>\n",
              "      <td>8</td>\n",
              "      <td>475</td>\n",
              "      <td>1.68</td>\n",
              "    </tr>\n",
              "  </tbody>\n",
              "</table>\n",
              "</div>"
            ],
            "text/plain": [
              "    campaign  count_prospects  No_of_prospects  response_rate\n",
              "0          1             2300            17642          13.04\n",
              "1          2             1211            10570          11.46\n",
              "2          3              574             5341          10.75\n",
              "3          4              249             2651           9.39\n",
              "4          5              120             1599           7.50\n",
              "5          6               75              979           7.66\n",
              "6          7               38              629           6.04\n",
              "7          8               17              400           4.25\n",
              "8          9               17              283           6.01\n",
              "9         10               12              225           5.33\n",
              "10        11               12              177           6.78\n",
              "11        12                3              125           2.40\n",
              "12        13                4               92           4.35\n",
              "13        14                8              475           1.68"
            ]
          },
          "metadata": {
            "tags": []
          },
          "execution_count": 217
        }
      ]
    },
    {
      "cell_type": "code",
      "metadata": {
        "id": "JNpmoXlLxhJ3",
        "outputId": "cb34828c-7924-47e3-e746-445accce5068",
        "colab": {
          "base_uri": "https://localhost:8080/",
          "height": 279
        }
      },
      "source": [
        "ax = sns.barplot(x='campaign', y='response_rate', data=agg_campaign)\n",
        "ax.set_xticklabels(ax.get_xticklabels(),rotation=0)\n",
        "plt.show()"
      ],
      "execution_count": 218,
      "outputs": [
        {
          "output_type": "display_data",
          "data": {
            "image/png": "[encoded data removed]",
            "text/plain": [
              "<Figure size 432x288 with 1 Axes>"
            ]
          },
          "metadata": {
            "tags": [],
            "needs_background": "light"
          }
        }
      ]
    },
    {
      "cell_type": "markdown",
      "metadata": {
        "id": "EY2xI0IGxhJ5"
      },
      "source": [
        "Interesting to note, that the response rate gradually decreases as the number of campaign contacts increases."
      ]
    },
    {
      "cell_type": "markdown",
      "metadata": {
        "id": "3tF0zOVcxhJ5"
      },
      "source": [
        "#### Gap after the last contact"
      ]
    },
    {
      "cell_type": "code",
      "metadata": {
        "id": "CxBl0fATxhJ5",
        "outputId": "273a0eea-c43c-4dab-e571-5287451a442e",
        "colab": {
          "base_uri": "https://localhost:8080/",
          "height": 503
        }
      },
      "source": [
        "loan['pdays'].value_counts()"
      ],
      "execution_count": 219,
      "outputs": [
        {
          "output_type": "execute_result",
          "data": {
            "text/plain": [
              "999    39673\n",
              "3        439\n",
              "6        412\n",
              "4        118\n",
              "9         64\n",
              "2         61\n",
              "7         60\n",
              "12        58\n",
              "10        52\n",
              "5         46\n",
              "13        36\n",
              "11        28\n",
              "1         26\n",
              "15        24\n",
              "14        20\n",
              "8         18\n",
              "0         15\n",
              "16        11\n",
              "17         8\n",
              "18         7\n",
              "19         3\n",
              "22         3\n",
              "21         2\n",
              "26         1\n",
              "20         1\n",
              "25         1\n",
              "27         1\n",
              "Name: pdays, dtype: int64"
            ]
          },
          "metadata": {
            "tags": []
          },
          "execution_count": 219
        }
      ]
    },
    {
      "cell_type": "markdown",
      "metadata": {
        "id": "fIJeilYQxhJ6"
      },
      "source": [
        "We are going to divide the pdays into three buckets, that is contacted within the first ten days, contacted after first ten days and first time contacted. Note that the pdays value of 999 means client was bot previously contacted."
      ]
    },
    {
      "cell_type": "code",
      "metadata": {
        "id": "7jI6-gZNxhJ7"
      },
      "source": [
        "loan['pdays'][loan['pdays'].isin([0,1,2,3,4,5,6,7,8,9,10])]='Contacted_in_first_10days'\n",
        "\n",
        "loan['pdays'][loan['pdays'].isin([999])]='First_time_contacted'\n",
        "\n",
        "loan['pdays'][~loan['pdays'].isin(['Contacted_in_first_10days','First_time_contacted'])]='Contacted_after_10days'"
      ],
      "execution_count": 220,
      "outputs": []
    },
    {
      "cell_type": "code",
      "metadata": {
        "id": "PdVisOJuxhJ8",
        "outputId": "7befd151-46fe-4b0b-ffb6-2ac23009aa83",
        "colab": {
          "base_uri": "https://localhost:8080/",
          "height": 87
        }
      },
      "source": [
        "loan['pdays'].value_counts()"
      ],
      "execution_count": 221,
      "outputs": [
        {
          "output_type": "execute_result",
          "data": {
            "text/plain": [
              "First_time_contacted         39673\n",
              "Contacted_in_first_10days     1311\n",
              "Contacted_after_10days         204\n",
              "Name: pdays, dtype: int64"
            ]
          },
          "metadata": {
            "tags": []
          },
          "execution_count": 221
        }
      ]
    },
    {
      "cell_type": "code",
      "metadata": {
        "id": "V3Uu302CxhJ_"
      },
      "source": [
        "count_prospects_pdays = loan.groupby('pdays')['response'].sum().reset_index(name = 'count_prospects')"
      ],
      "execution_count": 222,
      "outputs": []
    },
    {
      "cell_type": "code",
      "metadata": {
        "id": "GhHHU83_xhKA"
      },
      "source": [
        "No_of_prospect_pdays = loan.groupby('pdays')['response'].count().reset_index(name = 'No_of_prospects')"
      ],
      "execution_count": 223,
      "outputs": []
    },
    {
      "cell_type": "code",
      "metadata": {
        "id": "iaK8t8H_xhKB"
      },
      "source": [
        "agg_pdays = count_prospects_pdays.merge(No_of_prospect_pdays, on = 'pdays')"
      ],
      "execution_count": 224,
      "outputs": []
    },
    {
      "cell_type": "code",
      "metadata": {
        "id": "LgPpKyaNxhKE"
      },
      "source": [
        "agg_pdays['response_rate'] = 100*(agg_pdays['count_prospects']/agg_pdays['No_of_prospects']).round(4)"
      ],
      "execution_count": 225,
      "outputs": []
    },
    {
      "cell_type": "code",
      "metadata": {
        "id": "QUeXD81ZxhKF",
        "outputId": "0719059c-dff2-4c8c-e565-827226204e76",
        "colab": {
          "base_uri": "https://localhost:8080/",
          "height": 141
        }
      },
      "source": [
        "agg_pdays"
      ],
      "execution_count": 226,
      "outputs": [
        {
          "output_type": "execute_result",
          "data": {
            "text/html": [
              "<div>\n",
              "<style scoped>\n",
              "    .dataframe tbody tr th:only-of-type {\n",
              "        vertical-align: middle;\n",
              "    }\n",
              "\n",
              "    .dataframe tbody tr th {\n",
              "        vertical-align: top;\n",
              "    }\n",
              "\n",
              "    .dataframe thead th {\n",
              "        text-align: right;\n",
              "    }\n",
              "</style>\n",
              "<table border=\"1\" class=\"dataframe\">\n",
              "  <thead>\n",
              "    <tr style=\"text-align: right;\">\n",
              "      <th></th>\n",
              "      <th>pdays</th>\n",
              "      <th>count_prospects</th>\n",
              "      <th>No_of_prospects</th>\n",
              "      <th>response_rate</th>\n",
              "    </tr>\n",
              "  </thead>\n",
              "  <tbody>\n",
              "    <tr>\n",
              "      <th>0</th>\n",
              "      <td>Contacted_after_10days</td>\n",
              "      <td>116</td>\n",
              "      <td>204</td>\n",
              "      <td>56.86</td>\n",
              "    </tr>\n",
              "    <tr>\n",
              "      <th>1</th>\n",
              "      <td>Contacted_in_first_10days</td>\n",
              "      <td>851</td>\n",
              "      <td>1311</td>\n",
              "      <td>64.91</td>\n",
              "    </tr>\n",
              "    <tr>\n",
              "      <th>2</th>\n",
              "      <td>First_time_contacted</td>\n",
              "      <td>3673</td>\n",
              "      <td>39673</td>\n",
              "      <td>9.26</td>\n",
              "    </tr>\n",
              "  </tbody>\n",
              "</table>\n",
              "</div>"
            ],
            "text/plain": [
              "                       pdays  count_prospects  No_of_prospects  response_rate\n",
              "0     Contacted_after_10days              116              204          56.86\n",
              "1  Contacted_in_first_10days              851             1311          64.91\n",
              "2       First_time_contacted             3673            39673           9.26"
            ]
          },
          "metadata": {
            "tags": []
          },
          "execution_count": 226
        }
      ]
    },
    {
      "cell_type": "code",
      "metadata": {
        "id": "bs1fSq9WxhKG",
        "outputId": "8076ae39-443e-454f-878c-d14ca00245eb",
        "colab": {
          "base_uri": "https://localhost:8080/",
          "height": 303
        }
      },
      "source": [
        "ax = sns.barplot(x='pdays', y='response_rate', data=agg_pdays)\n",
        "ax.set_xticklabels(ax.get_xticklabels(),rotation=10)\n",
        "plt.show()"
      ],
      "execution_count": 227,
      "outputs": [
        {
          "output_type": "display_data",
          "data": {
            "image/png": "[encoded data removed]",
            "text/plain": [
              "<Figure size 432x288 with 1 Axes>"
            ]
          },
          "metadata": {
            "tags": [],
            "needs_background": "light"
          }
        }
      ]
    },
    {
      "cell_type": "markdown",
      "metadata": {
        "id": "Ac3bNZonxhKI"
      },
      "source": [
        "Though there is a huge difference in the response rates of the three categories, it is important to note that there is also a huge difference in the volume of data entries in these categories"
      ]
    },
    {
      "cell_type": "markdown",
      "metadata": {
        "id": "Ehg0giLyxhKI"
      },
      "source": [
        "#### Previous"
      ]
    },
    {
      "cell_type": "code",
      "metadata": {
        "id": "0i-smdNhxhKI",
        "outputId": "aa3e668f-e57d-4eb2-de13-7cd45422e0bb",
        "colab": {
          "base_uri": "https://localhost:8080/",
          "height": 173
        }
      },
      "source": [
        "loan['previous'].value_counts()"
      ],
      "execution_count": 228,
      "outputs": [
        {
          "output_type": "execute_result",
          "data": {
            "text/plain": [
              "0    35563\n",
              "1     4561\n",
              "2      754\n",
              "3      216\n",
              "4       70\n",
              "5       18\n",
              "6        5\n",
              "7        1\n",
              "Name: previous, dtype: int64"
            ]
          },
          "metadata": {
            "tags": []
          },
          "execution_count": 228
        }
      ]
    },
    {
      "cell_type": "markdown",
      "metadata": {
        "id": "CItmDUBgxhKJ"
      },
      "source": [
        "Since the data ranges from 0 to 7, we are going to break it into three categories, that is never contacted, contacted less than three times and contacted greater than three times"
      ]
    },
    {
      "cell_type": "code",
      "metadata": {
        "id": "Q1BR2bV2xhKK"
      },
      "source": [
        "loan['previous'][loan['previous'].isin([0])]='Never contacted'\n",
        "loan['previous'][loan['previous'].isin([1,2,3])]='Less_than_3_times'\n",
        "loan['previous'][loan['previous'].isin([4,5,6,7])]='More than_3_times'"
      ],
      "execution_count": 229,
      "outputs": []
    },
    {
      "cell_type": "code",
      "metadata": {
        "id": "NFyOo715xhKL",
        "outputId": "49cc8f21-175b-4c81-9d8a-af76175d1252",
        "colab": {
          "base_uri": "https://localhost:8080/",
          "height": 87
        }
      },
      "source": [
        "loan['previous'].value_counts()"
      ],
      "execution_count": 230,
      "outputs": [
        {
          "output_type": "execute_result",
          "data": {
            "text/plain": [
              "Never contacted      35563\n",
              "Less_than_3_times     5531\n",
              "More than_3_times       94\n",
              "Name: previous, dtype: int64"
            ]
          },
          "metadata": {
            "tags": []
          },
          "execution_count": 230
        }
      ]
    },
    {
      "cell_type": "code",
      "metadata": {
        "id": "mHsx_7NxxhKM"
      },
      "source": [
        "count_prospects_previous = loan.groupby('previous')['response'].sum().reset_index(name = 'count_prospects')"
      ],
      "execution_count": 231,
      "outputs": []
    },
    {
      "cell_type": "code",
      "metadata": {
        "id": "vlVroJkAxhKN"
      },
      "source": [
        "No_of_prospect_previous = loan.groupby('previous')['response'].count().reset_index(name = 'No_of_prospects')"
      ],
      "execution_count": 232,
      "outputs": []
    },
    {
      "cell_type": "code",
      "metadata": {
        "id": "APIJVvfDxhKO"
      },
      "source": [
        "agg_previous = count_prospects_previous.merge(No_of_prospect_previous, on = 'previous')"
      ],
      "execution_count": 233,
      "outputs": []
    },
    {
      "cell_type": "code",
      "metadata": {
        "id": "cApc6RByxhKP"
      },
      "source": [
        "agg_previous['response_rate'] = 100*(agg_previous['count_prospects']/agg_previous['No_of_prospects']).round(4)"
      ],
      "execution_count": 234,
      "outputs": []
    },
    {
      "cell_type": "code",
      "metadata": {
        "id": "sWIKJzSHxhKR",
        "outputId": "97149d7b-4a0a-418d-96a8-ff912c7e7d8d",
        "colab": {
          "base_uri": "https://localhost:8080/",
          "height": 141
        }
      },
      "source": [
        "agg_previous"
      ],
      "execution_count": 235,
      "outputs": [
        {
          "output_type": "execute_result",
          "data": {
            "text/html": [
              "<div>\n",
              "<style scoped>\n",
              "    .dataframe tbody tr th:only-of-type {\n",
              "        vertical-align: middle;\n",
              "    }\n",
              "\n",
              "    .dataframe tbody tr th {\n",
              "        vertical-align: top;\n",
              "    }\n",
              "\n",
              "    .dataframe thead th {\n",
              "        text-align: right;\n",
              "    }\n",
              "</style>\n",
              "<table border=\"1\" class=\"dataframe\">\n",
              "  <thead>\n",
              "    <tr style=\"text-align: right;\">\n",
              "      <th></th>\n",
              "      <th>previous</th>\n",
              "      <th>count_prospects</th>\n",
              "      <th>No_of_prospects</th>\n",
              "      <th>response_rate</th>\n",
              "    </tr>\n",
              "  </thead>\n",
              "  <tbody>\n",
              "    <tr>\n",
              "      <th>0</th>\n",
              "      <td>Less_than_3_times</td>\n",
              "      <td>1445</td>\n",
              "      <td>5531</td>\n",
              "      <td>26.13</td>\n",
              "    </tr>\n",
              "    <tr>\n",
              "      <th>1</th>\n",
              "      <td>More than_3_times</td>\n",
              "      <td>54</td>\n",
              "      <td>94</td>\n",
              "      <td>57.45</td>\n",
              "    </tr>\n",
              "    <tr>\n",
              "      <th>2</th>\n",
              "      <td>Never contacted</td>\n",
              "      <td>3141</td>\n",
              "      <td>35563</td>\n",
              "      <td>8.83</td>\n",
              "    </tr>\n",
              "  </tbody>\n",
              "</table>\n",
              "</div>"
            ],
            "text/plain": [
              "            previous  count_prospects  No_of_prospects  response_rate\n",
              "0  Less_than_3_times             1445             5531          26.13\n",
              "1  More than_3_times               54               94          57.45\n",
              "2    Never contacted             3141            35563           8.83"
            ]
          },
          "metadata": {
            "tags": []
          },
          "execution_count": 235
        }
      ]
    },
    {
      "cell_type": "code",
      "metadata": {
        "id": "WbOzcyQuxhKS",
        "outputId": "da19692b-84a4-4326-a059-ef6527cd4639",
        "colab": {
          "base_uri": "https://localhost:8080/",
          "height": 283
        }
      },
      "source": [
        "ax = sns.barplot(x='previous', y='response_rate', data=agg_previous)\n",
        "ax.set_xticklabels(ax.get_xticklabels(),rotation=0)\n",
        "plt.show()"
      ],
      "execution_count": 236,
      "outputs": [
        {
          "output_type": "display_data",
          "data": {
            "image/png": "[encoded data removed]",
            "text/plain": [
              "<Figure size 432x288 with 1 Axes>"
            ]
          },
          "metadata": {
            "tags": [],
            "needs_background": "light"
          }
        }
      ]
    },
    {
      "cell_type": "markdown",
      "metadata": {
        "id": "iU5TaZnlxhKT"
      },
      "source": [
        "We can note that the response rate is greatest for the the potential customers having previous contact of more than three. However, please note that  the number of data entries is very low for such cases, hence it's difficult to draw any inferences."
      ]
    },
    {
      "cell_type": "markdown",
      "metadata": {
        "id": "qrbe4nTjxhKU"
      },
      "source": [
        "Now that we have analysed all the client related information, we will move to the wider social and economic variables, which gives us a clue of the conditions when a client is more likely to buy the product.\n",
        "\n",
        "- emp.var.rate: Employment Variation Rate - Quarterly Indicator\n",
        "- cons.price.idx: Consumer Price Index - Monthly Indicator \n",
        "- cons.conf.idx: Consumer Confidence Index - Monthly Indicator \n",
        "- euribor3m: Euribor 3 Month Rate - Daily Indicator\n",
        "- nr.employed: Number of Employees - Quarterly Indicator"
      ]
    },
    {
      "cell_type": "code",
      "metadata": {
        "id": "490wvYRMxhKU",
        "outputId": "66e45970-abb1-451e-af83-c884faca8b37",
        "colab": {
          "base_uri": "https://localhost:8080/",
          "height": 104
        }
      },
      "source": [
        "loan.columns"
      ],
      "execution_count": 237,
      "outputs": [
        {
          "output_type": "execute_result",
          "data": {
            "text/plain": [
              "Index(['age', 'job', 'marital', 'education', 'default', 'housing', 'loan',\n",
              "       'contact', 'month', 'day_of_week', 'campaign', 'pdays', 'previous',\n",
              "       'poutcome', 'emp.var.rate', 'cons.price.idx', 'cons.conf.idx',\n",
              "       'euribor3m', 'nr.employed', 'response', 'age_bins'],\n",
              "      dtype='object')"
            ]
          },
          "metadata": {
            "tags": []
          },
          "execution_count": 237
        }
      ]
    },
    {
      "cell_type": "markdown",
      "metadata": {
        "id": "BO81VkC1xhKV"
      },
      "source": [
        "#### Employment Variation Rate"
      ]
    },
    {
      "cell_type": "code",
      "metadata": {
        "id": "efTc8sE-xhKV",
        "outputId": "1246494e-877b-4adb-da36-1dd5c2caad4b",
        "colab": {
          "base_uri": "https://localhost:8080/",
          "height": 279
        }
      },
      "source": [
        "sns.distplot(loan['emp.var.rate'])\n",
        "plt.show()"
      ],
      "execution_count": 238,
      "outputs": [
        {
          "output_type": "display_data",
          "data": {
            "image/png": "[encoded data removed]",
            "text/plain": [
              "<Figure size 432x288 with 1 Axes>"
            ]
          },
          "metadata": {
            "tags": [],
            "needs_background": "light"
          }
        }
      ]
    },
    {
      "cell_type": "code",
      "metadata": {
        "id": "cGi5IOt4xhKW",
        "outputId": "6bda7aa0-922b-4a20-e0d3-022cb676cfec",
        "colab": {
          "base_uri": "https://localhost:8080/",
          "height": 208
        }
      },
      "source": [
        "loan['emp.var.rate'].describe(percentiles = [0.25,0.50,0.75,0.95,0.99])"
      ],
      "execution_count": 239,
      "outputs": [
        {
          "output_type": "execute_result",
          "data": {
            "text/plain": [
              "count    41188.000000\n",
              "mean         0.081886\n",
              "std          1.570960\n",
              "min         -3.400000\n",
              "25%         -1.800000\n",
              "50%          1.100000\n",
              "75%          1.400000\n",
              "95%          1.400000\n",
              "99%          1.400000\n",
              "max          1.400000\n",
              "Name: emp.var.rate, dtype: float64"
            ]
          },
          "metadata": {
            "tags": []
          },
          "execution_count": 239
        }
      ]
    },
    {
      "cell_type": "code",
      "metadata": {
        "id": "7tDMS26HxhKX",
        "outputId": "a5ee64c6-fa23-40c6-af7a-d7137d467a00",
        "colab": {
          "base_uri": "https://localhost:8080/",
          "height": 208
        }
      },
      "source": [
        "loan['emp.var.rate'].value_counts()"
      ],
      "execution_count": 240,
      "outputs": [
        {
          "output_type": "execute_result",
          "data": {
            "text/plain": [
              " 1.4    16234\n",
              "-1.8     9184\n",
              " 1.1     7763\n",
              "-0.1     3683\n",
              "-2.9     1663\n",
              "-3.4     1071\n",
              "-1.7      773\n",
              "-1.1      635\n",
              "-3.0      172\n",
              "-0.2       10\n",
              "Name: emp.var.rate, dtype: int64"
            ]
          },
          "metadata": {
            "tags": []
          },
          "execution_count": 240
        }
      ]
    },
    {
      "cell_type": "code",
      "metadata": {
        "id": "cWfUeY4UxhKZ"
      },
      "source": [
        "count_prospects_emp_var_rate = loan.groupby('emp.var.rate')['response'].sum().reset_index(name = 'count_prospects')"
      ],
      "execution_count": 241,
      "outputs": []
    },
    {
      "cell_type": "code",
      "metadata": {
        "id": "vWGNb51VxhKa"
      },
      "source": [
        "No_of_prospect_emp_var_rate = loan.groupby('emp.var.rate')['response'].count().reset_index(name = 'No_of_prospects')"
      ],
      "execution_count": 242,
      "outputs": []
    },
    {
      "cell_type": "code",
      "metadata": {
        "id": "5737IQaWxhKc"
      },
      "source": [
        "agg_emp_var_rate = count_prospects_emp_var_rate.merge(No_of_prospect_emp_var_rate, on = 'emp.var.rate')"
      ],
      "execution_count": 243,
      "outputs": []
    },
    {
      "cell_type": "code",
      "metadata": {
        "id": "7Hg9RNRwxhKe"
      },
      "source": [
        "agg_emp_var_rate['response_rate'] = 100*(agg_emp_var_rate['count_prospects']/agg_emp_var_rate['No_of_prospects']).round(4)"
      ],
      "execution_count": 244,
      "outputs": []
    },
    {
      "cell_type": "code",
      "metadata": {
        "id": "Se4XDz2axhKh",
        "outputId": "ffe343ae-c29b-41fe-bda0-b77cfefc671e",
        "colab": {
          "base_uri": "https://localhost:8080/",
          "height": 355
        }
      },
      "source": [
        "agg_emp_var_rate"
      ],
      "execution_count": 245,
      "outputs": [
        {
          "output_type": "execute_result",
          "data": {
            "text/html": [
              "<div>\n",
              "<style scoped>\n",
              "    .dataframe tbody tr th:only-of-type {\n",
              "        vertical-align: middle;\n",
              "    }\n",
              "\n",
              "    .dataframe tbody tr th {\n",
              "        vertical-align: top;\n",
              "    }\n",
              "\n",
              "    .dataframe thead th {\n",
              "        text-align: right;\n",
              "    }\n",
              "</style>\n",
              "<table border=\"1\" class=\"dataframe\">\n",
              "  <thead>\n",
              "    <tr style=\"text-align: right;\">\n",
              "      <th></th>\n",
              "      <th>emp.var.rate</th>\n",
              "      <th>count_prospects</th>\n",
              "      <th>No_of_prospects</th>\n",
              "      <th>response_rate</th>\n",
              "    </tr>\n",
              "  </thead>\n",
              "  <tbody>\n",
              "    <tr>\n",
              "      <th>0</th>\n",
              "      <td>-3.4</td>\n",
              "      <td>454</td>\n",
              "      <td>1071</td>\n",
              "      <td>42.39</td>\n",
              "    </tr>\n",
              "    <tr>\n",
              "      <th>1</th>\n",
              "      <td>-3.0</td>\n",
              "      <td>88</td>\n",
              "      <td>172</td>\n",
              "      <td>51.16</td>\n",
              "    </tr>\n",
              "    <tr>\n",
              "      <th>2</th>\n",
              "      <td>-2.9</td>\n",
              "      <td>594</td>\n",
              "      <td>1663</td>\n",
              "      <td>35.72</td>\n",
              "    </tr>\n",
              "    <tr>\n",
              "      <th>3</th>\n",
              "      <td>-1.8</td>\n",
              "      <td>1461</td>\n",
              "      <td>9184</td>\n",
              "      <td>15.91</td>\n",
              "    </tr>\n",
              "    <tr>\n",
              "      <th>4</th>\n",
              "      <td>-1.7</td>\n",
              "      <td>403</td>\n",
              "      <td>773</td>\n",
              "      <td>52.13</td>\n",
              "    </tr>\n",
              "    <tr>\n",
              "      <th>5</th>\n",
              "      <td>-1.1</td>\n",
              "      <td>301</td>\n",
              "      <td>635</td>\n",
              "      <td>47.40</td>\n",
              "    </tr>\n",
              "    <tr>\n",
              "      <th>6</th>\n",
              "      <td>-0.2</td>\n",
              "      <td>1</td>\n",
              "      <td>10</td>\n",
              "      <td>10.00</td>\n",
              "    </tr>\n",
              "    <tr>\n",
              "      <th>7</th>\n",
              "      <td>-0.1</td>\n",
              "      <td>232</td>\n",
              "      <td>3683</td>\n",
              "      <td>6.30</td>\n",
              "    </tr>\n",
              "    <tr>\n",
              "      <th>8</th>\n",
              "      <td>1.1</td>\n",
              "      <td>240</td>\n",
              "      <td>7763</td>\n",
              "      <td>3.09</td>\n",
              "    </tr>\n",
              "    <tr>\n",
              "      <th>9</th>\n",
              "      <td>1.4</td>\n",
              "      <td>866</td>\n",
              "      <td>16234</td>\n",
              "      <td>5.33</td>\n",
              "    </tr>\n",
              "  </tbody>\n",
              "</table>\n",
              "</div>"
            ],
            "text/plain": [
              "   emp.var.rate  count_prospects  No_of_prospects  response_rate\n",
              "0          -3.4              454             1071          42.39\n",
              "1          -3.0               88              172          51.16\n",
              "2          -2.9              594             1663          35.72\n",
              "3          -1.8             1461             9184          15.91\n",
              "4          -1.7              403              773          52.13\n",
              "5          -1.1              301              635          47.40\n",
              "6          -0.2                1               10          10.00\n",
              "7          -0.1              232             3683           6.30\n",
              "8           1.1              240             7763           3.09\n",
              "9           1.4              866            16234           5.33"
            ]
          },
          "metadata": {
            "tags": []
          },
          "execution_count": 245
        }
      ]
    },
    {
      "cell_type": "code",
      "metadata": {
        "id": "E5yEOl0sxhKj",
        "outputId": "c6d5b954-1c0c-4d49-b6bd-abaeafe03e0c",
        "colab": {
          "base_uri": "https://localhost:8080/",
          "height": 279
        }
      },
      "source": [
        "ax = sns.barplot(x='emp.var.rate', y='response_rate', data=agg_emp_var_rate)\n",
        "ax.set_xticklabels(ax.get_xticklabels(),rotation=0)\n",
        "plt.show()"
      ],
      "execution_count": 246,
      "outputs": [
        {
          "output_type": "display_data",
          "data": {
            "image/png": "[encoded data removed]",
            "text/plain": [
              "<Figure size 432x288 with 1 Axes>"
            ]
          },
          "metadata": {
            "tags": [],
            "needs_background": "light"
          }
        }
      ]
    },
    {
      "cell_type": "markdown",
      "metadata": {
        "id": "hVfhUg5pxhKk"
      },
      "source": [
        "You can note that a negative employment variation rate seems to be related to higher response rates."
      ]
    },
    {
      "cell_type": "markdown",
      "metadata": {
        "id": "PZksXiMZxhKk"
      },
      "source": [
        "#### Consumer Price Index"
      ]
    },
    {
      "cell_type": "code",
      "metadata": {
        "id": "qdffFiujxhKl",
        "outputId": "9872858b-73f7-4d47-c96b-9bdb69c1211e",
        "colab": {
          "base_uri": "https://localhost:8080/",
          "height": 279
        }
      },
      "source": [
        "sns.distplot(loan['cons.price.idx'])\n",
        "plt.show()"
      ],
      "execution_count": 247,
      "outputs": [
        {
          "output_type": "display_data",
          "data": {
            "image/png": "[encoded data removed]",
            "text/plain": [
              "<Figure size 432x288 with 1 Axes>"
            ]
          },
          "metadata": {
            "tags": [],
            "needs_background": "light"
          }
        }
      ]
    },
    {
      "cell_type": "code",
      "metadata": {
        "id": "MVoixgooxhKm",
        "outputId": "7f408ae5-0797-4670-fba3-05bbed35f5cb",
        "colab": {
          "base_uri": "https://localhost:8080/",
          "height": 208
        }
      },
      "source": [
        "loan['cons.price.idx'].describe(percentiles = [0.25,0.50,0.75,0.95,0.99])"
      ],
      "execution_count": 248,
      "outputs": [
        {
          "output_type": "execute_result",
          "data": {
            "text/plain": [
              "count    41188.000000\n",
              "mean        93.575664\n",
              "std          0.578840\n",
              "min         92.201000\n",
              "25%         93.075000\n",
              "50%         93.749000\n",
              "75%         93.994000\n",
              "95%         94.465000\n",
              "99%         94.465000\n",
              "max         94.767000\n",
              "Name: cons.price.idx, dtype: float64"
            ]
          },
          "metadata": {
            "tags": []
          },
          "execution_count": 248
        }
      ]
    },
    {
      "cell_type": "code",
      "metadata": {
        "id": "YouV_WFlxhKo",
        "outputId": "08c841dd-7890-42b5-80df-c8e14a8610eb",
        "colab": {
          "base_uri": "https://localhost:8080/",
          "height": 485
        }
      },
      "source": [
        "loan['cons.conf.idx'].value_counts()"
      ],
      "execution_count": 249,
      "outputs": [
        {
          "output_type": "execute_result",
          "data": {
            "text/plain": [
              "-36.4    7763\n",
              "-42.7    6685\n",
              "-46.2    5794\n",
              "-36.1    5175\n",
              "-41.8    4374\n",
              "-42.0    3616\n",
              "-47.1    2458\n",
              "-31.4     770\n",
              "-40.8     715\n",
              "-26.9     447\n",
              "-30.1     357\n",
              "-40.3     311\n",
              "-37.5     303\n",
              "-50.0     282\n",
              "-29.8     267\n",
              "-34.8     264\n",
              "-38.3     233\n",
              "-39.8     229\n",
              "-40.0     212\n",
              "-49.5     204\n",
              "-33.6     178\n",
              "-34.6     174\n",
              "-33.0     172\n",
              "-50.8     128\n",
              "-40.4      67\n",
              "-45.9      10\n",
              "Name: cons.conf.idx, dtype: int64"
            ]
          },
          "metadata": {
            "tags": []
          },
          "execution_count": 249
        }
      ]
    },
    {
      "cell_type": "markdown",
      "metadata": {
        "id": "LdjHSgP0xhKp"
      },
      "source": [
        "#### Euribor three month rate"
      ]
    },
    {
      "cell_type": "code",
      "metadata": {
        "id": "ov7cJJTvxhKp",
        "outputId": "a6ce0a0c-2bec-4b05-ab82-0319065853a6",
        "colab": {
          "base_uri": "https://localhost:8080/",
          "height": 279
        }
      },
      "source": [
        "sns.distplot(loan['euribor3m'])\n",
        "plt.show()"
      ],
      "execution_count": 250,
      "outputs": [
        {
          "output_type": "display_data",
          "data": {
            "image/png": "[encoded data removed]",
            "text/plain": [
              "<Figure size 432x288 with 1 Axes>"
            ]
          },
          "metadata": {
            "tags": [],
            "needs_background": "light"
          }
        }
      ]
    },
    {
      "cell_type": "code",
      "metadata": {
        "id": "iF97FsrUxhKr",
        "outputId": "182829b0-7e93-4f38-c47a-b152e6cdaa00",
        "colab": {
          "base_uri": "https://localhost:8080/",
          "height": 208
        }
      },
      "source": [
        "loan['euribor3m'].describe(percentiles = [0.25,0.50,0.75,0.95,0.99])"
      ],
      "execution_count": 251,
      "outputs": [
        {
          "output_type": "execute_result",
          "data": {
            "text/plain": [
              "count    41188.000000\n",
              "mean         3.621291\n",
              "std          1.734447\n",
              "min          0.634000\n",
              "25%          1.344000\n",
              "50%          4.857000\n",
              "75%          4.961000\n",
              "95%          4.966000\n",
              "99%          4.968000\n",
              "max          5.045000\n",
              "Name: euribor3m, dtype: float64"
            ]
          },
          "metadata": {
            "tags": []
          },
          "execution_count": 251
        }
      ]
    },
    {
      "cell_type": "markdown",
      "metadata": {
        "id": "n17cV2UVxhKt"
      },
      "source": [
        "#### Number of employeees"
      ]
    },
    {
      "cell_type": "code",
      "metadata": {
        "id": "ZxjkOTnyxhKt",
        "outputId": "bf1eb19e-d8f9-4062-ce1d-33a2c208bf6a",
        "colab": {
          "base_uri": "https://localhost:8080/",
          "height": 279
        }
      },
      "source": [
        "sns.distplot(loan['nr.employed'])\n",
        "plt.show()"
      ],
      "execution_count": 252,
      "outputs": [
        {
          "output_type": "display_data",
          "data": {
            "image/png": "[encoded data removed]",
            "text/plain": [
              "<Figure size 432x288 with 1 Axes>"
            ]
          },
          "metadata": {
            "tags": [],
            "needs_background": "light"
          }
        }
      ]
    },
    {
      "cell_type": "code",
      "metadata": {
        "id": "8NlHHeIpxhKu",
        "outputId": "a6434067-7272-4376-fc0c-15daf7957b1e",
        "colab": {
          "base_uri": "https://localhost:8080/",
          "height": 225
        }
      },
      "source": [
        "loan['nr.employed'].value_counts()"
      ],
      "execution_count": 253,
      "outputs": [
        {
          "output_type": "execute_result",
          "data": {
            "text/plain": [
              "5228.1    16234\n",
              "5099.1     8534\n",
              "5191.0     7763\n",
              "5195.8     3683\n",
              "5076.2     1663\n",
              "5017.5     1071\n",
              "4991.6      773\n",
              "5008.7      650\n",
              "4963.6      635\n",
              "5023.5      172\n",
              "5176.3       10\n",
              "Name: nr.employed, dtype: int64"
            ]
          },
          "metadata": {
            "tags": []
          },
          "execution_count": 253
        }
      ]
    },
    {
      "cell_type": "code",
      "metadata": {
        "id": "LmUl67FOxhKv",
        "outputId": "cbf61579-9922-462f-94a6-deef3c8d2a29",
        "colab": {
          "base_uri": "https://localhost:8080/",
          "height": 208
        }
      },
      "source": [
        "loan['nr.employed'].describe(percentiles = [0.25,0.50,0.75,0.95,0.99])"
      ],
      "execution_count": 254,
      "outputs": [
        {
          "output_type": "execute_result",
          "data": {
            "text/plain": [
              "count    41188.000000\n",
              "mean      5167.035911\n",
              "std         72.251528\n",
              "min       4963.600000\n",
              "25%       5099.100000\n",
              "50%       5191.000000\n",
              "75%       5228.100000\n",
              "95%       5228.100000\n",
              "99%       5228.100000\n",
              "max       5228.100000\n",
              "Name: nr.employed, dtype: float64"
            ]
          },
          "metadata": {
            "tags": []
          },
          "execution_count": 254
        }
      ]
    },
    {
      "cell_type": "markdown",
      "metadata": {
        "id": "aekv85QExhKy"
      },
      "source": [
        "Now that we have completed basic exploratory analysis, we can move to the next stage, that is data cleaning and data preparation"
      ]
    },
    {
      "cell_type": "markdown",
      "metadata": {
        "id": "eyywayfdxhKy"
      },
      "source": [
        "#### Data Preparation\n",
        "\n",
        "Once Exploratory Data anlysis has been performed, we move to data preparation for the purpose of modelling."
      ]
    },
    {
      "cell_type": "code",
      "metadata": {
        "id": "YlnuXCs4xhKy",
        "outputId": "535fe0d4-b258-4e84-851b-2e865c9be971",
        "colab": {
          "base_uri": "https://localhost:8080/",
          "height": 104
        }
      },
      "source": [
        "# inspect the columns\n",
        "\n",
        "loan.columns"
      ],
      "execution_count": 255,
      "outputs": [
        {
          "output_type": "execute_result",
          "data": {
            "text/plain": [
              "Index(['age', 'job', 'marital', 'education', 'default', 'housing', 'loan',\n",
              "       'contact', 'month', 'day_of_week', 'campaign', 'pdays', 'previous',\n",
              "       'poutcome', 'emp.var.rate', 'cons.price.idx', 'cons.conf.idx',\n",
              "       'euribor3m', 'nr.employed', 'response', 'age_bins'],\n",
              "      dtype='object')"
            ]
          },
          "metadata": {
            "tags": []
          },
          "execution_count": 255
        }
      ]
    },
    {
      "cell_type": "code",
      "metadata": {
        "id": "jjRDlA4lxhKz"
      },
      "source": [
        "# Droping the column age_bins we had created for the purpose of data visualisation\n",
        "\n",
        "loan.drop(columns = 'age_bins', inplace = True)"
      ],
      "execution_count": 256,
      "outputs": []
    },
    {
      "cell_type": "code",
      "metadata": {
        "id": "sTxuUhvBxhK1"
      },
      "source": [
        "# Creating a dummy variable for the variable 'job' and dropping the first one.\n",
        "\n",
        "job = pd.get_dummies(loan['job'],prefix='job',drop_first=True)\n",
        "\n",
        "#Adding the results to the master dataframe\n",
        "\n",
        "loan = pd.concat([loan,job],axis=1)"
      ],
      "execution_count": 257,
      "outputs": []
    },
    {
      "cell_type": "code",
      "metadata": {
        "id": "JhgPdL9DxhK2",
        "outputId": "d9906856-630f-4511-f3cf-4dfc15976f86",
        "colab": {
          "base_uri": "https://localhost:8080/",
          "height": 326
        }
      },
      "source": [
        "loan.head()"
      ],
      "execution_count": 258,
      "outputs": [
        {
          "output_type": "execute_result",
          "data": {
            "text/html": [
              "<div>\n",
              "<style scoped>\n",
              "    .dataframe tbody tr th:only-of-type {\n",
              "        vertical-align: middle;\n",
              "    }\n",
              "\n",
              "    .dataframe tbody tr th {\n",
              "        vertical-align: top;\n",
              "    }\n",
              "\n",
              "    .dataframe thead th {\n",
              "        text-align: right;\n",
              "    }\n",
              "</style>\n",
              "<table border=\"1\" class=\"dataframe\">\n",
              "  <thead>\n",
              "    <tr style=\"text-align: right;\">\n",
              "      <th></th>\n",
              "      <th>age</th>\n",
              "      <th>job</th>\n",
              "      <th>marital</th>\n",
              "      <th>education</th>\n",
              "      <th>default</th>\n",
              "      <th>housing</th>\n",
              "      <th>loan</th>\n",
              "      <th>contact</th>\n",
              "      <th>month</th>\n",
              "      <th>day_of_week</th>\n",
              "      <th>campaign</th>\n",
              "      <th>pdays</th>\n",
              "      <th>previous</th>\n",
              "      <th>poutcome</th>\n",
              "      <th>emp.var.rate</th>\n",
              "      <th>cons.price.idx</th>\n",
              "      <th>cons.conf.idx</th>\n",
              "      <th>euribor3m</th>\n",
              "      <th>nr.employed</th>\n",
              "      <th>response</th>\n",
              "      <th>job_blue-collar</th>\n",
              "      <th>job_entrepreneur</th>\n",
              "      <th>job_housemaid</th>\n",
              "      <th>job_management</th>\n",
              "      <th>job_retired</th>\n",
              "      <th>job_self-employed</th>\n",
              "      <th>job_services</th>\n",
              "      <th>job_student</th>\n",
              "      <th>job_technician</th>\n",
              "      <th>job_unemployed</th>\n",
              "      <th>job_unknown</th>\n",
              "    </tr>\n",
              "  </thead>\n",
              "  <tbody>\n",
              "    <tr>\n",
              "      <th>0</th>\n",
              "      <td>56</td>\n",
              "      <td>housemaid</td>\n",
              "      <td>married</td>\n",
              "      <td>Primary_Education</td>\n",
              "      <td>no</td>\n",
              "      <td>no</td>\n",
              "      <td>no</td>\n",
              "      <td>telephone</td>\n",
              "      <td>may</td>\n",
              "      <td>mon</td>\n",
              "      <td>1</td>\n",
              "      <td>First_time_contacted</td>\n",
              "      <td>Never contacted</td>\n",
              "      <td>nonexistent</td>\n",
              "      <td>1.1</td>\n",
              "      <td>93.994</td>\n",
              "      <td>-36.4</td>\n",
              "      <td>4.857</td>\n",
              "      <td>5191.0</td>\n",
              "      <td>0</td>\n",
              "      <td>0</td>\n",
              "      <td>0</td>\n",
              "      <td>1</td>\n",
              "      <td>0</td>\n",
              "      <td>0</td>\n",
              "      <td>0</td>\n",
              "      <td>0</td>\n",
              "      <td>0</td>\n",
              "      <td>0</td>\n",
              "      <td>0</td>\n",
              "      <td>0</td>\n",
              "    </tr>\n",
              "    <tr>\n",
              "      <th>1</th>\n",
              "      <td>57</td>\n",
              "      <td>services</td>\n",
              "      <td>married</td>\n",
              "      <td>Secondary_Education</td>\n",
              "      <td>unknown</td>\n",
              "      <td>no</td>\n",
              "      <td>no</td>\n",
              "      <td>telephone</td>\n",
              "      <td>may</td>\n",
              "      <td>mon</td>\n",
              "      <td>1</td>\n",
              "      <td>First_time_contacted</td>\n",
              "      <td>Never contacted</td>\n",
              "      <td>nonexistent</td>\n",
              "      <td>1.1</td>\n",
              "      <td>93.994</td>\n",
              "      <td>-36.4</td>\n",
              "      <td>4.857</td>\n",
              "      <td>5191.0</td>\n",
              "      <td>0</td>\n",
              "      <td>0</td>\n",
              "      <td>0</td>\n",
              "      <td>0</td>\n",
              "      <td>0</td>\n",
              "      <td>0</td>\n",
              "      <td>0</td>\n",
              "      <td>1</td>\n",
              "      <td>0</td>\n",
              "      <td>0</td>\n",
              "      <td>0</td>\n",
              "      <td>0</td>\n",
              "    </tr>\n",
              "    <tr>\n",
              "      <th>2</th>\n",
              "      <td>37</td>\n",
              "      <td>services</td>\n",
              "      <td>married</td>\n",
              "      <td>Secondary_Education</td>\n",
              "      <td>no</td>\n",
              "      <td>yes</td>\n",
              "      <td>no</td>\n",
              "      <td>telephone</td>\n",
              "      <td>may</td>\n",
              "      <td>mon</td>\n",
              "      <td>1</td>\n",
              "      <td>First_time_contacted</td>\n",
              "      <td>Never contacted</td>\n",
              "      <td>nonexistent</td>\n",
              "      <td>1.1</td>\n",
              "      <td>93.994</td>\n",
              "      <td>-36.4</td>\n",
              "      <td>4.857</td>\n",
              "      <td>5191.0</td>\n",
              "      <td>0</td>\n",
              "      <td>0</td>\n",
              "      <td>0</td>\n",
              "      <td>0</td>\n",
              "      <td>0</td>\n",
              "      <td>0</td>\n",
              "      <td>0</td>\n",
              "      <td>1</td>\n",
              "      <td>0</td>\n",
              "      <td>0</td>\n",
              "      <td>0</td>\n",
              "      <td>0</td>\n",
              "    </tr>\n",
              "    <tr>\n",
              "      <th>3</th>\n",
              "      <td>40</td>\n",
              "      <td>admin.</td>\n",
              "      <td>married</td>\n",
              "      <td>Primary_Education</td>\n",
              "      <td>no</td>\n",
              "      <td>no</td>\n",
              "      <td>no</td>\n",
              "      <td>telephone</td>\n",
              "      <td>may</td>\n",
              "      <td>mon</td>\n",
              "      <td>1</td>\n",
              "      <td>First_time_contacted</td>\n",
              "      <td>Never contacted</td>\n",
              "      <td>nonexistent</td>\n",
              "      <td>1.1</td>\n",
              "      <td>93.994</td>\n",
              "      <td>-36.4</td>\n",
              "      <td>4.857</td>\n",
              "      <td>5191.0</td>\n",
              "      <td>0</td>\n",
              "      <td>0</td>\n",
              "      <td>0</td>\n",
              "      <td>0</td>\n",
              "      <td>0</td>\n",
              "      <td>0</td>\n",
              "      <td>0</td>\n",
              "      <td>0</td>\n",
              "      <td>0</td>\n",
              "      <td>0</td>\n",
              "      <td>0</td>\n",
              "      <td>0</td>\n",
              "    </tr>\n",
              "    <tr>\n",
              "      <th>4</th>\n",
              "      <td>56</td>\n",
              "      <td>services</td>\n",
              "      <td>married</td>\n",
              "      <td>Secondary_Education</td>\n",
              "      <td>no</td>\n",
              "      <td>no</td>\n",
              "      <td>yes</td>\n",
              "      <td>telephone</td>\n",
              "      <td>may</td>\n",
              "      <td>mon</td>\n",
              "      <td>1</td>\n",
              "      <td>First_time_contacted</td>\n",
              "      <td>Never contacted</td>\n",
              "      <td>nonexistent</td>\n",
              "      <td>1.1</td>\n",
              "      <td>93.994</td>\n",
              "      <td>-36.4</td>\n",
              "      <td>4.857</td>\n",
              "      <td>5191.0</td>\n",
              "      <td>0</td>\n",
              "      <td>0</td>\n",
              "      <td>0</td>\n",
              "      <td>0</td>\n",
              "      <td>0</td>\n",
              "      <td>0</td>\n",
              "      <td>0</td>\n",
              "      <td>1</td>\n",
              "      <td>0</td>\n",
              "      <td>0</td>\n",
              "      <td>0</td>\n",
              "      <td>0</td>\n",
              "    </tr>\n",
              "  </tbody>\n",
              "</table>\n",
              "</div>"
            ],
            "text/plain": [
              "   age        job  marital  ... job_technician job_unemployed job_unknown\n",
              "0   56  housemaid  married  ...              0              0           0\n",
              "1   57   services  married  ...              0              0           0\n",
              "2   37   services  married  ...              0              0           0\n",
              "3   40     admin.  married  ...              0              0           0\n",
              "4   56   services  married  ...              0              0           0\n",
              "\n",
              "[5 rows x 31 columns]"
            ]
          },
          "metadata": {
            "tags": []
          },
          "execution_count": 258
        }
      ]
    },
    {
      "cell_type": "markdown",
      "metadata": {
        "id": "id7IN_fzxhK4"
      },
      "source": [
        "Notice that we have created a set of dummy columns for the feature job. Similarly, we are going to do the same for other categorical variables."
      ]
    },
    {
      "cell_type": "code",
      "metadata": {
        "id": "gVogYSqTxhK4"
      },
      "source": [
        "# Creating dummy variable for marital column\n",
        "\n",
        "marital = pd.get_dummies(loan['marital'],prefix='marital',drop_first=True)\n",
        "loan = pd.concat([loan,marital],axis=1)"
      ],
      "execution_count": 259,
      "outputs": []
    },
    {
      "cell_type": "code",
      "metadata": {
        "id": "rtMJjXW0xhK5"
      },
      "source": [
        "# Creating dummy variable for education column\n",
        "\n",
        "education = pd.get_dummies(loan['education'],prefix='education',drop_first=True)\n",
        "loan = pd.concat([loan,education],axis=1)"
      ],
      "execution_count": 260,
      "outputs": []
    },
    {
      "cell_type": "code",
      "metadata": {
        "id": "U7vgPdT6xhK7"
      },
      "source": [
        "# Creating dummy variable for default column\n",
        "\n",
        "default = pd.get_dummies(loan['default'],prefix='default',drop_first=True)\n",
        "loan = pd.concat([loan,default],axis=1)"
      ],
      "execution_count": 261,
      "outputs": []
    },
    {
      "cell_type": "code",
      "metadata": {
        "id": "JPCmmRO0xhK9"
      },
      "source": [
        "# Creating dummy variable for housing column\n",
        "\n",
        "housing = pd.get_dummies(loan['housing'],prefix='housing',drop_first=True)\n",
        "loan = pd.concat([loan,housing],axis=1)"
      ],
      "execution_count": 262,
      "outputs": []
    },
    {
      "cell_type": "code",
      "metadata": {
        "id": "SVs4biJVxhK_"
      },
      "source": [
        "# Creating dummy variable for loan column\n",
        "\n",
        "loan_v= pd.get_dummies(loan['loan'],prefix='loan',drop_first=True)\n",
        "loan = pd.concat([loan,loan_v],axis=1)"
      ],
      "execution_count": 263,
      "outputs": []
    },
    {
      "cell_type": "code",
      "metadata": {
        "id": "YSYogqK5xhLA"
      },
      "source": [
        "# Creating dummy variable for contact column\n",
        "\n",
        "contact = pd.get_dummies(loan['contact'],prefix='contact',drop_first=True)\n",
        "loan = pd.concat([loan,contact],axis=1)"
      ],
      "execution_count": 264,
      "outputs": []
    },
    {
      "cell_type": "code",
      "metadata": {
        "id": "tqRT06LHxhLD"
      },
      "source": [
        "# Creating dummy variable for month column\n",
        "\n",
        "month = pd.get_dummies(loan['month'],prefix='month',drop_first=True)\n",
        "loan = pd.concat([loan,month],axis=1)"
      ],
      "execution_count": 265,
      "outputs": []
    },
    {
      "cell_type": "code",
      "metadata": {
        "id": "rB_aYc1WxhLF"
      },
      "source": [
        "# Creating dummy variable for day_of_week column\n",
        "\n",
        "day_of_week = pd.get_dummies(loan['day_of_week'],prefix='day_of_week',drop_first=True)\n",
        "loan = pd.concat([loan,day_of_week],axis=1)"
      ],
      "execution_count": 266,
      "outputs": []
    },
    {
      "cell_type": "code",
      "metadata": {
        "id": "zaV13IPaxhLG"
      },
      "source": [
        "# Creating dummy variable for pdays column\n",
        "\n",
        "pdays = pd.get_dummies(loan['pdays'],prefix='pdays',drop_first=True)\n",
        "loan = pd.concat([loan,pdays],axis=1)"
      ],
      "execution_count": 267,
      "outputs": []
    },
    {
      "cell_type": "code",
      "metadata": {
        "id": "xEqs3HplxhLH"
      },
      "source": [
        "# Creating dummy variable for previous column\n",
        "\n",
        "previous = pd.get_dummies(loan['previous'],prefix='previous',drop_first=True)\n",
        "loan = pd.concat([loan,previous],axis=1)"
      ],
      "execution_count": 268,
      "outputs": []
    },
    {
      "cell_type": "code",
      "metadata": {
        "id": "ZX_QHVwRxhLI"
      },
      "source": [
        "# Creating dummy variable for poutcome column\n",
        "\n",
        "poutcome = pd.get_dummies(loan['poutcome'],prefix='poutcome',drop_first=True)\n",
        "loan = pd.concat([loan,poutcome],axis=1)"
      ],
      "execution_count": 269,
      "outputs": []
    },
    {
      "cell_type": "code",
      "metadata": {
        "id": "sCaDs4sDxhLJ",
        "outputId": "48271a2b-e884-4535-9050-172b3af4928f",
        "colab": {
          "base_uri": "https://localhost:8080/",
          "height": 326
        }
      },
      "source": [
        "# inspect the dataframe\n",
        "\n",
        "loan.head()"
      ],
      "execution_count": 270,
      "outputs": [
        {
          "output_type": "execute_result",
          "data": {
            "text/html": [
              "<div>\n",
              "<style scoped>\n",
              "    .dataframe tbody tr th:only-of-type {\n",
              "        vertical-align: middle;\n",
              "    }\n",
              "\n",
              "    .dataframe tbody tr th {\n",
              "        vertical-align: top;\n",
              "    }\n",
              "\n",
              "    .dataframe thead th {\n",
              "        text-align: right;\n",
              "    }\n",
              "</style>\n",
              "<table border=\"1\" class=\"dataframe\">\n",
              "  <thead>\n",
              "    <tr style=\"text-align: right;\">\n",
              "      <th></th>\n",
              "      <th>age</th>\n",
              "      <th>job</th>\n",
              "      <th>marital</th>\n",
              "      <th>education</th>\n",
              "      <th>default</th>\n",
              "      <th>housing</th>\n",
              "      <th>loan</th>\n",
              "      <th>contact</th>\n",
              "      <th>month</th>\n",
              "      <th>day_of_week</th>\n",
              "      <th>campaign</th>\n",
              "      <th>pdays</th>\n",
              "      <th>previous</th>\n",
              "      <th>poutcome</th>\n",
              "      <th>emp.var.rate</th>\n",
              "      <th>cons.price.idx</th>\n",
              "      <th>cons.conf.idx</th>\n",
              "      <th>euribor3m</th>\n",
              "      <th>nr.employed</th>\n",
              "      <th>response</th>\n",
              "      <th>job_blue-collar</th>\n",
              "      <th>job_entrepreneur</th>\n",
              "      <th>job_housemaid</th>\n",
              "      <th>job_management</th>\n",
              "      <th>job_retired</th>\n",
              "      <th>job_self-employed</th>\n",
              "      <th>job_services</th>\n",
              "      <th>job_student</th>\n",
              "      <th>job_technician</th>\n",
              "      <th>job_unemployed</th>\n",
              "      <th>job_unknown</th>\n",
              "      <th>marital_married</th>\n",
              "      <th>marital_single</th>\n",
              "      <th>education_Secondary_Education</th>\n",
              "      <th>education_Tertiary_Education</th>\n",
              "      <th>education_professional.course</th>\n",
              "      <th>education_unknown</th>\n",
              "      <th>default_unknown</th>\n",
              "      <th>default_yes</th>\n",
              "      <th>housing_unknown</th>\n",
              "      <th>housing_yes</th>\n",
              "      <th>loan_unknown</th>\n",
              "      <th>loan_yes</th>\n",
              "      <th>contact_telephone</th>\n",
              "      <th>month_aug</th>\n",
              "      <th>month_dec</th>\n",
              "      <th>month_jul</th>\n",
              "      <th>month_jun</th>\n",
              "      <th>month_mar</th>\n",
              "      <th>month_may</th>\n",
              "      <th>month_nov</th>\n",
              "      <th>month_oct</th>\n",
              "      <th>month_sep</th>\n",
              "      <th>day_of_week_mon</th>\n",
              "      <th>day_of_week_thu</th>\n",
              "      <th>day_of_week_tue</th>\n",
              "      <th>day_of_week_wed</th>\n",
              "      <th>pdays_Contacted_in_first_10days</th>\n",
              "      <th>pdays_First_time_contacted</th>\n",
              "      <th>previous_More than_3_times</th>\n",
              "      <th>previous_Never contacted</th>\n",
              "      <th>poutcome_nonexistent</th>\n",
              "      <th>poutcome_success</th>\n",
              "    </tr>\n",
              "  </thead>\n",
              "  <tbody>\n",
              "    <tr>\n",
              "      <th>0</th>\n",
              "      <td>56</td>\n",
              "      <td>housemaid</td>\n",
              "      <td>married</td>\n",
              "      <td>Primary_Education</td>\n",
              "      <td>no</td>\n",
              "      <td>no</td>\n",
              "      <td>no</td>\n",
              "      <td>telephone</td>\n",
              "      <td>may</td>\n",
              "      <td>mon</td>\n",
              "      <td>1</td>\n",
              "      <td>First_time_contacted</td>\n",
              "      <td>Never contacted</td>\n",
              "      <td>nonexistent</td>\n",
              "      <td>1.1</td>\n",
              "      <td>93.994</td>\n",
              "      <td>-36.4</td>\n",
              "      <td>4.857</td>\n",
              "      <td>5191.0</td>\n",
              "      <td>0</td>\n",
              "      <td>0</td>\n",
              "      <td>0</td>\n",
              "      <td>1</td>\n",
              "      <td>0</td>\n",
              "      <td>0</td>\n",
              "      <td>0</td>\n",
              "      <td>0</td>\n",
              "      <td>0</td>\n",
              "      <td>0</td>\n",
              "      <td>0</td>\n",
              "      <td>0</td>\n",
              "      <td>1</td>\n",
              "      <td>0</td>\n",
              "      <td>0</td>\n",
              "      <td>0</td>\n",
              "      <td>0</td>\n",
              "      <td>0</td>\n",
              "      <td>0</td>\n",
              "      <td>0</td>\n",
              "      <td>0</td>\n",
              "      <td>0</td>\n",
              "      <td>0</td>\n",
              "      <td>0</td>\n",
              "      <td>1</td>\n",
              "      <td>0</td>\n",
              "      <td>0</td>\n",
              "      <td>0</td>\n",
              "      <td>0</td>\n",
              "      <td>0</td>\n",
              "      <td>1</td>\n",
              "      <td>0</td>\n",
              "      <td>0</td>\n",
              "      <td>0</td>\n",
              "      <td>1</td>\n",
              "      <td>0</td>\n",
              "      <td>0</td>\n",
              "      <td>0</td>\n",
              "      <td>0</td>\n",
              "      <td>1</td>\n",
              "      <td>0</td>\n",
              "      <td>1</td>\n",
              "      <td>1</td>\n",
              "      <td>0</td>\n",
              "    </tr>\n",
              "    <tr>\n",
              "      <th>1</th>\n",
              "      <td>57</td>\n",
              "      <td>services</td>\n",
              "      <td>married</td>\n",
              "      <td>Secondary_Education</td>\n",
              "      <td>unknown</td>\n",
              "      <td>no</td>\n",
              "      <td>no</td>\n",
              "      <td>telephone</td>\n",
              "      <td>may</td>\n",
              "      <td>mon</td>\n",
              "      <td>1</td>\n",
              "      <td>First_time_contacted</td>\n",
              "      <td>Never contacted</td>\n",
              "      <td>nonexistent</td>\n",
              "      <td>1.1</td>\n",
              "      <td>93.994</td>\n",
              "      <td>-36.4</td>\n",
              "      <td>4.857</td>\n",
              "      <td>5191.0</td>\n",
              "      <td>0</td>\n",
              "      <td>0</td>\n",
              "      <td>0</td>\n",
              "      <td>0</td>\n",
              "      <td>0</td>\n",
              "      <td>0</td>\n",
              "      <td>0</td>\n",
              "      <td>1</td>\n",
              "      <td>0</td>\n",
              "      <td>0</td>\n",
              "      <td>0</td>\n",
              "      <td>0</td>\n",
              "      <td>1</td>\n",
              "      <td>0</td>\n",
              "      <td>1</td>\n",
              "      <td>0</td>\n",
              "      <td>0</td>\n",
              "      <td>0</td>\n",
              "      <td>1</td>\n",
              "      <td>0</td>\n",
              "      <td>0</td>\n",
              "      <td>0</td>\n",
              "      <td>0</td>\n",
              "      <td>0</td>\n",
              "      <td>1</td>\n",
              "      <td>0</td>\n",
              "      <td>0</td>\n",
              "      <td>0</td>\n",
              "      <td>0</td>\n",
              "      <td>0</td>\n",
              "      <td>1</td>\n",
              "      <td>0</td>\n",
              "      <td>0</td>\n",
              "      <td>0</td>\n",
              "      <td>1</td>\n",
              "      <td>0</td>\n",
              "      <td>0</td>\n",
              "      <td>0</td>\n",
              "      <td>0</td>\n",
              "      <td>1</td>\n",
              "      <td>0</td>\n",
              "      <td>1</td>\n",
              "      <td>1</td>\n",
              "      <td>0</td>\n",
              "    </tr>\n",
              "    <tr>\n",
              "      <th>2</th>\n",
              "      <td>37</td>\n",
              "      <td>services</td>\n",
              "      <td>married</td>\n",
              "      <td>Secondary_Education</td>\n",
              "      <td>no</td>\n",
              "      <td>yes</td>\n",
              "      <td>no</td>\n",
              "      <td>telephone</td>\n",
              "      <td>may</td>\n",
              "      <td>mon</td>\n",
              "      <td>1</td>\n",
              "      <td>First_time_contacted</td>\n",
              "      <td>Never contacted</td>\n",
              "      <td>nonexistent</td>\n",
              "      <td>1.1</td>\n",
              "      <td>93.994</td>\n",
              "      <td>-36.4</td>\n",
              "      <td>4.857</td>\n",
              "      <td>5191.0</td>\n",
              "      <td>0</td>\n",
              "      <td>0</td>\n",
              "      <td>0</td>\n",
              "      <td>0</td>\n",
              "      <td>0</td>\n",
              "      <td>0</td>\n",
              "      <td>0</td>\n",
              "      <td>1</td>\n",
              "      <td>0</td>\n",
              "      <td>0</td>\n",
              "      <td>0</td>\n",
              "      <td>0</td>\n",
              "      <td>1</td>\n",
              "      <td>0</td>\n",
              "      <td>1</td>\n",
              "      <td>0</td>\n",
              "      <td>0</td>\n",
              "      <td>0</td>\n",
              "      <td>0</td>\n",
              "      <td>0</td>\n",
              "      <td>0</td>\n",
              "      <td>1</td>\n",
              "      <td>0</td>\n",
              "      <td>0</td>\n",
              "      <td>1</td>\n",
              "      <td>0</td>\n",
              "      <td>0</td>\n",
              "      <td>0</td>\n",
              "      <td>0</td>\n",
              "      <td>0</td>\n",
              "      <td>1</td>\n",
              "      <td>0</td>\n",
              "      <td>0</td>\n",
              "      <td>0</td>\n",
              "      <td>1</td>\n",
              "      <td>0</td>\n",
              "      <td>0</td>\n",
              "      <td>0</td>\n",
              "      <td>0</td>\n",
              "      <td>1</td>\n",
              "      <td>0</td>\n",
              "      <td>1</td>\n",
              "      <td>1</td>\n",
              "      <td>0</td>\n",
              "    </tr>\n",
              "    <tr>\n",
              "      <th>3</th>\n",
              "      <td>40</td>\n",
              "      <td>admin.</td>\n",
              "      <td>married</td>\n",
              "      <td>Primary_Education</td>\n",
              "      <td>no</td>\n",
              "      <td>no</td>\n",
              "      <td>no</td>\n",
              "      <td>telephone</td>\n",
              "      <td>may</td>\n",
              "      <td>mon</td>\n",
              "      <td>1</td>\n",
              "      <td>First_time_contacted</td>\n",
              "      <td>Never contacted</td>\n",
              "      <td>nonexistent</td>\n",
              "      <td>1.1</td>\n",
              "      <td>93.994</td>\n",
              "      <td>-36.4</td>\n",
              "      <td>4.857</td>\n",
              "      <td>5191.0</td>\n",
              "      <td>0</td>\n",
              "      <td>0</td>\n",
              "      <td>0</td>\n",
              "      <td>0</td>\n",
              "      <td>0</td>\n",
              "      <td>0</td>\n",
              "      <td>0</td>\n",
              "      <td>0</td>\n",
              "      <td>0</td>\n",
              "      <td>0</td>\n",
              "      <td>0</td>\n",
              "      <td>0</td>\n",
              "      <td>1</td>\n",
              "      <td>0</td>\n",
              "      <td>0</td>\n",
              "      <td>0</td>\n",
              "      <td>0</td>\n",
              "      <td>0</td>\n",
              "      <td>0</td>\n",
              "      <td>0</td>\n",
              "      <td>0</td>\n",
              "      <td>0</td>\n",
              "      <td>0</td>\n",
              "      <td>0</td>\n",
              "      <td>1</td>\n",
              "      <td>0</td>\n",
              "      <td>0</td>\n",
              "      <td>0</td>\n",
              "      <td>0</td>\n",
              "      <td>0</td>\n",
              "      <td>1</td>\n",
              "      <td>0</td>\n",
              "      <td>0</td>\n",
              "      <td>0</td>\n",
              "      <td>1</td>\n",
              "      <td>0</td>\n",
              "      <td>0</td>\n",
              "      <td>0</td>\n",
              "      <td>0</td>\n",
              "      <td>1</td>\n",
              "      <td>0</td>\n",
              "      <td>1</td>\n",
              "      <td>1</td>\n",
              "      <td>0</td>\n",
              "    </tr>\n",
              "    <tr>\n",
              "      <th>4</th>\n",
              "      <td>56</td>\n",
              "      <td>services</td>\n",
              "      <td>married</td>\n",
              "      <td>Secondary_Education</td>\n",
              "      <td>no</td>\n",
              "      <td>no</td>\n",
              "      <td>yes</td>\n",
              "      <td>telephone</td>\n",
              "      <td>may</td>\n",
              "      <td>mon</td>\n",
              "      <td>1</td>\n",
              "      <td>First_time_contacted</td>\n",
              "      <td>Never contacted</td>\n",
              "      <td>nonexistent</td>\n",
              "      <td>1.1</td>\n",
              "      <td>93.994</td>\n",
              "      <td>-36.4</td>\n",
              "      <td>4.857</td>\n",
              "      <td>5191.0</td>\n",
              "      <td>0</td>\n",
              "      <td>0</td>\n",
              "      <td>0</td>\n",
              "      <td>0</td>\n",
              "      <td>0</td>\n",
              "      <td>0</td>\n",
              "      <td>0</td>\n",
              "      <td>1</td>\n",
              "      <td>0</td>\n",
              "      <td>0</td>\n",
              "      <td>0</td>\n",
              "      <td>0</td>\n",
              "      <td>1</td>\n",
              "      <td>0</td>\n",
              "      <td>1</td>\n",
              "      <td>0</td>\n",
              "      <td>0</td>\n",
              "      <td>0</td>\n",
              "      <td>0</td>\n",
              "      <td>0</td>\n",
              "      <td>0</td>\n",
              "      <td>0</td>\n",
              "      <td>0</td>\n",
              "      <td>1</td>\n",
              "      <td>1</td>\n",
              "      <td>0</td>\n",
              "      <td>0</td>\n",
              "      <td>0</td>\n",
              "      <td>0</td>\n",
              "      <td>0</td>\n",
              "      <td>1</td>\n",
              "      <td>0</td>\n",
              "      <td>0</td>\n",
              "      <td>0</td>\n",
              "      <td>1</td>\n",
              "      <td>0</td>\n",
              "      <td>0</td>\n",
              "      <td>0</td>\n",
              "      <td>0</td>\n",
              "      <td>1</td>\n",
              "      <td>0</td>\n",
              "      <td>1</td>\n",
              "      <td>1</td>\n",
              "      <td>0</td>\n",
              "    </tr>\n",
              "  </tbody>\n",
              "</table>\n",
              "</div>"
            ],
            "text/plain": [
              "   age        job  ... poutcome_nonexistent poutcome_success\n",
              "0   56  housemaid  ...                    1                0\n",
              "1   57   services  ...                    1                0\n",
              "2   37   services  ...                    1                0\n",
              "3   40     admin.  ...                    1                0\n",
              "4   56   services  ...                    1                0\n",
              "\n",
              "[5 rows x 63 columns]"
            ]
          },
          "metadata": {
            "tags": []
          },
          "execution_count": 270
        }
      ]
    },
    {
      "cell_type": "code",
      "metadata": {
        "id": "NiwQs-tvxhLK"
      },
      "source": [
        "# Drop all features for whom dummy variable has been created\n",
        "\n",
        "loan.drop(columns = ['job','marital','education','default','housing','loan','contact','month','day_of_week','pdays','previous','poutcome'], inplace=True)"
      ],
      "execution_count": 271,
      "outputs": []
    },
    {
      "cell_type": "code",
      "metadata": {
        "id": "hflzV14pxhLN",
        "outputId": "b4d6ceb6-de53-415d-ad22-eb38c95f5471",
        "colab": {
          "base_uri": "https://localhost:8080/",
          "height": 239
        }
      },
      "source": [
        "loan.head()"
      ],
      "execution_count": 272,
      "outputs": [
        {
          "output_type": "execute_result",
          "data": {
            "text/html": [
              "<div>\n",
              "<style scoped>\n",
              "    .dataframe tbody tr th:only-of-type {\n",
              "        vertical-align: middle;\n",
              "    }\n",
              "\n",
              "    .dataframe tbody tr th {\n",
              "        vertical-align: top;\n",
              "    }\n",
              "\n",
              "    .dataframe thead th {\n",
              "        text-align: right;\n",
              "    }\n",
              "</style>\n",
              "<table border=\"1\" class=\"dataframe\">\n",
              "  <thead>\n",
              "    <tr style=\"text-align: right;\">\n",
              "      <th></th>\n",
              "      <th>age</th>\n",
              "      <th>campaign</th>\n",
              "      <th>emp.var.rate</th>\n",
              "      <th>cons.price.idx</th>\n",
              "      <th>cons.conf.idx</th>\n",
              "      <th>euribor3m</th>\n",
              "      <th>nr.employed</th>\n",
              "      <th>response</th>\n",
              "      <th>job_blue-collar</th>\n",
              "      <th>job_entrepreneur</th>\n",
              "      <th>job_housemaid</th>\n",
              "      <th>job_management</th>\n",
              "      <th>job_retired</th>\n",
              "      <th>job_self-employed</th>\n",
              "      <th>job_services</th>\n",
              "      <th>job_student</th>\n",
              "      <th>job_technician</th>\n",
              "      <th>job_unemployed</th>\n",
              "      <th>job_unknown</th>\n",
              "      <th>marital_married</th>\n",
              "      <th>marital_single</th>\n",
              "      <th>education_Secondary_Education</th>\n",
              "      <th>education_Tertiary_Education</th>\n",
              "      <th>education_professional.course</th>\n",
              "      <th>education_unknown</th>\n",
              "      <th>default_unknown</th>\n",
              "      <th>default_yes</th>\n",
              "      <th>housing_unknown</th>\n",
              "      <th>housing_yes</th>\n",
              "      <th>loan_unknown</th>\n",
              "      <th>loan_yes</th>\n",
              "      <th>contact_telephone</th>\n",
              "      <th>month_aug</th>\n",
              "      <th>month_dec</th>\n",
              "      <th>month_jul</th>\n",
              "      <th>month_jun</th>\n",
              "      <th>month_mar</th>\n",
              "      <th>month_may</th>\n",
              "      <th>month_nov</th>\n",
              "      <th>month_oct</th>\n",
              "      <th>month_sep</th>\n",
              "      <th>day_of_week_mon</th>\n",
              "      <th>day_of_week_thu</th>\n",
              "      <th>day_of_week_tue</th>\n",
              "      <th>day_of_week_wed</th>\n",
              "      <th>pdays_Contacted_in_first_10days</th>\n",
              "      <th>pdays_First_time_contacted</th>\n",
              "      <th>previous_More than_3_times</th>\n",
              "      <th>previous_Never contacted</th>\n",
              "      <th>poutcome_nonexistent</th>\n",
              "      <th>poutcome_success</th>\n",
              "    </tr>\n",
              "  </thead>\n",
              "  <tbody>\n",
              "    <tr>\n",
              "      <th>0</th>\n",
              "      <td>56</td>\n",
              "      <td>1</td>\n",
              "      <td>1.1</td>\n",
              "      <td>93.994</td>\n",
              "      <td>-36.4</td>\n",
              "      <td>4.857</td>\n",
              "      <td>5191.0</td>\n",
              "      <td>0</td>\n",
              "      <td>0</td>\n",
              "      <td>0</td>\n",
              "      <td>1</td>\n",
              "      <td>0</td>\n",
              "      <td>0</td>\n",
              "      <td>0</td>\n",
              "      <td>0</td>\n",
              "      <td>0</td>\n",
              "      <td>0</td>\n",
              "      <td>0</td>\n",
              "      <td>0</td>\n",
              "      <td>1</td>\n",
              "      <td>0</td>\n",
              "      <td>0</td>\n",
              "      <td>0</td>\n",
              "      <td>0</td>\n",
              "      <td>0</td>\n",
              "      <td>0</td>\n",
              "      <td>0</td>\n",
              "      <td>0</td>\n",
              "      <td>0</td>\n",
              "      <td>0</td>\n",
              "      <td>0</td>\n",
              "      <td>1</td>\n",
              "      <td>0</td>\n",
              "      <td>0</td>\n",
              "      <td>0</td>\n",
              "      <td>0</td>\n",
              "      <td>0</td>\n",
              "      <td>1</td>\n",
              "      <td>0</td>\n",
              "      <td>0</td>\n",
              "      <td>0</td>\n",
              "      <td>1</td>\n",
              "      <td>0</td>\n",
              "      <td>0</td>\n",
              "      <td>0</td>\n",
              "      <td>0</td>\n",
              "      <td>1</td>\n",
              "      <td>0</td>\n",
              "      <td>1</td>\n",
              "      <td>1</td>\n",
              "      <td>0</td>\n",
              "    </tr>\n",
              "    <tr>\n",
              "      <th>1</th>\n",
              "      <td>57</td>\n",
              "      <td>1</td>\n",
              "      <td>1.1</td>\n",
              "      <td>93.994</td>\n",
              "      <td>-36.4</td>\n",
              "      <td>4.857</td>\n",
              "      <td>5191.0</td>\n",
              "      <td>0</td>\n",
              "      <td>0</td>\n",
              "      <td>0</td>\n",
              "      <td>0</td>\n",
              "      <td>0</td>\n",
              "      <td>0</td>\n",
              "      <td>0</td>\n",
              "      <td>1</td>\n",
              "      <td>0</td>\n",
              "      <td>0</td>\n",
              "      <td>0</td>\n",
              "      <td>0</td>\n",
              "      <td>1</td>\n",
              "      <td>0</td>\n",
              "      <td>1</td>\n",
              "      <td>0</td>\n",
              "      <td>0</td>\n",
              "      <td>0</td>\n",
              "      <td>1</td>\n",
              "      <td>0</td>\n",
              "      <td>0</td>\n",
              "      <td>0</td>\n",
              "      <td>0</td>\n",
              "      <td>0</td>\n",
              "      <td>1</td>\n",
              "      <td>0</td>\n",
              "      <td>0</td>\n",
              "      <td>0</td>\n",
              "      <td>0</td>\n",
              "      <td>0</td>\n",
              "      <td>1</td>\n",
              "      <td>0</td>\n",
              "      <td>0</td>\n",
              "      <td>0</td>\n",
              "      <td>1</td>\n",
              "      <td>0</td>\n",
              "      <td>0</td>\n",
              "      <td>0</td>\n",
              "      <td>0</td>\n",
              "      <td>1</td>\n",
              "      <td>0</td>\n",
              "      <td>1</td>\n",
              "      <td>1</td>\n",
              "      <td>0</td>\n",
              "    </tr>\n",
              "    <tr>\n",
              "      <th>2</th>\n",
              "      <td>37</td>\n",
              "      <td>1</td>\n",
              "      <td>1.1</td>\n",
              "      <td>93.994</td>\n",
              "      <td>-36.4</td>\n",
              "      <td>4.857</td>\n",
              "      <td>5191.0</td>\n",
              "      <td>0</td>\n",
              "      <td>0</td>\n",
              "      <td>0</td>\n",
              "      <td>0</td>\n",
              "      <td>0</td>\n",
              "      <td>0</td>\n",
              "      <td>0</td>\n",
              "      <td>1</td>\n",
              "      <td>0</td>\n",
              "      <td>0</td>\n",
              "      <td>0</td>\n",
              "      <td>0</td>\n",
              "      <td>1</td>\n",
              "      <td>0</td>\n",
              "      <td>1</td>\n",
              "      <td>0</td>\n",
              "      <td>0</td>\n",
              "      <td>0</td>\n",
              "      <td>0</td>\n",
              "      <td>0</td>\n",
              "      <td>0</td>\n",
              "      <td>1</td>\n",
              "      <td>0</td>\n",
              "      <td>0</td>\n",
              "      <td>1</td>\n",
              "      <td>0</td>\n",
              "      <td>0</td>\n",
              "      <td>0</td>\n",
              "      <td>0</td>\n",
              "      <td>0</td>\n",
              "      <td>1</td>\n",
              "      <td>0</td>\n",
              "      <td>0</td>\n",
              "      <td>0</td>\n",
              "      <td>1</td>\n",
              "      <td>0</td>\n",
              "      <td>0</td>\n",
              "      <td>0</td>\n",
              "      <td>0</td>\n",
              "      <td>1</td>\n",
              "      <td>0</td>\n",
              "      <td>1</td>\n",
              "      <td>1</td>\n",
              "      <td>0</td>\n",
              "    </tr>\n",
              "    <tr>\n",
              "      <th>3</th>\n",
              "      <td>40</td>\n",
              "      <td>1</td>\n",
              "      <td>1.1</td>\n",
              "      <td>93.994</td>\n",
              "      <td>-36.4</td>\n",
              "      <td>4.857</td>\n",
              "      <td>5191.0</td>\n",
              "      <td>0</td>\n",
              "      <td>0</td>\n",
              "      <td>0</td>\n",
              "      <td>0</td>\n",
              "      <td>0</td>\n",
              "      <td>0</td>\n",
              "      <td>0</td>\n",
              "      <td>0</td>\n",
              "      <td>0</td>\n",
              "      <td>0</td>\n",
              "      <td>0</td>\n",
              "      <td>0</td>\n",
              "      <td>1</td>\n",
              "      <td>0</td>\n",
              "      <td>0</td>\n",
              "      <td>0</td>\n",
              "      <td>0</td>\n",
              "      <td>0</td>\n",
              "      <td>0</td>\n",
              "      <td>0</td>\n",
              "      <td>0</td>\n",
              "      <td>0</td>\n",
              "      <td>0</td>\n",
              "      <td>0</td>\n",
              "      <td>1</td>\n",
              "      <td>0</td>\n",
              "      <td>0</td>\n",
              "      <td>0</td>\n",
              "      <td>0</td>\n",
              "      <td>0</td>\n",
              "      <td>1</td>\n",
              "      <td>0</td>\n",
              "      <td>0</td>\n",
              "      <td>0</td>\n",
              "      <td>1</td>\n",
              "      <td>0</td>\n",
              "      <td>0</td>\n",
              "      <td>0</td>\n",
              "      <td>0</td>\n",
              "      <td>1</td>\n",
              "      <td>0</td>\n",
              "      <td>1</td>\n",
              "      <td>1</td>\n",
              "      <td>0</td>\n",
              "    </tr>\n",
              "    <tr>\n",
              "      <th>4</th>\n",
              "      <td>56</td>\n",
              "      <td>1</td>\n",
              "      <td>1.1</td>\n",
              "      <td>93.994</td>\n",
              "      <td>-36.4</td>\n",
              "      <td>4.857</td>\n",
              "      <td>5191.0</td>\n",
              "      <td>0</td>\n",
              "      <td>0</td>\n",
              "      <td>0</td>\n",
              "      <td>0</td>\n",
              "      <td>0</td>\n",
              "      <td>0</td>\n",
              "      <td>0</td>\n",
              "      <td>1</td>\n",
              "      <td>0</td>\n",
              "      <td>0</td>\n",
              "      <td>0</td>\n",
              "      <td>0</td>\n",
              "      <td>1</td>\n",
              "      <td>0</td>\n",
              "      <td>1</td>\n",
              "      <td>0</td>\n",
              "      <td>0</td>\n",
              "      <td>0</td>\n",
              "      <td>0</td>\n",
              "      <td>0</td>\n",
              "      <td>0</td>\n",
              "      <td>0</td>\n",
              "      <td>0</td>\n",
              "      <td>1</td>\n",
              "      <td>1</td>\n",
              "      <td>0</td>\n",
              "      <td>0</td>\n",
              "      <td>0</td>\n",
              "      <td>0</td>\n",
              "      <td>0</td>\n",
              "      <td>1</td>\n",
              "      <td>0</td>\n",
              "      <td>0</td>\n",
              "      <td>0</td>\n",
              "      <td>1</td>\n",
              "      <td>0</td>\n",
              "      <td>0</td>\n",
              "      <td>0</td>\n",
              "      <td>0</td>\n",
              "      <td>1</td>\n",
              "      <td>0</td>\n",
              "      <td>1</td>\n",
              "      <td>1</td>\n",
              "      <td>0</td>\n",
              "    </tr>\n",
              "  </tbody>\n",
              "</table>\n",
              "</div>"
            ],
            "text/plain": [
              "   age  campaign  ...  poutcome_nonexistent  poutcome_success\n",
              "0   56         1  ...                     1                 0\n",
              "1   57         1  ...                     1                 0\n",
              "2   37         1  ...                     1                 0\n",
              "3   40         1  ...                     1                 0\n",
              "4   56         1  ...                     1                 0\n",
              "\n",
              "[5 rows x 51 columns]"
            ]
          },
          "metadata": {
            "tags": []
          },
          "execution_count": 272
        }
      ]
    },
    {
      "cell_type": "code",
      "metadata": {
        "id": "H1-Mo5s1xhLO"
      },
      "source": [
        "# Import library to split the dataset into test and train\n",
        "\n",
        "from sklearn.model_selection import train_test_split"
      ],
      "execution_count": 273,
      "outputs": []
    },
    {
      "cell_type": "code",
      "metadata": {
        "id": "7yfFhj1JxhLP"
      },
      "source": [
        "# Putting feature variable to X\n",
        "X = loan.drop(['response'],axis=1)\n",
        "\n",
        "# Putting response variable to y\n",
        "y = loan['response']"
      ],
      "execution_count": 274,
      "outputs": []
    },
    {
      "cell_type": "code",
      "metadata": {
        "id": "-Yxvn-6AxhLP"
      },
      "source": [
        "# Splitting the data into train and test\n",
        "X_train, X_test, y_train, y_test = train_test_split(X,y, train_size=0.7,test_size=0.3,random_state=100)"
      ],
      "execution_count": 275,
      "outputs": []
    },
    {
      "cell_type": "markdown",
      "metadata": {
        "id": "tHosZ-pUxhLQ"
      },
      "source": [
        "#### Standardisation"
      ]
    },
    {
      "cell_type": "code",
      "metadata": {
        "id": "sBhrcTWMxhLR",
        "outputId": "2bb5198c-bf4a-4939-ac87-58c5a8d240a5",
        "colab": {
          "base_uri": "https://localhost:8080/",
          "height": 239
        }
      },
      "source": [
        "X_train.head()"
      ],
      "execution_count": 276,
      "outputs": [
        {
          "output_type": "execute_result",
          "data": {
            "text/html": [
              "<div>\n",
              "<style scoped>\n",
              "    .dataframe tbody tr th:only-of-type {\n",
              "        vertical-align: middle;\n",
              "    }\n",
              "\n",
              "    .dataframe tbody tr th {\n",
              "        vertical-align: top;\n",
              "    }\n",
              "\n",
              "    .dataframe thead th {\n",
              "        text-align: right;\n",
              "    }\n",
              "</style>\n",
              "<table border=\"1\" class=\"dataframe\">\n",
              "  <thead>\n",
              "    <tr style=\"text-align: right;\">\n",
              "      <th></th>\n",
              "      <th>age</th>\n",
              "      <th>campaign</th>\n",
              "      <th>emp.var.rate</th>\n",
              "      <th>cons.price.idx</th>\n",
              "      <th>cons.conf.idx</th>\n",
              "      <th>euribor3m</th>\n",
              "      <th>nr.employed</th>\n",
              "      <th>job_blue-collar</th>\n",
              "      <th>job_entrepreneur</th>\n",
              "      <th>job_housemaid</th>\n",
              "      <th>job_management</th>\n",
              "      <th>job_retired</th>\n",
              "      <th>job_self-employed</th>\n",
              "      <th>job_services</th>\n",
              "      <th>job_student</th>\n",
              "      <th>job_technician</th>\n",
              "      <th>job_unemployed</th>\n",
              "      <th>job_unknown</th>\n",
              "      <th>marital_married</th>\n",
              "      <th>marital_single</th>\n",
              "      <th>education_Secondary_Education</th>\n",
              "      <th>education_Tertiary_Education</th>\n",
              "      <th>education_professional.course</th>\n",
              "      <th>education_unknown</th>\n",
              "      <th>default_unknown</th>\n",
              "      <th>default_yes</th>\n",
              "      <th>housing_unknown</th>\n",
              "      <th>housing_yes</th>\n",
              "      <th>loan_unknown</th>\n",
              "      <th>loan_yes</th>\n",
              "      <th>contact_telephone</th>\n",
              "      <th>month_aug</th>\n",
              "      <th>month_dec</th>\n",
              "      <th>month_jul</th>\n",
              "      <th>month_jun</th>\n",
              "      <th>month_mar</th>\n",
              "      <th>month_may</th>\n",
              "      <th>month_nov</th>\n",
              "      <th>month_oct</th>\n",
              "      <th>month_sep</th>\n",
              "      <th>day_of_week_mon</th>\n",
              "      <th>day_of_week_thu</th>\n",
              "      <th>day_of_week_tue</th>\n",
              "      <th>day_of_week_wed</th>\n",
              "      <th>pdays_Contacted_in_first_10days</th>\n",
              "      <th>pdays_First_time_contacted</th>\n",
              "      <th>previous_More than_3_times</th>\n",
              "      <th>previous_Never contacted</th>\n",
              "      <th>poutcome_nonexistent</th>\n",
              "      <th>poutcome_success</th>\n",
              "    </tr>\n",
              "  </thead>\n",
              "  <tbody>\n",
              "    <tr>\n",
              "      <th>7019</th>\n",
              "      <td>31</td>\n",
              "      <td>4</td>\n",
              "      <td>1.1</td>\n",
              "      <td>93.994</td>\n",
              "      <td>-36.4</td>\n",
              "      <td>4.860</td>\n",
              "      <td>5191.0</td>\n",
              "      <td>0</td>\n",
              "      <td>0</td>\n",
              "      <td>0</td>\n",
              "      <td>0</td>\n",
              "      <td>0</td>\n",
              "      <td>0</td>\n",
              "      <td>0</td>\n",
              "      <td>0</td>\n",
              "      <td>0</td>\n",
              "      <td>0</td>\n",
              "      <td>0</td>\n",
              "      <td>1</td>\n",
              "      <td>0</td>\n",
              "      <td>0</td>\n",
              "      <td>1</td>\n",
              "      <td>0</td>\n",
              "      <td>0</td>\n",
              "      <td>0</td>\n",
              "      <td>0</td>\n",
              "      <td>0</td>\n",
              "      <td>1</td>\n",
              "      <td>0</td>\n",
              "      <td>0</td>\n",
              "      <td>1</td>\n",
              "      <td>0</td>\n",
              "      <td>0</td>\n",
              "      <td>0</td>\n",
              "      <td>0</td>\n",
              "      <td>0</td>\n",
              "      <td>1</td>\n",
              "      <td>0</td>\n",
              "      <td>0</td>\n",
              "      <td>0</td>\n",
              "      <td>0</td>\n",
              "      <td>1</td>\n",
              "      <td>0</td>\n",
              "      <td>0</td>\n",
              "      <td>0</td>\n",
              "      <td>1</td>\n",
              "      <td>0</td>\n",
              "      <td>1</td>\n",
              "      <td>1</td>\n",
              "      <td>0</td>\n",
              "    </tr>\n",
              "    <tr>\n",
              "      <th>27175</th>\n",
              "      <td>51</td>\n",
              "      <td>3</td>\n",
              "      <td>-0.1</td>\n",
              "      <td>93.200</td>\n",
              "      <td>-42.0</td>\n",
              "      <td>4.021</td>\n",
              "      <td>5195.8</td>\n",
              "      <td>0</td>\n",
              "      <td>0</td>\n",
              "      <td>0</td>\n",
              "      <td>0</td>\n",
              "      <td>0</td>\n",
              "      <td>0</td>\n",
              "      <td>0</td>\n",
              "      <td>0</td>\n",
              "      <td>1</td>\n",
              "      <td>0</td>\n",
              "      <td>0</td>\n",
              "      <td>0</td>\n",
              "      <td>1</td>\n",
              "      <td>0</td>\n",
              "      <td>0</td>\n",
              "      <td>0</td>\n",
              "      <td>0</td>\n",
              "      <td>0</td>\n",
              "      <td>0</td>\n",
              "      <td>0</td>\n",
              "      <td>1</td>\n",
              "      <td>0</td>\n",
              "      <td>0</td>\n",
              "      <td>1</td>\n",
              "      <td>0</td>\n",
              "      <td>0</td>\n",
              "      <td>0</td>\n",
              "      <td>0</td>\n",
              "      <td>0</td>\n",
              "      <td>0</td>\n",
              "      <td>1</td>\n",
              "      <td>0</td>\n",
              "      <td>0</td>\n",
              "      <td>0</td>\n",
              "      <td>0</td>\n",
              "      <td>0</td>\n",
              "      <td>0</td>\n",
              "      <td>0</td>\n",
              "      <td>1</td>\n",
              "      <td>0</td>\n",
              "      <td>1</td>\n",
              "      <td>1</td>\n",
              "      <td>0</td>\n",
              "    </tr>\n",
              "    <tr>\n",
              "      <th>15817</th>\n",
              "      <td>39</td>\n",
              "      <td>3</td>\n",
              "      <td>1.4</td>\n",
              "      <td>93.918</td>\n",
              "      <td>-42.7</td>\n",
              "      <td>4.960</td>\n",
              "      <td>5228.1</td>\n",
              "      <td>0</td>\n",
              "      <td>0</td>\n",
              "      <td>0</td>\n",
              "      <td>0</td>\n",
              "      <td>0</td>\n",
              "      <td>0</td>\n",
              "      <td>0</td>\n",
              "      <td>0</td>\n",
              "      <td>0</td>\n",
              "      <td>0</td>\n",
              "      <td>0</td>\n",
              "      <td>0</td>\n",
              "      <td>1</td>\n",
              "      <td>0</td>\n",
              "      <td>1</td>\n",
              "      <td>0</td>\n",
              "      <td>0</td>\n",
              "      <td>0</td>\n",
              "      <td>0</td>\n",
              "      <td>0</td>\n",
              "      <td>0</td>\n",
              "      <td>0</td>\n",
              "      <td>0</td>\n",
              "      <td>0</td>\n",
              "      <td>0</td>\n",
              "      <td>0</td>\n",
              "      <td>1</td>\n",
              "      <td>0</td>\n",
              "      <td>0</td>\n",
              "      <td>0</td>\n",
              "      <td>0</td>\n",
              "      <td>0</td>\n",
              "      <td>0</td>\n",
              "      <td>1</td>\n",
              "      <td>0</td>\n",
              "      <td>0</td>\n",
              "      <td>0</td>\n",
              "      <td>0</td>\n",
              "      <td>1</td>\n",
              "      <td>0</td>\n",
              "      <td>1</td>\n",
              "      <td>1</td>\n",
              "      <td>0</td>\n",
              "    </tr>\n",
              "    <tr>\n",
              "      <th>40971</th>\n",
              "      <td>68</td>\n",
              "      <td>4</td>\n",
              "      <td>-1.1</td>\n",
              "      <td>94.601</td>\n",
              "      <td>-49.5</td>\n",
              "      <td>1.000</td>\n",
              "      <td>4963.6</td>\n",
              "      <td>0</td>\n",
              "      <td>0</td>\n",
              "      <td>0</td>\n",
              "      <td>0</td>\n",
              "      <td>1</td>\n",
              "      <td>0</td>\n",
              "      <td>0</td>\n",
              "      <td>0</td>\n",
              "      <td>0</td>\n",
              "      <td>0</td>\n",
              "      <td>0</td>\n",
              "      <td>0</td>\n",
              "      <td>0</td>\n",
              "      <td>1</td>\n",
              "      <td>0</td>\n",
              "      <td>0</td>\n",
              "      <td>0</td>\n",
              "      <td>0</td>\n",
              "      <td>0</td>\n",
              "      <td>0</td>\n",
              "      <td>1</td>\n",
              "      <td>0</td>\n",
              "      <td>0</td>\n",
              "      <td>0</td>\n",
              "      <td>0</td>\n",
              "      <td>0</td>\n",
              "      <td>0</td>\n",
              "      <td>0</td>\n",
              "      <td>0</td>\n",
              "      <td>0</td>\n",
              "      <td>0</td>\n",
              "      <td>1</td>\n",
              "      <td>0</td>\n",
              "      <td>1</td>\n",
              "      <td>0</td>\n",
              "      <td>0</td>\n",
              "      <td>0</td>\n",
              "      <td>0</td>\n",
              "      <td>1</td>\n",
              "      <td>0</td>\n",
              "      <td>0</td>\n",
              "      <td>0</td>\n",
              "      <td>0</td>\n",
              "    </tr>\n",
              "    <tr>\n",
              "      <th>8467</th>\n",
              "      <td>37</td>\n",
              "      <td>3</td>\n",
              "      <td>1.4</td>\n",
              "      <td>94.465</td>\n",
              "      <td>-41.8</td>\n",
              "      <td>4.864</td>\n",
              "      <td>5228.1</td>\n",
              "      <td>0</td>\n",
              "      <td>0</td>\n",
              "      <td>0</td>\n",
              "      <td>0</td>\n",
              "      <td>0</td>\n",
              "      <td>0</td>\n",
              "      <td>0</td>\n",
              "      <td>0</td>\n",
              "      <td>1</td>\n",
              "      <td>0</td>\n",
              "      <td>0</td>\n",
              "      <td>1</td>\n",
              "      <td>0</td>\n",
              "      <td>1</td>\n",
              "      <td>0</td>\n",
              "      <td>0</td>\n",
              "      <td>0</td>\n",
              "      <td>0</td>\n",
              "      <td>0</td>\n",
              "      <td>0</td>\n",
              "      <td>1</td>\n",
              "      <td>0</td>\n",
              "      <td>0</td>\n",
              "      <td>1</td>\n",
              "      <td>0</td>\n",
              "      <td>0</td>\n",
              "      <td>0</td>\n",
              "      <td>1</td>\n",
              "      <td>0</td>\n",
              "      <td>0</td>\n",
              "      <td>0</td>\n",
              "      <td>0</td>\n",
              "      <td>0</td>\n",
              "      <td>0</td>\n",
              "      <td>0</td>\n",
              "      <td>1</td>\n",
              "      <td>0</td>\n",
              "      <td>0</td>\n",
              "      <td>1</td>\n",
              "      <td>0</td>\n",
              "      <td>1</td>\n",
              "      <td>1</td>\n",
              "      <td>0</td>\n",
              "    </tr>\n",
              "  </tbody>\n",
              "</table>\n",
              "</div>"
            ],
            "text/plain": [
              "       age  campaign  ...  poutcome_nonexistent  poutcome_success\n",
              "7019    31         4  ...                     1                 0\n",
              "27175   51         3  ...                     1                 0\n",
              "15817   39         3  ...                     1                 0\n",
              "40971   68         4  ...                     0                 0\n",
              "8467    37         3  ...                     1                 0\n",
              "\n",
              "[5 rows x 50 columns]"
            ]
          },
          "metadata": {
            "tags": []
          },
          "execution_count": 276
        }
      ]
    },
    {
      "cell_type": "code",
      "metadata": {
        "id": "B7nO-ScwxhLS"
      },
      "source": [
        "# Standardisation continuous features for X_train\n",
        "X_train_df = X_train[['age','campaign','emp.var.rate','cons.price.idx','cons.conf.idx','euribor3m','nr.employed']]"
      ],
      "execution_count": 277,
      "outputs": []
    },
    {
      "cell_type": "code",
      "metadata": {
        "id": "r216bMY8xhLT"
      },
      "source": [
        "std_X_train_df=(X_train_df-X_train_df.mean())/X_train_df.std()"
      ],
      "execution_count": 278,
      "outputs": []
    },
    {
      "cell_type": "code",
      "metadata": {
        "id": "QFY2kCHSxhLT"
      },
      "source": [
        "X_train = X_train.drop(['age','campaign','emp.var.rate','cons.price.idx','cons.conf.idx','euribor3m','nr.employed'], 1)"
      ],
      "execution_count": 279,
      "outputs": []
    },
    {
      "cell_type": "code",
      "metadata": {
        "id": "-HjAWsC0xhLV"
      },
      "source": [
        "X_train = pd.concat([X_train,std_X_train_df],axis=1)"
      ],
      "execution_count": 280,
      "outputs": []
    },
    {
      "cell_type": "code",
      "metadata": {
        "id": "ip0px43TxhLW",
        "outputId": "4441455a-d2c5-4a38-e29c-d12df9b4f11c",
        "colab": {
          "base_uri": "https://localhost:8080/",
          "height": 239
        }
      },
      "source": [
        "X_train.head()"
      ],
      "execution_count": 281,
      "outputs": [
        {
          "output_type": "execute_result",
          "data": {
            "text/html": [
              "<div>\n",
              "<style scoped>\n",
              "    .dataframe tbody tr th:only-of-type {\n",
              "        vertical-align: middle;\n",
              "    }\n",
              "\n",
              "    .dataframe tbody tr th {\n",
              "        vertical-align: top;\n",
              "    }\n",
              "\n",
              "    .dataframe thead th {\n",
              "        text-align: right;\n",
              "    }\n",
              "</style>\n",
              "<table border=\"1\" class=\"dataframe\">\n",
              "  <thead>\n",
              "    <tr style=\"text-align: right;\">\n",
              "      <th></th>\n",
              "      <th>job_blue-collar</th>\n",
              "      <th>job_entrepreneur</th>\n",
              "      <th>job_housemaid</th>\n",
              "      <th>job_management</th>\n",
              "      <th>job_retired</th>\n",
              "      <th>job_self-employed</th>\n",
              "      <th>job_services</th>\n",
              "      <th>job_student</th>\n",
              "      <th>job_technician</th>\n",
              "      <th>job_unemployed</th>\n",
              "      <th>job_unknown</th>\n",
              "      <th>marital_married</th>\n",
              "      <th>marital_single</th>\n",
              "      <th>education_Secondary_Education</th>\n",
              "      <th>education_Tertiary_Education</th>\n",
              "      <th>education_professional.course</th>\n",
              "      <th>education_unknown</th>\n",
              "      <th>default_unknown</th>\n",
              "      <th>default_yes</th>\n",
              "      <th>housing_unknown</th>\n",
              "      <th>housing_yes</th>\n",
              "      <th>loan_unknown</th>\n",
              "      <th>loan_yes</th>\n",
              "      <th>contact_telephone</th>\n",
              "      <th>month_aug</th>\n",
              "      <th>month_dec</th>\n",
              "      <th>month_jul</th>\n",
              "      <th>month_jun</th>\n",
              "      <th>month_mar</th>\n",
              "      <th>month_may</th>\n",
              "      <th>month_nov</th>\n",
              "      <th>month_oct</th>\n",
              "      <th>month_sep</th>\n",
              "      <th>day_of_week_mon</th>\n",
              "      <th>day_of_week_thu</th>\n",
              "      <th>day_of_week_tue</th>\n",
              "      <th>day_of_week_wed</th>\n",
              "      <th>pdays_Contacted_in_first_10days</th>\n",
              "      <th>pdays_First_time_contacted</th>\n",
              "      <th>previous_More than_3_times</th>\n",
              "      <th>previous_Never contacted</th>\n",
              "      <th>poutcome_nonexistent</th>\n",
              "      <th>poutcome_success</th>\n",
              "      <th>age</th>\n",
              "      <th>campaign</th>\n",
              "      <th>emp.var.rate</th>\n",
              "      <th>cons.price.idx</th>\n",
              "      <th>cons.conf.idx</th>\n",
              "      <th>euribor3m</th>\n",
              "      <th>nr.employed</th>\n",
              "    </tr>\n",
              "  </thead>\n",
              "  <tbody>\n",
              "    <tr>\n",
              "      <th>7019</th>\n",
              "      <td>0</td>\n",
              "      <td>0</td>\n",
              "      <td>0</td>\n",
              "      <td>0</td>\n",
              "      <td>0</td>\n",
              "      <td>0</td>\n",
              "      <td>0</td>\n",
              "      <td>0</td>\n",
              "      <td>0</td>\n",
              "      <td>0</td>\n",
              "      <td>0</td>\n",
              "      <td>1</td>\n",
              "      <td>0</td>\n",
              "      <td>0</td>\n",
              "      <td>1</td>\n",
              "      <td>0</td>\n",
              "      <td>0</td>\n",
              "      <td>0</td>\n",
              "      <td>0</td>\n",
              "      <td>0</td>\n",
              "      <td>1</td>\n",
              "      <td>0</td>\n",
              "      <td>0</td>\n",
              "      <td>1</td>\n",
              "      <td>0</td>\n",
              "      <td>0</td>\n",
              "      <td>0</td>\n",
              "      <td>0</td>\n",
              "      <td>0</td>\n",
              "      <td>1</td>\n",
              "      <td>0</td>\n",
              "      <td>0</td>\n",
              "      <td>0</td>\n",
              "      <td>0</td>\n",
              "      <td>1</td>\n",
              "      <td>0</td>\n",
              "      <td>0</td>\n",
              "      <td>0</td>\n",
              "      <td>1</td>\n",
              "      <td>0</td>\n",
              "      <td>1</td>\n",
              "      <td>1</td>\n",
              "      <td>0</td>\n",
              "      <td>-0.877019</td>\n",
              "      <td>0.646930</td>\n",
              "      <td>0.649758</td>\n",
              "      <td>0.723298</td>\n",
              "      <td>0.891826</td>\n",
              "      <td>0.715448</td>\n",
              "      <td>0.333618</td>\n",
              "    </tr>\n",
              "    <tr>\n",
              "      <th>27175</th>\n",
              "      <td>0</td>\n",
              "      <td>0</td>\n",
              "      <td>0</td>\n",
              "      <td>0</td>\n",
              "      <td>0</td>\n",
              "      <td>0</td>\n",
              "      <td>0</td>\n",
              "      <td>0</td>\n",
              "      <td>1</td>\n",
              "      <td>0</td>\n",
              "      <td>0</td>\n",
              "      <td>0</td>\n",
              "      <td>1</td>\n",
              "      <td>0</td>\n",
              "      <td>0</td>\n",
              "      <td>0</td>\n",
              "      <td>0</td>\n",
              "      <td>0</td>\n",
              "      <td>0</td>\n",
              "      <td>0</td>\n",
              "      <td>1</td>\n",
              "      <td>0</td>\n",
              "      <td>0</td>\n",
              "      <td>1</td>\n",
              "      <td>0</td>\n",
              "      <td>0</td>\n",
              "      <td>0</td>\n",
              "      <td>0</td>\n",
              "      <td>0</td>\n",
              "      <td>0</td>\n",
              "      <td>1</td>\n",
              "      <td>0</td>\n",
              "      <td>0</td>\n",
              "      <td>0</td>\n",
              "      <td>0</td>\n",
              "      <td>0</td>\n",
              "      <td>0</td>\n",
              "      <td>0</td>\n",
              "      <td>1</td>\n",
              "      <td>0</td>\n",
              "      <td>1</td>\n",
              "      <td>1</td>\n",
              "      <td>0</td>\n",
              "      <td>1.084499</td>\n",
              "      <td>0.213946</td>\n",
              "      <td>-0.114599</td>\n",
              "      <td>-0.650827</td>\n",
              "      <td>-0.319720</td>\n",
              "      <td>0.231937</td>\n",
              "      <td>0.400051</td>\n",
              "    </tr>\n",
              "    <tr>\n",
              "      <th>15817</th>\n",
              "      <td>0</td>\n",
              "      <td>0</td>\n",
              "      <td>0</td>\n",
              "      <td>0</td>\n",
              "      <td>0</td>\n",
              "      <td>0</td>\n",
              "      <td>0</td>\n",
              "      <td>0</td>\n",
              "      <td>0</td>\n",
              "      <td>0</td>\n",
              "      <td>0</td>\n",
              "      <td>0</td>\n",
              "      <td>1</td>\n",
              "      <td>0</td>\n",
              "      <td>1</td>\n",
              "      <td>0</td>\n",
              "      <td>0</td>\n",
              "      <td>0</td>\n",
              "      <td>0</td>\n",
              "      <td>0</td>\n",
              "      <td>0</td>\n",
              "      <td>0</td>\n",
              "      <td>0</td>\n",
              "      <td>0</td>\n",
              "      <td>0</td>\n",
              "      <td>0</td>\n",
              "      <td>1</td>\n",
              "      <td>0</td>\n",
              "      <td>0</td>\n",
              "      <td>0</td>\n",
              "      <td>0</td>\n",
              "      <td>0</td>\n",
              "      <td>0</td>\n",
              "      <td>1</td>\n",
              "      <td>0</td>\n",
              "      <td>0</td>\n",
              "      <td>0</td>\n",
              "      <td>0</td>\n",
              "      <td>1</td>\n",
              "      <td>0</td>\n",
              "      <td>1</td>\n",
              "      <td>1</td>\n",
              "      <td>0</td>\n",
              "      <td>-0.092412</td>\n",
              "      <td>0.213946</td>\n",
              "      <td>0.840847</td>\n",
              "      <td>0.591769</td>\n",
              "      <td>-0.471164</td>\n",
              "      <td>0.773077</td>\n",
              "      <td>0.847088</td>\n",
              "    </tr>\n",
              "    <tr>\n",
              "      <th>40971</th>\n",
              "      <td>0</td>\n",
              "      <td>0</td>\n",
              "      <td>0</td>\n",
              "      <td>0</td>\n",
              "      <td>1</td>\n",
              "      <td>0</td>\n",
              "      <td>0</td>\n",
              "      <td>0</td>\n",
              "      <td>0</td>\n",
              "      <td>0</td>\n",
              "      <td>0</td>\n",
              "      <td>0</td>\n",
              "      <td>0</td>\n",
              "      <td>1</td>\n",
              "      <td>0</td>\n",
              "      <td>0</td>\n",
              "      <td>0</td>\n",
              "      <td>0</td>\n",
              "      <td>0</td>\n",
              "      <td>0</td>\n",
              "      <td>1</td>\n",
              "      <td>0</td>\n",
              "      <td>0</td>\n",
              "      <td>0</td>\n",
              "      <td>0</td>\n",
              "      <td>0</td>\n",
              "      <td>0</td>\n",
              "      <td>0</td>\n",
              "      <td>0</td>\n",
              "      <td>0</td>\n",
              "      <td>0</td>\n",
              "      <td>1</td>\n",
              "      <td>0</td>\n",
              "      <td>1</td>\n",
              "      <td>0</td>\n",
              "      <td>0</td>\n",
              "      <td>0</td>\n",
              "      <td>0</td>\n",
              "      <td>1</td>\n",
              "      <td>0</td>\n",
              "      <td>0</td>\n",
              "      <td>0</td>\n",
              "      <td>0</td>\n",
              "      <td>2.751789</td>\n",
              "      <td>0.646930</td>\n",
              "      <td>-0.751563</td>\n",
              "      <td>1.773794</td>\n",
              "      <td>-1.942327</td>\n",
              "      <td>-1.509050</td>\n",
              "      <td>-2.813633</td>\n",
              "    </tr>\n",
              "    <tr>\n",
              "      <th>8467</th>\n",
              "      <td>0</td>\n",
              "      <td>0</td>\n",
              "      <td>0</td>\n",
              "      <td>0</td>\n",
              "      <td>0</td>\n",
              "      <td>0</td>\n",
              "      <td>0</td>\n",
              "      <td>0</td>\n",
              "      <td>1</td>\n",
              "      <td>0</td>\n",
              "      <td>0</td>\n",
              "      <td>1</td>\n",
              "      <td>0</td>\n",
              "      <td>1</td>\n",
              "      <td>0</td>\n",
              "      <td>0</td>\n",
              "      <td>0</td>\n",
              "      <td>0</td>\n",
              "      <td>0</td>\n",
              "      <td>0</td>\n",
              "      <td>1</td>\n",
              "      <td>0</td>\n",
              "      <td>0</td>\n",
              "      <td>1</td>\n",
              "      <td>0</td>\n",
              "      <td>0</td>\n",
              "      <td>0</td>\n",
              "      <td>1</td>\n",
              "      <td>0</td>\n",
              "      <td>0</td>\n",
              "      <td>0</td>\n",
              "      <td>0</td>\n",
              "      <td>0</td>\n",
              "      <td>0</td>\n",
              "      <td>0</td>\n",
              "      <td>1</td>\n",
              "      <td>0</td>\n",
              "      <td>0</td>\n",
              "      <td>1</td>\n",
              "      <td>0</td>\n",
              "      <td>1</td>\n",
              "      <td>1</td>\n",
              "      <td>0</td>\n",
              "      <td>-0.288564</td>\n",
              "      <td>0.213946</td>\n",
              "      <td>0.840847</td>\n",
              "      <td>1.538427</td>\n",
              "      <td>-0.276451</td>\n",
              "      <td>0.717753</td>\n",
              "      <td>0.847088</td>\n",
              "    </tr>\n",
              "  </tbody>\n",
              "</table>\n",
              "</div>"
            ],
            "text/plain": [
              "       job_blue-collar  job_entrepreneur  ...  euribor3m  nr.employed\n",
              "7019                 0                 0  ...   0.715448     0.333618\n",
              "27175                0                 0  ...   0.231937     0.400051\n",
              "15817                0                 0  ...   0.773077     0.847088\n",
              "40971                0                 0  ...  -1.509050    -2.813633\n",
              "8467                 0                 0  ...   0.717753     0.847088\n",
              "\n",
              "[5 rows x 50 columns]"
            ]
          },
          "metadata": {
            "tags": []
          },
          "execution_count": 281
        }
      ]
    },
    {
      "cell_type": "code",
      "metadata": {
        "id": "sIHRP093xhLX"
      },
      "source": [
        "# Standardisation continuous features for X_train\n",
        "X_test_df = X_test[['age','campaign','emp.var.rate','cons.price.idx','cons.conf.idx','euribor3m','nr.employed']]"
      ],
      "execution_count": 282,
      "outputs": []
    },
    {
      "cell_type": "code",
      "metadata": {
        "id": "20pcH_rHxhLY"
      },
      "source": [
        "std_X_test_df=(X_test_df-X_test_df.mean())/X_test_df.std()"
      ],
      "execution_count": 283,
      "outputs": []
    },
    {
      "cell_type": "code",
      "metadata": {
        "id": "is1j-05kxhLa"
      },
      "source": [
        "X_test = X_test.drop(['age','campaign','emp.var.rate','cons.price.idx','cons.conf.idx','euribor3m','nr.employed'], 1)"
      ],
      "execution_count": 284,
      "outputs": []
    },
    {
      "cell_type": "code",
      "metadata": {
        "id": "Igd5C04jxhLb"
      },
      "source": [
        "X_test = pd.concat([X_test,std_X_test_df],axis=1)"
      ],
      "execution_count": 285,
      "outputs": []
    },
    {
      "cell_type": "code",
      "metadata": {
        "id": "6HFuwggVxhLc",
        "outputId": "ee7247ec-115d-4698-af58-10b0723b9c35",
        "colab": {
          "base_uri": "https://localhost:8080/",
          "height": 239
        }
      },
      "source": [
        "X_test.head()"
      ],
      "execution_count": 286,
      "outputs": [
        {
          "output_type": "execute_result",
          "data": {
            "text/html": [
              "<div>\n",
              "<style scoped>\n",
              "    .dataframe tbody tr th:only-of-type {\n",
              "        vertical-align: middle;\n",
              "    }\n",
              "\n",
              "    .dataframe tbody tr th {\n",
              "        vertical-align: top;\n",
              "    }\n",
              "\n",
              "    .dataframe thead th {\n",
              "        text-align: right;\n",
              "    }\n",
              "</style>\n",
              "<table border=\"1\" class=\"dataframe\">\n",
              "  <thead>\n",
              "    <tr style=\"text-align: right;\">\n",
              "      <th></th>\n",
              "      <th>job_blue-collar</th>\n",
              "      <th>job_entrepreneur</th>\n",
              "      <th>job_housemaid</th>\n",
              "      <th>job_management</th>\n",
              "      <th>job_retired</th>\n",
              "      <th>job_self-employed</th>\n",
              "      <th>job_services</th>\n",
              "      <th>job_student</th>\n",
              "      <th>job_technician</th>\n",
              "      <th>job_unemployed</th>\n",
              "      <th>job_unknown</th>\n",
              "      <th>marital_married</th>\n",
              "      <th>marital_single</th>\n",
              "      <th>education_Secondary_Education</th>\n",
              "      <th>education_Tertiary_Education</th>\n",
              "      <th>education_professional.course</th>\n",
              "      <th>education_unknown</th>\n",
              "      <th>default_unknown</th>\n",
              "      <th>default_yes</th>\n",
              "      <th>housing_unknown</th>\n",
              "      <th>housing_yes</th>\n",
              "      <th>loan_unknown</th>\n",
              "      <th>loan_yes</th>\n",
              "      <th>contact_telephone</th>\n",
              "      <th>month_aug</th>\n",
              "      <th>month_dec</th>\n",
              "      <th>month_jul</th>\n",
              "      <th>month_jun</th>\n",
              "      <th>month_mar</th>\n",
              "      <th>month_may</th>\n",
              "      <th>month_nov</th>\n",
              "      <th>month_oct</th>\n",
              "      <th>month_sep</th>\n",
              "      <th>day_of_week_mon</th>\n",
              "      <th>day_of_week_thu</th>\n",
              "      <th>day_of_week_tue</th>\n",
              "      <th>day_of_week_wed</th>\n",
              "      <th>pdays_Contacted_in_first_10days</th>\n",
              "      <th>pdays_First_time_contacted</th>\n",
              "      <th>previous_More than_3_times</th>\n",
              "      <th>previous_Never contacted</th>\n",
              "      <th>poutcome_nonexistent</th>\n",
              "      <th>poutcome_success</th>\n",
              "      <th>age</th>\n",
              "      <th>campaign</th>\n",
              "      <th>emp.var.rate</th>\n",
              "      <th>cons.price.idx</th>\n",
              "      <th>cons.conf.idx</th>\n",
              "      <th>euribor3m</th>\n",
              "      <th>nr.employed</th>\n",
              "    </tr>\n",
              "  </thead>\n",
              "  <tbody>\n",
              "    <tr>\n",
              "      <th>33148</th>\n",
              "      <td>0</td>\n",
              "      <td>0</td>\n",
              "      <td>0</td>\n",
              "      <td>0</td>\n",
              "      <td>0</td>\n",
              "      <td>0</td>\n",
              "      <td>0</td>\n",
              "      <td>0</td>\n",
              "      <td>0</td>\n",
              "      <td>0</td>\n",
              "      <td>0</td>\n",
              "      <td>0</td>\n",
              "      <td>1</td>\n",
              "      <td>1</td>\n",
              "      <td>0</td>\n",
              "      <td>0</td>\n",
              "      <td>0</td>\n",
              "      <td>0</td>\n",
              "      <td>0</td>\n",
              "      <td>0</td>\n",
              "      <td>1</td>\n",
              "      <td>0</td>\n",
              "      <td>1</td>\n",
              "      <td>0</td>\n",
              "      <td>0</td>\n",
              "      <td>0</td>\n",
              "      <td>0</td>\n",
              "      <td>0</td>\n",
              "      <td>0</td>\n",
              "      <td>1</td>\n",
              "      <td>0</td>\n",
              "      <td>0</td>\n",
              "      <td>0</td>\n",
              "      <td>0</td>\n",
              "      <td>0</td>\n",
              "      <td>1</td>\n",
              "      <td>0</td>\n",
              "      <td>0</td>\n",
              "      <td>1</td>\n",
              "      <td>0</td>\n",
              "      <td>1</td>\n",
              "      <td>1</td>\n",
              "      <td>0</td>\n",
              "      <td>-1.182984</td>\n",
              "      <td>-0.651460</td>\n",
              "      <td>-1.199007</td>\n",
              "      <td>-1.172918</td>\n",
              "      <td>-1.237193</td>\n",
              "      <td>-1.348603</td>\n",
              "      <td>-0.944859</td>\n",
              "    </tr>\n",
              "    <tr>\n",
              "      <th>27585</th>\n",
              "      <td>0</td>\n",
              "      <td>0</td>\n",
              "      <td>0</td>\n",
              "      <td>0</td>\n",
              "      <td>0</td>\n",
              "      <td>0</td>\n",
              "      <td>0</td>\n",
              "      <td>0</td>\n",
              "      <td>1</td>\n",
              "      <td>0</td>\n",
              "      <td>0</td>\n",
              "      <td>1</td>\n",
              "      <td>0</td>\n",
              "      <td>0</td>\n",
              "      <td>0</td>\n",
              "      <td>1</td>\n",
              "      <td>0</td>\n",
              "      <td>0</td>\n",
              "      <td>0</td>\n",
              "      <td>0</td>\n",
              "      <td>0</td>\n",
              "      <td>0</td>\n",
              "      <td>0</td>\n",
              "      <td>0</td>\n",
              "      <td>0</td>\n",
              "      <td>0</td>\n",
              "      <td>0</td>\n",
              "      <td>0</td>\n",
              "      <td>0</td>\n",
              "      <td>0</td>\n",
              "      <td>1</td>\n",
              "      <td>0</td>\n",
              "      <td>0</td>\n",
              "      <td>0</td>\n",
              "      <td>0</td>\n",
              "      <td>0</td>\n",
              "      <td>0</td>\n",
              "      <td>0</td>\n",
              "      <td>1</td>\n",
              "      <td>0</td>\n",
              "      <td>1</td>\n",
              "      <td>1</td>\n",
              "      <td>0</td>\n",
              "      <td>0.100062</td>\n",
              "      <td>0.663413</td>\n",
              "      <td>-0.118526</td>\n",
              "      <td>-0.644728</td>\n",
              "      <td>-0.332420</td>\n",
              "      <td>0.226981</td>\n",
              "      <td>0.393573</td>\n",
              "    </tr>\n",
              "    <tr>\n",
              "      <th>15722</th>\n",
              "      <td>1</td>\n",
              "      <td>0</td>\n",
              "      <td>0</td>\n",
              "      <td>0</td>\n",
              "      <td>0</td>\n",
              "      <td>0</td>\n",
              "      <td>0</td>\n",
              "      <td>0</td>\n",
              "      <td>0</td>\n",
              "      <td>0</td>\n",
              "      <td>0</td>\n",
              "      <td>1</td>\n",
              "      <td>0</td>\n",
              "      <td>1</td>\n",
              "      <td>0</td>\n",
              "      <td>0</td>\n",
              "      <td>0</td>\n",
              "      <td>0</td>\n",
              "      <td>0</td>\n",
              "      <td>0</td>\n",
              "      <td>0</td>\n",
              "      <td>0</td>\n",
              "      <td>1</td>\n",
              "      <td>0</td>\n",
              "      <td>0</td>\n",
              "      <td>0</td>\n",
              "      <td>1</td>\n",
              "      <td>0</td>\n",
              "      <td>0</td>\n",
              "      <td>0</td>\n",
              "      <td>0</td>\n",
              "      <td>0</td>\n",
              "      <td>0</td>\n",
              "      <td>1</td>\n",
              "      <td>0</td>\n",
              "      <td>0</td>\n",
              "      <td>0</td>\n",
              "      <td>0</td>\n",
              "      <td>1</td>\n",
              "      <td>0</td>\n",
              "      <td>1</td>\n",
              "      <td>1</td>\n",
              "      <td>0</td>\n",
              "      <td>-0.590809</td>\n",
              "      <td>-0.651460</td>\n",
              "      <td>0.834840</td>\n",
              "      <td>0.590583</td>\n",
              "      <td>-0.483215</td>\n",
              "      <td>0.768913</td>\n",
              "      <td>0.840640</td>\n",
              "    </tr>\n",
              "    <tr>\n",
              "      <th>40349</th>\n",
              "      <td>0</td>\n",
              "      <td>0</td>\n",
              "      <td>0</td>\n",
              "      <td>0</td>\n",
              "      <td>0</td>\n",
              "      <td>0</td>\n",
              "      <td>0</td>\n",
              "      <td>0</td>\n",
              "      <td>0</td>\n",
              "      <td>0</td>\n",
              "      <td>0</td>\n",
              "      <td>0</td>\n",
              "      <td>1</td>\n",
              "      <td>0</td>\n",
              "      <td>1</td>\n",
              "      <td>0</td>\n",
              "      <td>0</td>\n",
              "      <td>0</td>\n",
              "      <td>0</td>\n",
              "      <td>0</td>\n",
              "      <td>1</td>\n",
              "      <td>0</td>\n",
              "      <td>1</td>\n",
              "      <td>0</td>\n",
              "      <td>1</td>\n",
              "      <td>0</td>\n",
              "      <td>0</td>\n",
              "      <td>0</td>\n",
              "      <td>0</td>\n",
              "      <td>0</td>\n",
              "      <td>0</td>\n",
              "      <td>0</td>\n",
              "      <td>0</td>\n",
              "      <td>0</td>\n",
              "      <td>0</td>\n",
              "      <td>1</td>\n",
              "      <td>0</td>\n",
              "      <td>1</td>\n",
              "      <td>0</td>\n",
              "      <td>0</td>\n",
              "      <td>0</td>\n",
              "      <td>0</td>\n",
              "      <td>1</td>\n",
              "      <td>-1.182984</td>\n",
              "      <td>-0.213169</td>\n",
              "      <td>-1.135450</td>\n",
              "      <td>0.778116</td>\n",
              "      <td>0.464642</td>\n",
              "      <td>-1.574841</td>\n",
              "      <td>-2.432774</td>\n",
              "    </tr>\n",
              "    <tr>\n",
              "      <th>2576</th>\n",
              "      <td>0</td>\n",
              "      <td>0</td>\n",
              "      <td>0</td>\n",
              "      <td>0</td>\n",
              "      <td>0</td>\n",
              "      <td>0</td>\n",
              "      <td>1</td>\n",
              "      <td>0</td>\n",
              "      <td>0</td>\n",
              "      <td>0</td>\n",
              "      <td>0</td>\n",
              "      <td>1</td>\n",
              "      <td>0</td>\n",
              "      <td>1</td>\n",
              "      <td>0</td>\n",
              "      <td>0</td>\n",
              "      <td>0</td>\n",
              "      <td>0</td>\n",
              "      <td>0</td>\n",
              "      <td>0</td>\n",
              "      <td>0</td>\n",
              "      <td>0</td>\n",
              "      <td>0</td>\n",
              "      <td>1</td>\n",
              "      <td>0</td>\n",
              "      <td>0</td>\n",
              "      <td>0</td>\n",
              "      <td>0</td>\n",
              "      <td>0</td>\n",
              "      <td>1</td>\n",
              "      <td>0</td>\n",
              "      <td>0</td>\n",
              "      <td>0</td>\n",
              "      <td>0</td>\n",
              "      <td>0</td>\n",
              "      <td>1</td>\n",
              "      <td>0</td>\n",
              "      <td>0</td>\n",
              "      <td>1</td>\n",
              "      <td>0</td>\n",
              "      <td>1</td>\n",
              "      <td>1</td>\n",
              "      <td>0</td>\n",
              "      <td>1.481803</td>\n",
              "      <td>-0.213169</td>\n",
              "      <td>0.644167</td>\n",
              "      <td>0.721340</td>\n",
              "      <td>0.873944</td>\n",
              "      <td>0.708890</td>\n",
              "      <td>0.327136</td>\n",
              "    </tr>\n",
              "  </tbody>\n",
              "</table>\n",
              "</div>"
            ],
            "text/plain": [
              "       job_blue-collar  job_entrepreneur  ...  euribor3m  nr.employed\n",
              "33148                0                 0  ...  -1.348603    -0.944859\n",
              "27585                0                 0  ...   0.226981     0.393573\n",
              "15722                1                 0  ...   0.768913     0.840640\n",
              "40349                0                 0  ...  -1.574841    -2.432774\n",
              "2576                 0                 0  ...   0.708890     0.327136\n",
              "\n",
              "[5 rows x 50 columns]"
            ]
          },
          "metadata": {
            "tags": []
          },
          "execution_count": 286
        }
      ]
    },
    {
      "cell_type": "code",
      "metadata": {
        "id": "wgGyn9yGxhLg"
      },
      "source": [
        "import statsmodels.api as sm"
      ],
      "execution_count": 287,
      "outputs": []
    },
    {
      "cell_type": "markdown",
      "metadata": {
        "id": "prv4EcsSxhLj"
      },
      "source": [
        "### Modelling\n",
        "\n",
        "Now that the data preparation step is complete, we will jump straight into modelling\n",
        "\n",
        "- Logistic Regression"
      ]
    },
    {
      "cell_type": "markdown",
      "metadata": {
        "id": "cGFr1PVcxhLj"
      },
      "source": [
        "#### Logistic Regression"
      ]
    },
    {
      "cell_type": "code",
      "metadata": {
        "id": "QlsrLUVTxhLj"
      },
      "source": [
        "# Importing LogisticRegression and metrics from sklearn library\n",
        "from sklearn.linear_model import LogisticRegression\n",
        "from sklearn import metrics"
      ],
      "execution_count": 288,
      "outputs": []
    },
    {
      "cell_type": "code",
      "metadata": {
        "id": "9dF7XV33xhLl",
        "outputId": "f6188dbd-5737-4cb2-d567-b7a9dacac65a",
        "colab": {
          "base_uri": "https://localhost:8080/",
          "height": 104
        }
      },
      "source": [
        "# Fitting the model\n",
        "logreg = LogisticRegression()\n",
        "logreg.fit(X_train, y_train)"
      ],
      "execution_count": 289,
      "outputs": [
        {
          "output_type": "execute_result",
          "data": {
            "text/plain": [
              "LogisticRegression(C=1.0, class_weight=None, dual=False, fit_intercept=True,\n",
              "                   intercept_scaling=1, l1_ratio=None, max_iter=100,\n",
              "                   multi_class='auto', n_jobs=None, penalty='l2',\n",
              "                   random_state=None, solver='lbfgs', tol=0.0001, verbose=0,\n",
              "                   warm_start=False)"
            ]
          },
          "metadata": {
            "tags": []
          },
          "execution_count": 289
        }
      ]
    },
    {
      "cell_type": "code",
      "metadata": {
        "scrolled": true,
        "id": "u55bjAK1xhLm",
        "outputId": "399a693b-7fb7-4a48-c79d-46282d8a7437",
        "colab": {
          "base_uri": "https://localhost:8080/",
          "height": 1000
        }
      },
      "source": [
        "# Logistic regression model\n",
        "logm1 = sm.GLM(y_train,(sm.add_constant(X_train)), family = sm.families.Binomial())\n",
        "logm1.fit().summary()"
      ],
      "execution_count": 290,
      "outputs": [
        {
          "output_type": "execute_result",
          "data": {
            "text/html": [
              "<table class=\"simpletable\">\n",
              "<caption>Generalized Linear Model Regression Results</caption>\n",
              "<tr>\n",
              "  <th>Dep. Variable:</th>       <td>response</td>     <th>  No. Observations:  </th>  <td> 28831</td> \n",
              "</tr>\n",
              "<tr>\n",
              "  <th>Model:</th>                  <td>GLM</td>       <th>  Df Residuals:      </th>  <td> 28782</td> \n",
              "</tr>\n",
              "<tr>\n",
              "  <th>Model Family:</th>        <td>Binomial</td>     <th>  Df Model:          </th>  <td>    48</td> \n",
              "</tr>\n",
              "<tr>\n",
              "  <th>Link Function:</th>         <td>logit</td>      <th>  Scale:             </th> <td>  1.0000</td>\n",
              "</tr>\n",
              "<tr>\n",
              "  <th>Method:</th>                <td>IRLS</td>       <th>  Log-Likelihood:    </th> <td> -7933.3</td>\n",
              "</tr>\n",
              "<tr>\n",
              "  <th>Date:</th>            <td>Sat, 10 Oct 2020</td> <th>  Deviance:          </th> <td>  15867.</td>\n",
              "</tr>\n",
              "<tr>\n",
              "  <th>Time:</th>                <td>05:28:32</td>     <th>  Pearson chi2:      </th> <td>2.92e+04</td>\n",
              "</tr>\n",
              "<tr>\n",
              "  <th>No. Iterations:</th>         <td>19</td>        <th>                     </th>     <td> </td>   \n",
              "</tr>\n",
              "<tr>\n",
              "  <th>Covariance Type:</th>     <td>nonrobust</td>    <th>                     </th>     <td> </td>   \n",
              "</tr>\n",
              "</table>\n",
              "<table class=\"simpletable\">\n",
              "<tr>\n",
              "                 <td></td>                    <th>coef</th>     <th>std err</th>      <th>z</th>      <th>P>|z|</th>  <th>[0.025</th>    <th>0.975]</th>  \n",
              "</tr>\n",
              "<tr>\n",
              "  <th>const</th>                           <td>   -1.6435</td> <td>    0.284</td> <td>   -5.777</td> <td> 0.000</td> <td>   -2.201</td> <td>   -1.086</td>\n",
              "</tr>\n",
              "<tr>\n",
              "  <th>job_blue-collar</th>                 <td>   -0.1547</td> <td>    0.083</td> <td>   -1.873</td> <td> 0.061</td> <td>   -0.317</td> <td>    0.007</td>\n",
              "</tr>\n",
              "<tr>\n",
              "  <th>job_entrepreneur</th>                <td>   -0.2347</td> <td>    0.132</td> <td>   -1.776</td> <td> 0.076</td> <td>   -0.494</td> <td>    0.024</td>\n",
              "</tr>\n",
              "<tr>\n",
              "  <th>job_housemaid</th>                   <td>    0.0296</td> <td>    0.148</td> <td>    0.201</td> <td> 0.841</td> <td>   -0.260</td> <td>    0.319</td>\n",
              "</tr>\n",
              "<tr>\n",
              "  <th>job_management</th>                  <td>   -0.1551</td> <td>    0.092</td> <td>   -1.690</td> <td> 0.091</td> <td>   -0.335</td> <td>    0.025</td>\n",
              "</tr>\n",
              "<tr>\n",
              "  <th>job_retired</th>                     <td>    0.2281</td> <td>    0.110</td> <td>    2.071</td> <td> 0.038</td> <td>    0.012</td> <td>    0.444</td>\n",
              "</tr>\n",
              "<tr>\n",
              "  <th>job_self-employed</th>               <td>   -0.0586</td> <td>    0.121</td> <td>   -0.483</td> <td> 0.629</td> <td>   -0.297</td> <td>    0.179</td>\n",
              "</tr>\n",
              "<tr>\n",
              "  <th>job_services</th>                    <td>   -0.0573</td> <td>    0.088</td> <td>   -0.649</td> <td> 0.516</td> <td>   -0.230</td> <td>    0.116</td>\n",
              "</tr>\n",
              "<tr>\n",
              "  <th>job_student</th>                     <td>    0.2777</td> <td>    0.120</td> <td>    2.324</td> <td> 0.020</td> <td>    0.043</td> <td>    0.512</td>\n",
              "</tr>\n",
              "<tr>\n",
              "  <th>job_technician</th>                  <td>   -0.0158</td> <td>    0.075</td> <td>   -0.211</td> <td> 0.833</td> <td>   -0.162</td> <td>    0.131</td>\n",
              "</tr>\n",
              "<tr>\n",
              "  <th>job_unemployed</th>                  <td>   -0.0249</td> <td>    0.134</td> <td>   -0.186</td> <td> 0.853</td> <td>   -0.288</td> <td>    0.238</td>\n",
              "</tr>\n",
              "<tr>\n",
              "  <th>job_unknown</th>                     <td>   -0.0977</td> <td>    0.241</td> <td>   -0.406</td> <td> 0.685</td> <td>   -0.569</td> <td>    0.374</td>\n",
              "</tr>\n",
              "<tr>\n",
              "  <th>marital_married</th>                 <td>    0.0546</td> <td>    0.072</td> <td>    0.761</td> <td> 0.446</td> <td>   -0.086</td> <td>    0.195</td>\n",
              "</tr>\n",
              "<tr>\n",
              "  <th>marital_single</th>                  <td>    0.1182</td> <td>    0.082</td> <td>    1.444</td> <td> 0.149</td> <td>   -0.042</td> <td>    0.279</td>\n",
              "</tr>\n",
              "<tr>\n",
              "  <th>education_Secondary_Education</th>   <td>    0.0322</td> <td>    0.072</td> <td>    0.447</td> <td> 0.655</td> <td>   -0.109</td> <td>    0.174</td>\n",
              "</tr>\n",
              "<tr>\n",
              "  <th>education_Tertiary_Education</th>    <td>    0.1214</td> <td>    0.073</td> <td>    1.663</td> <td> 0.096</td> <td>   -0.022</td> <td>    0.265</td>\n",
              "</tr>\n",
              "<tr>\n",
              "  <th>education_professional.course</th>   <td>    0.0775</td> <td>    0.086</td> <td>    0.902</td> <td> 0.367</td> <td>   -0.091</td> <td>    0.246</td>\n",
              "</tr>\n",
              "<tr>\n",
              "  <th>education_unknown</th>               <td>    0.1810</td> <td>    0.109</td> <td>    1.663</td> <td> 0.096</td> <td>   -0.032</td> <td>    0.394</td>\n",
              "</tr>\n",
              "<tr>\n",
              "  <th>default_unknown</th>                 <td>   -0.2785</td> <td>    0.070</td> <td>   -4.003</td> <td> 0.000</td> <td>   -0.415</td> <td>   -0.142</td>\n",
              "</tr>\n",
              "<tr>\n",
              "  <th>default_yes</th>                     <td>  -17.5533</td> <td> 1.25e+04</td> <td>   -0.001</td> <td> 0.999</td> <td>-2.45e+04</td> <td> 2.45e+04</td>\n",
              "</tr>\n",
              "<tr>\n",
              "  <th>housing_unknown</th>                 <td>   -0.0493</td> <td>    0.071</td> <td>   -0.693</td> <td> 0.489</td> <td>   -0.189</td> <td>    0.090</td>\n",
              "</tr>\n",
              "<tr>\n",
              "  <th>housing_yes</th>                     <td>   -0.0349</td> <td>    0.043</td> <td>   -0.809</td> <td> 0.419</td> <td>   -0.120</td> <td>    0.050</td>\n",
              "</tr>\n",
              "<tr>\n",
              "  <th>loan_unknown</th>                    <td>   -0.0493</td> <td>    0.071</td> <td>   -0.693</td> <td> 0.489</td> <td>   -0.189</td> <td>    0.090</td>\n",
              "</tr>\n",
              "<tr>\n",
              "  <th>loan_yes</th>                        <td>    0.0121</td> <td>    0.059</td> <td>    0.203</td> <td> 0.839</td> <td>   -0.104</td> <td>    0.128</td>\n",
              "</tr>\n",
              "<tr>\n",
              "  <th>contact_telephone</th>               <td>   -0.6338</td> <td>    0.079</td> <td>   -8.055</td> <td> 0.000</td> <td>   -0.788</td> <td>   -0.480</td>\n",
              "</tr>\n",
              "<tr>\n",
              "  <th>month_aug</th>                       <td>    0.4285</td> <td>    0.128</td> <td>    3.346</td> <td> 0.001</td> <td>    0.178</td> <td>    0.679</td>\n",
              "</tr>\n",
              "<tr>\n",
              "  <th>month_dec</th>                       <td>    0.2895</td> <td>    0.226</td> <td>    1.282</td> <td> 0.200</td> <td>   -0.153</td> <td>    0.732</td>\n",
              "</tr>\n",
              "<tr>\n",
              "  <th>month_jul</th>                       <td>   -0.0148</td> <td>    0.100</td> <td>   -0.148</td> <td> 0.882</td> <td>   -0.211</td> <td>    0.181</td>\n",
              "</tr>\n",
              "<tr>\n",
              "  <th>month_jun</th>                       <td>   -0.6888</td> <td>    0.132</td> <td>   -5.235</td> <td> 0.000</td> <td>   -0.947</td> <td>   -0.431</td>\n",
              "</tr>\n",
              "<tr>\n",
              "  <th>month_mar</th>                       <td>    1.4622</td> <td>    0.155</td> <td>    9.461</td> <td> 0.000</td> <td>    1.159</td> <td>    1.765</td>\n",
              "</tr>\n",
              "<tr>\n",
              "  <th>month_may</th>                       <td>   -0.4262</td> <td>    0.086</td> <td>   -4.960</td> <td> 0.000</td> <td>   -0.595</td> <td>   -0.258</td>\n",
              "</tr>\n",
              "<tr>\n",
              "  <th>month_nov</th>                       <td>   -0.4562</td> <td>    0.125</td> <td>   -3.659</td> <td> 0.000</td> <td>   -0.701</td> <td>   -0.212</td>\n",
              "</tr>\n",
              "<tr>\n",
              "  <th>month_oct</th>                       <td>   -0.0248</td> <td>    0.160</td> <td>   -0.155</td> <td> 0.877</td> <td>   -0.338</td> <td>    0.288</td>\n",
              "</tr>\n",
              "<tr>\n",
              "  <th>month_sep</th>                       <td>    0.3571</td> <td>    0.189</td> <td>    1.893</td> <td> 0.058</td> <td>   -0.013</td> <td>    0.727</td>\n",
              "</tr>\n",
              "<tr>\n",
              "  <th>day_of_week_mon</th>                 <td>   -0.2045</td> <td>    0.070</td> <td>   -2.934</td> <td> 0.003</td> <td>   -0.341</td> <td>   -0.068</td>\n",
              "</tr>\n",
              "<tr>\n",
              "  <th>day_of_week_thu</th>                 <td>    0.1322</td> <td>    0.067</td> <td>    1.979</td> <td> 0.048</td> <td>    0.001</td> <td>    0.263</td>\n",
              "</tr>\n",
              "<tr>\n",
              "  <th>day_of_week_tue</th>                 <td>    0.0983</td> <td>    0.069</td> <td>    1.426</td> <td> 0.154</td> <td>   -0.037</td> <td>    0.233</td>\n",
              "</tr>\n",
              "<tr>\n",
              "  <th>day_of_week_wed</th>                 <td>    0.2016</td> <td>    0.068</td> <td>    2.962</td> <td> 0.003</td> <td>    0.068</td> <td>    0.335</td>\n",
              "</tr>\n",
              "<tr>\n",
              "  <th>pdays_Contacted_in_first_10days</th> <td>    0.0338</td> <td>    0.205</td> <td>    0.165</td> <td> 0.869</td> <td>   -0.367</td> <td>    0.435</td>\n",
              "</tr>\n",
              "<tr>\n",
              "  <th>pdays_First_time_contacted</th>      <td>   -0.9797</td> <td>    0.253</td> <td>   -3.878</td> <td> 0.000</td> <td>   -1.475</td> <td>   -0.485</td>\n",
              "</tr>\n",
              "<tr>\n",
              "  <th>previous_More than_3_times</th>      <td>   -0.2902</td> <td>    0.285</td> <td>   -1.020</td> <td> 0.308</td> <td>   -0.848</td> <td>    0.268</td>\n",
              "</tr>\n",
              "<tr>\n",
              "  <th>previous_Never contacted</th>        <td>    0.2489</td> <td>    0.034</td> <td>    7.352</td> <td> 0.000</td> <td>    0.183</td> <td>    0.315</td>\n",
              "</tr>\n",
              "<tr>\n",
              "  <th>poutcome_nonexistent</th>            <td>    0.2489</td> <td>    0.034</td> <td>    7.352</td> <td> 0.000</td> <td>    0.183</td> <td>    0.315</td>\n",
              "</tr>\n",
              "<tr>\n",
              "  <th>poutcome_success</th>                <td>    0.8247</td> <td>    0.227</td> <td>    3.626</td> <td> 0.000</td> <td>    0.379</td> <td>    1.270</td>\n",
              "</tr>\n",
              "<tr>\n",
              "  <th>age</th>                             <td>    0.0214</td> <td>    0.027</td> <td>    0.808</td> <td> 0.419</td> <td>   -0.031</td> <td>    0.073</td>\n",
              "</tr>\n",
              "<tr>\n",
              "  <th>campaign</th>                        <td>   -0.0913</td> <td>    0.027</td> <td>   -3.372</td> <td> 0.001</td> <td>   -0.144</td> <td>   -0.038</td>\n",
              "</tr>\n",
              "<tr>\n",
              "  <th>emp.var.rate</th>                    <td>   -2.4543</td> <td>    0.229</td> <td>  -10.699</td> <td> 0.000</td> <td>   -2.904</td> <td>   -2.005</td>\n",
              "</tr>\n",
              "<tr>\n",
              "  <th>cons.price.idx</th>                  <td>    1.2152</td> <td>    0.149</td> <td>    8.133</td> <td> 0.000</td> <td>    0.922</td> <td>    1.508</td>\n",
              "</tr>\n",
              "<tr>\n",
              "  <th>cons.conf.idx</th>                   <td>    0.1267</td> <td>    0.038</td> <td>    3.306</td> <td> 0.001</td> <td>    0.052</td> <td>    0.202</td>\n",
              "</tr>\n",
              "<tr>\n",
              "  <th>euribor3m</th>                       <td>    0.4217</td> <td>    0.235</td> <td>    1.792</td> <td> 0.073</td> <td>   -0.039</td> <td>    0.883</td>\n",
              "</tr>\n",
              "<tr>\n",
              "  <th>nr.employed</th>                     <td>    0.5140</td> <td>    0.231</td> <td>    2.222</td> <td> 0.026</td> <td>    0.061</td> <td>    0.967</td>\n",
              "</tr>\n",
              "</table>"
            ],
            "text/plain": [
              "<class 'statsmodels.iolib.summary.Summary'>\n",
              "\"\"\"\n",
              "                 Generalized Linear Model Regression Results                  \n",
              "==============================================================================\n",
              "Dep. Variable:               response   No. Observations:                28831\n",
              "Model:                            GLM   Df Residuals:                    28782\n",
              "Model Family:                Binomial   Df Model:                           48\n",
              "Link Function:                  logit   Scale:                          1.0000\n",
              "Method:                          IRLS   Log-Likelihood:                -7933.3\n",
              "Date:                Sat, 10 Oct 2020   Deviance:                       15867.\n",
              "Time:                        05:28:32   Pearson chi2:                 2.92e+04\n",
              "No. Iterations:                    19                                         \n",
              "Covariance Type:            nonrobust                                         \n",
              "===================================================================================================\n",
              "                                      coef    std err          z      P>|z|      [0.025      0.975]\n",
              "---------------------------------------------------------------------------------------------------\n",
              "const                              -1.6435      0.284     -5.777      0.000      -2.201      -1.086\n",
              "job_blue-collar                    -0.1547      0.083     -1.873      0.061      -0.317       0.007\n",
              "job_entrepreneur                   -0.2347      0.132     -1.776      0.076      -0.494       0.024\n",
              "job_housemaid                       0.0296      0.148      0.201      0.841      -0.260       0.319\n",
              "job_management                     -0.1551      0.092     -1.690      0.091      -0.335       0.025\n",
              "job_retired                         0.2281      0.110      2.071      0.038       0.012       0.444\n",
              "job_self-employed                  -0.0586      0.121     -0.483      0.629      -0.297       0.179\n",
              "job_services                       -0.0573      0.088     -0.649      0.516      -0.230       0.116\n",
              "job_student                         0.2777      0.120      2.324      0.020       0.043       0.512\n",
              "job_technician                     -0.0158      0.075     -0.211      0.833      -0.162       0.131\n",
              "job_unemployed                     -0.0249      0.134     -0.186      0.853      -0.288       0.238\n",
              "job_unknown                        -0.0977      0.241     -0.406      0.685      -0.569       0.374\n",
              "marital_married                     0.0546      0.072      0.761      0.446      -0.086       0.195\n",
              "marital_single                      0.1182      0.082      1.444      0.149      -0.042       0.279\n",
              "education_Secondary_Education       0.0322      0.072      0.447      0.655      -0.109       0.174\n",
              "education_Tertiary_Education        0.1214      0.073      1.663      0.096      -0.022       0.265\n",
              "education_professional.course       0.0775      0.086      0.902      0.367      -0.091       0.246\n",
              "education_unknown                   0.1810      0.109      1.663      0.096      -0.032       0.394\n",
              "default_unknown                    -0.2785      0.070     -4.003      0.000      -0.415      -0.142\n",
              "default_yes                       -17.5533   1.25e+04     -0.001      0.999   -2.45e+04    2.45e+04\n",
              "housing_unknown                    -0.0493      0.071     -0.693      0.489      -0.189       0.090\n",
              "housing_yes                        -0.0349      0.043     -0.809      0.419      -0.120       0.050\n",
              "loan_unknown                       -0.0493      0.071     -0.693      0.489      -0.189       0.090\n",
              "loan_yes                            0.0121      0.059      0.203      0.839      -0.104       0.128\n",
              "contact_telephone                  -0.6338      0.079     -8.055      0.000      -0.788      -0.480\n",
              "month_aug                           0.4285      0.128      3.346      0.001       0.178       0.679\n",
              "month_dec                           0.2895      0.226      1.282      0.200      -0.153       0.732\n",
              "month_jul                          -0.0148      0.100     -0.148      0.882      -0.211       0.181\n",
              "month_jun                          -0.6888      0.132     -5.235      0.000      -0.947      -0.431\n",
              "month_mar                           1.4622      0.155      9.461      0.000       1.159       1.765\n",
              "month_may                          -0.4262      0.086     -4.960      0.000      -0.595      -0.258\n",
              "month_nov                          -0.4562      0.125     -3.659      0.000      -0.701      -0.212\n",
              "month_oct                          -0.0248      0.160     -0.155      0.877      -0.338       0.288\n",
              "month_sep                           0.3571      0.189      1.893      0.058      -0.013       0.727\n",
              "day_of_week_mon                    -0.2045      0.070     -2.934      0.003      -0.341      -0.068\n",
              "day_of_week_thu                     0.1322      0.067      1.979      0.048       0.001       0.263\n",
              "day_of_week_tue                     0.0983      0.069      1.426      0.154      -0.037       0.233\n",
              "day_of_week_wed                     0.2016      0.068      2.962      0.003       0.068       0.335\n",
              "pdays_Contacted_in_first_10days     0.0338      0.205      0.165      0.869      -0.367       0.435\n",
              "pdays_First_time_contacted         -0.9797      0.253     -3.878      0.000      -1.475      -0.485\n",
              "previous_More than_3_times         -0.2902      0.285     -1.020      0.308      -0.848       0.268\n",
              "previous_Never contacted            0.2489      0.034      7.352      0.000       0.183       0.315\n",
              "poutcome_nonexistent                0.2489      0.034      7.352      0.000       0.183       0.315\n",
              "poutcome_success                    0.8247      0.227      3.626      0.000       0.379       1.270\n",
              "age                                 0.0214      0.027      0.808      0.419      -0.031       0.073\n",
              "campaign                           -0.0913      0.027     -3.372      0.001      -0.144      -0.038\n",
              "emp.var.rate                       -2.4543      0.229    -10.699      0.000      -2.904      -2.005\n",
              "cons.price.idx                      1.2152      0.149      8.133      0.000       0.922       1.508\n",
              "cons.conf.idx                       0.1267      0.038      3.306      0.001       0.052       0.202\n",
              "euribor3m                           0.4217      0.235      1.792      0.073      -0.039       0.883\n",
              "nr.employed                         0.5140      0.231      2.222      0.026       0.061       0.967\n",
              "===================================================================================================\n",
              "\"\"\""
            ]
          },
          "metadata": {
            "tags": []
          },
          "execution_count": 290
        }
      ]
    },
    {
      "cell_type": "code",
      "metadata": {
        "id": "EjbeUFPtxhLp"
      },
      "source": [
        "from sklearn.pipeline import Pipeline\n",
        "from sklearn.decomposition import PCA\n",
        "from sklearn.metrics import confusion_matrix\n",
        "from imblearn.metrics import sensitivity_specificity_support\n",
        "from sklearn.metrics import roc_auc_score\n",
        "from sklearn.model_selection import StratifiedKFold\n",
        "from sklearn.model_selection import GridSearchCV\n",
        "from sklearn.ensemble import RandomForestClassifier"
      ],
      "execution_count": 291,
      "outputs": []
    },
    {
      "cell_type": "markdown",
      "metadata": {
        "id": "gRm-XrsfxhLq"
      },
      "source": [
        "#### Principal Component Analysis"
      ]
    },
    {
      "cell_type": "code",
      "metadata": {
        "id": "xOTofY9FxhLq"
      },
      "source": [
        "pca = PCA()\n",
        "pca.fit(X_train)\n",
        "churn_pca = pca.fit_transform(X_train)"
      ],
      "execution_count": 292,
      "outputs": []
    },
    {
      "cell_type": "code",
      "metadata": {
        "id": "v0tsz5TjxhLs",
        "outputId": "0c3d785a-f6e6-4284-8547-2972b9207539",
        "colab": {
          "base_uri": "https://localhost:8080/",
          "height": 901
        }
      },
      "source": [
        "print(pd.Series(np.round(pca.explained_variance_ratio_.cumsum(), 4)*100))"
      ],
      "execution_count": 293,
      "outputs": [
        {
          "output_type": "stream",
          "text": [
            "0      32.80\n",
            "1      43.59\n",
            "2      52.43\n",
            "3      60.59\n",
            "4      66.34\n",
            "5      69.65\n",
            "6      72.24\n",
            "7      74.59\n",
            "8      76.82\n",
            "9      78.77\n",
            "10     80.65\n",
            "11     82.50\n",
            "12     84.31\n",
            "13     86.07\n",
            "14     87.70\n",
            "15     89.18\n",
            "16     90.44\n",
            "17     91.58\n",
            "18     92.63\n",
            "19     93.37\n",
            "20     94.08\n",
            "21     94.67\n",
            "22     95.19\n",
            "23     95.70\n",
            "24     96.16\n",
            "25     96.57\n",
            "26     96.96\n",
            "27     97.36\n",
            "28     97.70\n",
            "29     98.01\n",
            "30     98.30\n",
            "31     98.57\n",
            "32     98.82\n",
            "33     99.04\n",
            "34     99.21\n",
            "35     99.37\n",
            "36     99.51\n",
            "37     99.63\n",
            "38     99.74\n",
            "39     99.80\n",
            "40     99.86\n",
            "41     99.89\n",
            "42     99.93\n",
            "43     99.95\n",
            "44     99.97\n",
            "45     99.99\n",
            "46    100.00\n",
            "47    100.00\n",
            "48    100.00\n",
            "49    100.00\n",
            "dtype: float64\n"
          ],
          "name": "stdout"
        }
      ]
    },
    {
      "cell_type": "code",
      "metadata": {
        "id": "CT49E0flxhLu",
        "outputId": "46eae65b-fc74-467c-8a38-3c3be3acb915",
        "colab": {
          "base_uri": "https://localhost:8080/",
          "height": 337
        }
      },
      "source": [
        "# plot feature variance\n",
        "features = range(pca.n_components_)\n",
        "cumulative_variance = np.round(np.cumsum(pca.explained_variance_ratio_)*100, decimals=4)\n",
        "plt.figure(figsize=(175/20,100/20)) # 100 elements on y-axis; 175 elements on x-axis; 20 is normalising factor\n",
        "plt.plot(cumulative_variance)"
      ],
      "execution_count": 294,
      "outputs": [
        {
          "output_type": "execute_result",
          "data": {
            "text/plain": [
              "[<matplotlib.lines.Line2D at 0x7f2340193240>]"
            ]
          },
          "metadata": {
            "tags": []
          },
          "execution_count": 294
        },
        {
          "output_type": "display_data",
          "data": {
            "image/png": "[encoded data removed]",
            "text/plain": [
              "<Figure size 630x360 with 1 Axes>"
            ]
          },
          "metadata": {
            "tags": [],
            "needs_background": "light"
          }
        }
      ]
    },
    {
      "cell_type": "code",
      "metadata": {
        "id": "GWxE5WpoxhLx"
      },
      "source": [
        "# create pipeline\n",
        "PCA_VARS = 16\n",
        "steps = [(\"pca\", PCA(n_components=PCA_VARS)),\n",
        "         (\"logistic\", LogisticRegression(class_weight='balanced'))\n",
        "        ]\n",
        "pipeline = Pipeline(steps)"
      ],
      "execution_count": 295,
      "outputs": []
    },
    {
      "cell_type": "code",
      "metadata": {
        "id": "4SpSRP2nxhLx",
        "outputId": "9d9dd569-ba30-455b-d5e8-2b8d703a3368",
        "colab": {
          "base_uri": "https://localhost:8080/",
          "height": 35
        }
      },
      "source": [
        "# fit model\n",
        "pipeline.fit(X_train, y_train)\n",
        "\n",
        "# check score on train data\n",
        "pipeline.score(X_train, y_train)"
      ],
      "execution_count": 296,
      "outputs": [
        {
          "output_type": "execute_result",
          "data": {
            "text/plain": [
              "0.8158232458117998"
            ]
          },
          "metadata": {
            "tags": []
          },
          "execution_count": 296
        }
      ]
    },
    {
      "cell_type": "code",
      "metadata": {
        "id": "TIj5XfeTxhLy",
        "outputId": "02d3ac4d-2c91-4690-fccc-edd6a818fa58",
        "colab": {
          "base_uri": "https://localhost:8080/",
          "height": 104
        }
      },
      "source": [
        "# predict churn on test data\n",
        "y_pred = pipeline.predict(X_test)\n",
        "\n",
        "# create onfusion matrix\n",
        "cm = confusion_matrix(y_test, y_pred)\n",
        "print(cm)\n",
        "\n",
        "# check sensitivity and specificity\n",
        "sensitivity, specificity, _ = sensitivity_specificity_support(y_test, y_pred, average='binary')\n",
        "print(\"Sensitivity: \\t\", round(sensitivity, 2), \"\\n\", \"Specificity: \\t\", round(specificity, 2), sep='')\n",
        "\n",
        "# check area under curve\n",
        "y_pred_prob = pipeline.predict_proba(X_test)[:, 1]\n",
        "print(\"AUC:    \\t\", round(roc_auc_score(y_test, y_pred_prob),2))"
      ],
      "execution_count": 297,
      "outputs": [
        {
          "output_type": "stream",
          "text": [
            "[[9151 1824]\n",
            " [ 535  847]]\n",
            "Sensitivity: \t0.61\n",
            "Specificity: \t0.83\n",
            "AUC:    \t 0.78\n"
          ],
          "name": "stdout"
        }
      ]
    },
    {
      "cell_type": "code",
      "metadata": {
        "id": "dbhPCH0OxhL0",
        "outputId": "8a960151-6742-48c4-b193-f9dc3131997e",
        "colab": {
          "base_uri": "https://localhost:8080/",
          "height": 69
        }
      },
      "source": [
        "# class imbalance\n",
        "y_train.value_counts()/y_train.shape"
      ],
      "execution_count": 298,
      "outputs": [
        {
          "output_type": "execute_result",
          "data": {
            "text/plain": [
              "0    0.886997\n",
              "1    0.113003\n",
              "Name: response, dtype: float64"
            ]
          },
          "metadata": {
            "tags": []
          },
          "execution_count": 298
        }
      ]
    },
    {
      "cell_type": "code",
      "metadata": {
        "id": "jr3FRLZ2xhL2"
      },
      "source": [
        "# PCA\n",
        "pca = PCA()\n",
        "\n",
        "# logistic regression - the class weight is used to handle class imbalance - it adjusts the cost function\n",
        "logistic = LogisticRegression(class_weight='balanced')\n",
        "\n",
        "# create pipeline\n",
        "steps = [(\"pca\", pca),\n",
        "         (\"logistic\", logistic)\n",
        "        ]\n",
        "\n",
        "# compile pipeline\n",
        "pca_logistic = Pipeline(steps)\n",
        "\n",
        "# hyperparameter space\n",
        "params = {'pca__n_components': [16,17,18,19,20], 'logistic__C': [0.1, 0.5, 1, 2, 3, 4, 5, 10], 'logistic__penalty': ['l1', 'l2']}\n",
        "\n",
        "# create 5 folds\n",
        "folds = StratifiedKFold(n_splits = 5, shuffle = True, random_state = 4)\n",
        "\n",
        "# create gridsearch object\n",
        "model = GridSearchCV(estimator=pca_logistic, cv=folds, param_grid=params, scoring='roc_auc')"
      ],
      "execution_count": 299,
      "outputs": []
    },
    {
      "cell_type": "code",
      "metadata": {
        "id": "Re5ZBEK5xhL4",
        "outputId": "f69d1d34-c135-46c2-f402-997b119bffa1",
        "colab": {
          "base_uri": "https://localhost:8080/",
          "height": 520
        }
      },
      "source": [
        "# fit model\n",
        "model.fit(X_train, y_train)"
      ],
      "execution_count": 300,
      "outputs": [
        {
          "output_type": "execute_result",
          "data": {
            "text/plain": [
              "GridSearchCV(cv=StratifiedKFold(n_splits=5, random_state=4, shuffle=True),\n",
              "             error_score=nan,\n",
              "             estimator=Pipeline(memory=None,\n",
              "                                steps=[('pca',\n",
              "                                        PCA(copy=True, iterated_power='auto',\n",
              "                                            n_components=None,\n",
              "                                            random_state=None,\n",
              "                                            svd_solver='auto', tol=0.0,\n",
              "                                            whiten=False)),\n",
              "                                       ('logistic',\n",
              "                                        LogisticRegression(C=1.0,\n",
              "                                                           class_weight='balanced',\n",
              "                                                           dual=False,\n",
              "                                                           fit_intercept=True,\n",
              "                                                           intercept_sca...\n",
              "                                                           n_jobs=None,\n",
              "                                                           penalty='l2',\n",
              "                                                           random_state=None,\n",
              "                                                           solver='lbfgs',\n",
              "                                                           tol=0.0001,\n",
              "                                                           verbose=0,\n",
              "                                                           warm_start=False))],\n",
              "                                verbose=False),\n",
              "             iid='deprecated', n_jobs=None,\n",
              "             param_grid={'logistic__C': [0.1, 0.5, 1, 2, 3, 4, 5, 10],\n",
              "                         'logistic__penalty': ['l1', 'l2'],\n",
              "                         'pca__n_components': [16, 17, 18, 19, 20]},\n",
              "             pre_dispatch='2*n_jobs', refit=True, return_train_score=False,\n",
              "             scoring='roc_auc', verbose=0)"
            ]
          },
          "metadata": {
            "tags": []
          },
          "execution_count": 300
        }
      ]
    },
    {
      "cell_type": "code",
      "metadata": {
        "id": "_C4M36gixhL5",
        "outputId": "3a05056d-e1fd-42d6-8ce9-ed02f5762ad7",
        "colab": {
          "base_uri": "https://localhost:8080/",
          "height": 52
        }
      },
      "source": [
        "# print best hyperparameters\n",
        "print(\"Best AUC: \", model.best_score_)\n",
        "print(\"Best hyperparameters: \", model.best_params_)"
      ],
      "execution_count": 301,
      "outputs": [
        {
          "output_type": "stream",
          "text": [
            "Best AUC:  0.7851179869707043\n",
            "Best hyperparameters:  {'logistic__C': 4, 'logistic__penalty': 'l2', 'pca__n_components': 16}\n"
          ],
          "name": "stdout"
        }
      ]
    },
    {
      "cell_type": "code",
      "metadata": {
        "id": "ppFGrdvIxhL6",
        "outputId": "a9de32ce-1429-4c6e-98d7-efdf78645841",
        "colab": {
          "base_uri": "https://localhost:8080/",
          "height": 104
        }
      },
      "source": [
        "# predict churn on test data\n",
        "y_pred = model.predict(X_test)\n",
        "\n",
        "# create onfusion matrix\n",
        "cm = confusion_matrix(y_test, y_pred)\n",
        "print(cm)\n",
        "\n",
        "# check sensitivity and specificity\n",
        "sensitivity, specificity, _ = sensitivity_specificity_support(y_test, y_pred, average='binary')\n",
        "print(\"Sensitivity: \\t\", round(sensitivity, 2), \"\\n\", \"Specificity: \\t\", round(specificity, 2), sep='')\n",
        "\n",
        "# check area under curve\n",
        "y_pred_prob = model.predict_proba(X_test)[:, 1]\n",
        "print(\"AUC:    \\t\", round(roc_auc_score(y_test, y_pred_prob),2))"
      ],
      "execution_count": 302,
      "outputs": [
        {
          "output_type": "stream",
          "text": [
            "[[9150 1825]\n",
            " [ 535  847]]\n",
            "Sensitivity: \t0.61\n",
            "Specificity: \t0.83\n",
            "AUC:    \t 0.78\n"
          ],
          "name": "stdout"
        }
      ]
    },
    {
      "cell_type": "code",
      "metadata": {
        "id": "eAaPCMf1xhL7"
      },
      "source": [
        "y_prob = model.predict_proba(X_test)"
      ],
      "execution_count": 303,
      "outputs": []
    },
    {
      "cell_type": "code",
      "metadata": {
        "id": "czgQRYJLxhL8",
        "outputId": "b6fcfcc3-099f-4784-dda3-0902872a28ed",
        "colab": {
          "base_uri": "https://localhost:8080/",
          "height": 35
        }
      },
      "source": [
        "y_prob.shape"
      ],
      "execution_count": 304,
      "outputs": [
        {
          "output_type": "execute_result",
          "data": {
            "text/plain": [
              "(12357, 2)"
            ]
          },
          "metadata": {
            "tags": []
          },
          "execution_count": 304
        }
      ]
    },
    {
      "cell_type": "code",
      "metadata": {
        "id": "zi-tvda0xhL9",
        "outputId": "0950da79-c544-4627-911b-7bb5d7cca38d",
        "colab": {
          "base_uri": "https://localhost:8080/",
          "height": 121
        }
      },
      "source": [
        "y_prob[:,1]\n",
        "y_test.head()"
      ],
      "execution_count": 305,
      "outputs": [
        {
          "output_type": "execute_result",
          "data": {
            "text/plain": [
              "33148    0\n",
              "27585    0\n",
              "15722    0\n",
              "40349    1\n",
              "2576     0\n",
              "Name: response, dtype: int64"
            ]
          },
          "metadata": {
            "tags": []
          },
          "execution_count": 305
        }
      ]
    },
    {
      "cell_type": "code",
      "metadata": {
        "id": "BAV8TUDcxhMA"
      },
      "source": [
        "probabilities = pd.DataFrame()"
      ],
      "execution_count": 306,
      "outputs": []
    },
    {
      "cell_type": "code",
      "metadata": {
        "id": "PpFUeZiUxhMA"
      },
      "source": [
        "probabilities['prob'] = y_prob[:,1]"
      ],
      "execution_count": 307,
      "outputs": []
    },
    {
      "cell_type": "code",
      "metadata": {
        "id": "HaciCI07xhMB"
      },
      "source": [
        "probabilities['actual'] = np.array(y_test)"
      ],
      "execution_count": 308,
      "outputs": []
    },
    {
      "cell_type": "code",
      "metadata": {
        "id": "tk3HY4ekxhMC"
      },
      "source": [
        "probabilities['pred'] = np.array(y_pred)"
      ],
      "execution_count": 309,
      "outputs": []
    },
    {
      "cell_type": "code",
      "metadata": {
        "id": "mKTi8FDFxhMD",
        "outputId": "9474caef-1c6a-4b3f-c8d6-f9b790ef7cdb",
        "colab": {
          "base_uri": "https://localhost:8080/",
          "height": 415
        }
      },
      "source": [
        "probabilities"
      ],
      "execution_count": 310,
      "outputs": [
        {
          "output_type": "execute_result",
          "data": {
            "text/html": [
              "<div>\n",
              "<style scoped>\n",
              "    .dataframe tbody tr th:only-of-type {\n",
              "        vertical-align: middle;\n",
              "    }\n",
              "\n",
              "    .dataframe tbody tr th {\n",
              "        vertical-align: top;\n",
              "    }\n",
              "\n",
              "    .dataframe thead th {\n",
              "        text-align: right;\n",
              "    }\n",
              "</style>\n",
              "<table border=\"1\" class=\"dataframe\">\n",
              "  <thead>\n",
              "    <tr style=\"text-align: right;\">\n",
              "      <th></th>\n",
              "      <th>prob</th>\n",
              "      <th>actual</th>\n",
              "      <th>pred</th>\n",
              "    </tr>\n",
              "  </thead>\n",
              "  <tbody>\n",
              "    <tr>\n",
              "      <th>0</th>\n",
              "      <td>0.502185</td>\n",
              "      <td>0</td>\n",
              "      <td>1</td>\n",
              "    </tr>\n",
              "    <tr>\n",
              "      <th>1</th>\n",
              "      <td>0.332537</td>\n",
              "      <td>0</td>\n",
              "      <td>0</td>\n",
              "    </tr>\n",
              "    <tr>\n",
              "      <th>2</th>\n",
              "      <td>0.279201</td>\n",
              "      <td>0</td>\n",
              "      <td>0</td>\n",
              "    </tr>\n",
              "    <tr>\n",
              "      <th>3</th>\n",
              "      <td>0.931340</td>\n",
              "      <td>1</td>\n",
              "      <td>1</td>\n",
              "    </tr>\n",
              "    <tr>\n",
              "      <th>4</th>\n",
              "      <td>0.201884</td>\n",
              "      <td>0</td>\n",
              "      <td>0</td>\n",
              "    </tr>\n",
              "    <tr>\n",
              "      <th>...</th>\n",
              "      <td>...</td>\n",
              "      <td>...</td>\n",
              "      <td>...</td>\n",
              "    </tr>\n",
              "    <tr>\n",
              "      <th>12352</th>\n",
              "      <td>0.484928</td>\n",
              "      <td>0</td>\n",
              "      <td>0</td>\n",
              "    </tr>\n",
              "    <tr>\n",
              "      <th>12353</th>\n",
              "      <td>0.332307</td>\n",
              "      <td>0</td>\n",
              "      <td>0</td>\n",
              "    </tr>\n",
              "    <tr>\n",
              "      <th>12354</th>\n",
              "      <td>0.486415</td>\n",
              "      <td>0</td>\n",
              "      <td>0</td>\n",
              "    </tr>\n",
              "    <tr>\n",
              "      <th>12355</th>\n",
              "      <td>0.895951</td>\n",
              "      <td>1</td>\n",
              "      <td>1</td>\n",
              "    </tr>\n",
              "    <tr>\n",
              "      <th>12356</th>\n",
              "      <td>0.919967</td>\n",
              "      <td>0</td>\n",
              "      <td>1</td>\n",
              "    </tr>\n",
              "  </tbody>\n",
              "</table>\n",
              "<p>12357 rows × 3 columns</p>\n",
              "</div>"
            ],
            "text/plain": [
              "           prob  actual  pred\n",
              "0      0.502185       0     1\n",
              "1      0.332537       0     0\n",
              "2      0.279201       0     0\n",
              "3      0.931340       1     1\n",
              "4      0.201884       0     0\n",
              "...         ...     ...   ...\n",
              "12352  0.484928       0     0\n",
              "12353  0.332307       0     0\n",
              "12354  0.486415       0     0\n",
              "12355  0.895951       1     1\n",
              "12356  0.919967       0     1\n",
              "\n",
              "[12357 rows x 3 columns]"
            ]
          },
          "metadata": {
            "tags": []
          },
          "execution_count": 310
        }
      ]
    },
    {
      "cell_type": "code",
      "metadata": {
        "id": "Xb78-NiSxhME",
        "outputId": "a4671484-a7d3-491b-974b-7882b53620f7",
        "colab": {
          "base_uri": "https://localhost:8080/",
          "height": 173
        }
      },
      "source": [
        "from sklearn.metrics import classification_report, confusion_matrix\n",
        "\n",
        "print(classification_report(y_test,y_pred))"
      ],
      "execution_count": 311,
      "outputs": [
        {
          "output_type": "stream",
          "text": [
            "              precision    recall  f1-score   support\n",
            "\n",
            "           0       0.94      0.83      0.89     10975\n",
            "           1       0.32      0.61      0.42      1382\n",
            "\n",
            "    accuracy                           0.81     12357\n",
            "   macro avg       0.63      0.72      0.65     12357\n",
            "weighted avg       0.87      0.81      0.83     12357\n",
            "\n"
          ],
          "name": "stdout"
        }
      ]
    },
    {
      "cell_type": "code",
      "metadata": {
        "id": "nchOmhbMxhMF",
        "outputId": "3a08a5f5-7939-4a33-9de4-46ee9e17f671",
        "colab": {
          "base_uri": "https://localhost:8080/",
          "height": 173
        }
      },
      "source": [
        "print(classification_report(y_test,y_pred))"
      ],
      "execution_count": 312,
      "outputs": [
        {
          "output_type": "stream",
          "text": [
            "              precision    recall  f1-score   support\n",
            "\n",
            "           0       0.94      0.83      0.89     10975\n",
            "           1       0.32      0.61      0.42      1382\n",
            "\n",
            "    accuracy                           0.81     12357\n",
            "   macro avg       0.63      0.72      0.65     12357\n",
            "weighted avg       0.87      0.81      0.83     12357\n",
            "\n"
          ],
          "name": "stdout"
        }
      ]
    },
    {
      "cell_type": "code",
      "metadata": {
        "id": "nBbrZTiyxhMF",
        "outputId": "7edb630e-c181-4a48-8f5f-a0fc5c6e8dc1",
        "colab": {
          "base_uri": "https://localhost:8080/",
          "height": 52
        }
      },
      "source": [
        "print(confusion_matrix(y_test,y_pred))"
      ],
      "execution_count": 313,
      "outputs": [
        {
          "output_type": "stream",
          "text": [
            "[[9150 1825]\n",
            " [ 535  847]]\n"
          ],
          "name": "stdout"
        }
      ]
    },
    {
      "cell_type": "code",
      "metadata": {
        "id": "O787ETRDxhMH"
      },
      "source": [
        "probabilities = pd.DataFrame()"
      ],
      "execution_count": 314,
      "outputs": []
    },
    {
      "cell_type": "code",
      "metadata": {
        "id": "ILzzZTpHxhMH"
      },
      "source": [
        "probabilities['pred_prob'] = y_prob[:,1]"
      ],
      "execution_count": 315,
      "outputs": []
    },
    {
      "cell_type": "code",
      "metadata": {
        "id": "yc9GT4AuxhMJ"
      },
      "source": [
        "probabilities['actual'] = np.array(y_test)"
      ],
      "execution_count": 316,
      "outputs": []
    },
    {
      "cell_type": "code",
      "metadata": {
        "id": "TvfsDxjQxhMJ"
      },
      "source": [
        "probabilities['predicted'] = np.array(y_pred)"
      ],
      "execution_count": 317,
      "outputs": []
    },
    {
      "cell_type": "code",
      "metadata": {
        "id": "-uiSWsPOxhMK",
        "outputId": "ba4a6ea8-8406-40c7-d195-ebe11b8926db",
        "colab": {
          "base_uri": "https://localhost:8080/",
          "height": 415
        }
      },
      "source": [
        "probabilities"
      ],
      "execution_count": 318,
      "outputs": [
        {
          "output_type": "execute_result",
          "data": {
            "text/html": [
              "<div>\n",
              "<style scoped>\n",
              "    .dataframe tbody tr th:only-of-type {\n",
              "        vertical-align: middle;\n",
              "    }\n",
              "\n",
              "    .dataframe tbody tr th {\n",
              "        vertical-align: top;\n",
              "    }\n",
              "\n",
              "    .dataframe thead th {\n",
              "        text-align: right;\n",
              "    }\n",
              "</style>\n",
              "<table border=\"1\" class=\"dataframe\">\n",
              "  <thead>\n",
              "    <tr style=\"text-align: right;\">\n",
              "      <th></th>\n",
              "      <th>pred_prob</th>\n",
              "      <th>actual</th>\n",
              "      <th>predicted</th>\n",
              "    </tr>\n",
              "  </thead>\n",
              "  <tbody>\n",
              "    <tr>\n",
              "      <th>0</th>\n",
              "      <td>0.502185</td>\n",
              "      <td>0</td>\n",
              "      <td>1</td>\n",
              "    </tr>\n",
              "    <tr>\n",
              "      <th>1</th>\n",
              "      <td>0.332537</td>\n",
              "      <td>0</td>\n",
              "      <td>0</td>\n",
              "    </tr>\n",
              "    <tr>\n",
              "      <th>2</th>\n",
              "      <td>0.279201</td>\n",
              "      <td>0</td>\n",
              "      <td>0</td>\n",
              "    </tr>\n",
              "    <tr>\n",
              "      <th>3</th>\n",
              "      <td>0.931340</td>\n",
              "      <td>1</td>\n",
              "      <td>1</td>\n",
              "    </tr>\n",
              "    <tr>\n",
              "      <th>4</th>\n",
              "      <td>0.201884</td>\n",
              "      <td>0</td>\n",
              "      <td>0</td>\n",
              "    </tr>\n",
              "    <tr>\n",
              "      <th>...</th>\n",
              "      <td>...</td>\n",
              "      <td>...</td>\n",
              "      <td>...</td>\n",
              "    </tr>\n",
              "    <tr>\n",
              "      <th>12352</th>\n",
              "      <td>0.484928</td>\n",
              "      <td>0</td>\n",
              "      <td>0</td>\n",
              "    </tr>\n",
              "    <tr>\n",
              "      <th>12353</th>\n",
              "      <td>0.332307</td>\n",
              "      <td>0</td>\n",
              "      <td>0</td>\n",
              "    </tr>\n",
              "    <tr>\n",
              "      <th>12354</th>\n",
              "      <td>0.486415</td>\n",
              "      <td>0</td>\n",
              "      <td>0</td>\n",
              "    </tr>\n",
              "    <tr>\n",
              "      <th>12355</th>\n",
              "      <td>0.895951</td>\n",
              "      <td>1</td>\n",
              "      <td>1</td>\n",
              "    </tr>\n",
              "    <tr>\n",
              "      <th>12356</th>\n",
              "      <td>0.919967</td>\n",
              "      <td>0</td>\n",
              "      <td>1</td>\n",
              "    </tr>\n",
              "  </tbody>\n",
              "</table>\n",
              "<p>12357 rows × 3 columns</p>\n",
              "</div>"
            ],
            "text/plain": [
              "       pred_prob  actual  predicted\n",
              "0       0.502185       0          1\n",
              "1       0.332537       0          0\n",
              "2       0.279201       0          0\n",
              "3       0.931340       1          1\n",
              "4       0.201884       0          0\n",
              "...          ...     ...        ...\n",
              "12352   0.484928       0          0\n",
              "12353   0.332307       0          0\n",
              "12354   0.486415       0          0\n",
              "12355   0.895951       1          1\n",
              "12356   0.919967       0          1\n",
              "\n",
              "[12357 rows x 3 columns]"
            ]
          },
          "metadata": {
            "tags": []
          },
          "execution_count": 318
        }
      ]
    },
    {
      "cell_type": "code",
      "metadata": {
        "id": "5U3nvLEyxhML"
      },
      "source": [
        "decile_df = probabilities"
      ],
      "execution_count": 319,
      "outputs": []
    },
    {
      "cell_type": "code",
      "metadata": {
        "id": "pPJKKnO9xhMM"
      },
      "source": [
        "decile_df['decile'] = pd.qcut(decile_df['pred_prob'], 10, labels=np.arange(10, 0, -1))"
      ],
      "execution_count": 320,
      "outputs": []
    },
    {
      "cell_type": "code",
      "metadata": {
        "id": "eErwuwbBxhMN"
      },
      "source": [
        "lift_df = decile_df.groupby('decile')['pred_prob'].count().reset_index()"
      ],
      "execution_count": 321,
      "outputs": []
    },
    {
      "cell_type": "code",
      "metadata": {
        "id": "7s9WFgs6xhMN"
      },
      "source": [
        "lift_df.rename({'pred_prob':'total'}, axis=1, inplace=True)"
      ],
      "execution_count": 322,
      "outputs": []
    },
    {
      "cell_type": "code",
      "metadata": {
        "id": "WEMixpGZxhMP"
      },
      "source": [
        "lift_df_pred = decile_df[decile_df['actual']==1].groupby('decile')['actual'].count().reset_index()"
      ],
      "execution_count": 323,
      "outputs": []
    },
    {
      "cell_type": "code",
      "metadata": {
        "id": "HW5DATyOxhMQ",
        "outputId": "87a0adf7-69c3-4506-ca3f-a4489c0b6502",
        "colab": {
          "base_uri": "https://localhost:8080/",
          "height": 173
        }
      },
      "source": [
        "lift_df.info()"
      ],
      "execution_count": 324,
      "outputs": [
        {
          "output_type": "stream",
          "text": [
            "<class 'pandas.core.frame.DataFrame'>\n",
            "RangeIndex: 10 entries, 0 to 9\n",
            "Data columns (total 2 columns):\n",
            " #   Column  Non-Null Count  Dtype   \n",
            "---  ------  --------------  -----   \n",
            " 0   decile  10 non-null     category\n",
            " 1   total   10 non-null     int64   \n",
            "dtypes: category(1), int64(1)\n",
            "memory usage: 618.0 bytes\n"
          ],
          "name": "stdout"
        }
      ]
    },
    {
      "cell_type": "code",
      "metadata": {
        "id": "lAz3B3e6xhMR"
      },
      "source": [
        "lift_df_final = lift_df.merge(lift_df_pred,on = 'decile')"
      ],
      "execution_count": 325,
      "outputs": []
    },
    {
      "cell_type": "code",
      "metadata": {
        "id": "MQhPTnd3xhMS"
      },
      "source": [
        "lift_df_final = lift_df_final.sort_values(['decile'], ascending=False)"
      ],
      "execution_count": 326,
      "outputs": []
    },
    {
      "cell_type": "code",
      "metadata": {
        "id": "l-F6D8xKxhMS"
      },
      "source": [
        "lift_df_final['cumresp'] = lift_df_final['actual'].cumsum()"
      ],
      "execution_count": 327,
      "outputs": []
    },
    {
      "cell_type": "code",
      "metadata": {
        "id": "mQ82L2kFxhMV"
      },
      "source": [
        "lift_df_final['gain'] = 100*(lift_df_final['cumresp']/sum(lift_df_final['actual']))"
      ],
      "execution_count": 328,
      "outputs": []
    },
    {
      "cell_type": "code",
      "metadata": {
        "id": "RYJjjcd6xhMW"
      },
      "source": [
        "lift_df_final['cumlift'] = lift_df_final['gain']/(lift_df_final['decile'].astype('int')*(100/10))"
      ],
      "execution_count": 329,
      "outputs": []
    },
    {
      "cell_type": "code",
      "metadata": {
        "id": "Gtcn9e-1xhMX",
        "outputId": "9b42f292-9f95-4f9a-e345-8411f38a83d5",
        "colab": {
          "base_uri": "https://localhost:8080/",
          "height": 355
        }
      },
      "source": [
        "lift_df_final"
      ],
      "execution_count": 330,
      "outputs": [
        {
          "output_type": "execute_result",
          "data": {
            "text/html": [
              "<div>\n",
              "<style scoped>\n",
              "    .dataframe tbody tr th:only-of-type {\n",
              "        vertical-align: middle;\n",
              "    }\n",
              "\n",
              "    .dataframe tbody tr th {\n",
              "        vertical-align: top;\n",
              "    }\n",
              "\n",
              "    .dataframe thead th {\n",
              "        text-align: right;\n",
              "    }\n",
              "</style>\n",
              "<table border=\"1\" class=\"dataframe\">\n",
              "  <thead>\n",
              "    <tr style=\"text-align: right;\">\n",
              "      <th></th>\n",
              "      <th>decile</th>\n",
              "      <th>total</th>\n",
              "      <th>actual</th>\n",
              "      <th>cumresp</th>\n",
              "      <th>gain</th>\n",
              "      <th>cumlift</th>\n",
              "    </tr>\n",
              "  </thead>\n",
              "  <tbody>\n",
              "    <tr>\n",
              "      <th>9</th>\n",
              "      <td>1</td>\n",
              "      <td>1236</td>\n",
              "      <td>571</td>\n",
              "      <td>571</td>\n",
              "      <td>41.316932</td>\n",
              "      <td>4.131693</td>\n",
              "    </tr>\n",
              "    <tr>\n",
              "      <th>8</th>\n",
              "      <td>2</td>\n",
              "      <td>1236</td>\n",
              "      <td>255</td>\n",
              "      <td>826</td>\n",
              "      <td>59.768452</td>\n",
              "      <td>2.988423</td>\n",
              "    </tr>\n",
              "    <tr>\n",
              "      <th>7</th>\n",
              "      <td>3</td>\n",
              "      <td>1235</td>\n",
              "      <td>118</td>\n",
              "      <td>944</td>\n",
              "      <td>68.306802</td>\n",
              "      <td>2.276893</td>\n",
              "    </tr>\n",
              "    <tr>\n",
              "      <th>6</th>\n",
              "      <td>4</td>\n",
              "      <td>1236</td>\n",
              "      <td>91</td>\n",
              "      <td>1035</td>\n",
              "      <td>74.891462</td>\n",
              "      <td>1.872287</td>\n",
              "    </tr>\n",
              "    <tr>\n",
              "      <th>5</th>\n",
              "      <td>5</td>\n",
              "      <td>1235</td>\n",
              "      <td>74</td>\n",
              "      <td>1109</td>\n",
              "      <td>80.246020</td>\n",
              "      <td>1.604920</td>\n",
              "    </tr>\n",
              "    <tr>\n",
              "      <th>4</th>\n",
              "      <td>6</td>\n",
              "      <td>1236</td>\n",
              "      <td>62</td>\n",
              "      <td>1171</td>\n",
              "      <td>84.732272</td>\n",
              "      <td>1.412205</td>\n",
              "    </tr>\n",
              "    <tr>\n",
              "      <th>3</th>\n",
              "      <td>7</td>\n",
              "      <td>1236</td>\n",
              "      <td>74</td>\n",
              "      <td>1245</td>\n",
              "      <td>90.086831</td>\n",
              "      <td>1.286955</td>\n",
              "    </tr>\n",
              "    <tr>\n",
              "      <th>2</th>\n",
              "      <td>8</td>\n",
              "      <td>1235</td>\n",
              "      <td>65</td>\n",
              "      <td>1310</td>\n",
              "      <td>94.790159</td>\n",
              "      <td>1.184877</td>\n",
              "    </tr>\n",
              "    <tr>\n",
              "      <th>1</th>\n",
              "      <td>9</td>\n",
              "      <td>1236</td>\n",
              "      <td>43</td>\n",
              "      <td>1353</td>\n",
              "      <td>97.901592</td>\n",
              "      <td>1.087795</td>\n",
              "    </tr>\n",
              "    <tr>\n",
              "      <th>0</th>\n",
              "      <td>10</td>\n",
              "      <td>1236</td>\n",
              "      <td>29</td>\n",
              "      <td>1382</td>\n",
              "      <td>100.000000</td>\n",
              "      <td>1.000000</td>\n",
              "    </tr>\n",
              "  </tbody>\n",
              "</table>\n",
              "</div>"
            ],
            "text/plain": [
              "  decile  total  actual  cumresp        gain   cumlift\n",
              "9      1   1236     571      571   41.316932  4.131693\n",
              "8      2   1236     255      826   59.768452  2.988423\n",
              "7      3   1235     118      944   68.306802  2.276893\n",
              "6      4   1236      91     1035   74.891462  1.872287\n",
              "5      5   1235      74     1109   80.246020  1.604920\n",
              "4      6   1236      62     1171   84.732272  1.412205\n",
              "3      7   1236      74     1245   90.086831  1.286955\n",
              "2      8   1235      65     1310   94.790159  1.184877\n",
              "1      9   1236      43     1353   97.901592  1.087795\n",
              "0     10   1236      29     1382  100.000000  1.000000"
            ]
          },
          "metadata": {
            "tags": []
          },
          "execution_count": 330
        }
      ]
    },
    {
      "cell_type": "markdown",
      "metadata": {
        "id": "SYpOIjK-xhMY"
      },
      "source": [
        "Note that you can attain 95% of total conversions by targeting only 30% of the total client base. This can be used in cost optimization and depending on the cost per call, we can determine, how many people should be part of the tele marketing campaign"
      ]
    },
    {
      "cell_type": "code",
      "metadata": {
        "id": "zZQWGMd-xhMY",
        "outputId": "4ac33a7d-7fb4-4cee-a780-04985f110b08",
        "colab": {
          "base_uri": "https://localhost:8080/",
          "height": 297
        }
      },
      "source": [
        "lift_df_final.plot.line(x='decile', y=['gain'])"
      ],
      "execution_count": 331,
      "outputs": [
        {
          "output_type": "execute_result",
          "data": {
            "text/plain": [
              "<matplotlib.axes._subplots.AxesSubplot at 0x7f23400cb400>"
            ]
          },
          "metadata": {
            "tags": []
          },
          "execution_count": 331
        },
        {
          "output_type": "display_data",
          "data": {
            "image/png": "[encoded data removed]",
            "text/plain": [
              "<Figure size 432x288 with 1 Axes>"
            ]
          },
          "metadata": {
            "tags": [],
            "needs_background": "light"
          }
        }
      ]
    },
    {
      "cell_type": "code",
      "metadata": {
        "id": "tW-NCFKBxhMZ",
        "outputId": "9ed9dad5-6035-481e-9b3f-b176595b1bee",
        "colab": {
          "base_uri": "https://localhost:8080/",
          "height": 297
        }
      },
      "source": [
        "lift_df_final.plot.line(x='decile', y=['cumlift'])"
      ],
      "execution_count": 332,
      "outputs": [
        {
          "output_type": "execute_result",
          "data": {
            "text/plain": [
              "<matplotlib.axes._subplots.AxesSubplot at 0x7f23400a2e48>"
            ]
          },
          "metadata": {
            "tags": []
          },
          "execution_count": 332
        },
        {
          "output_type": "display_data",
          "data": {
            "image/png": "[encoded data removed]",
            "text/plain": [
              "<Figure size 432x288 with 1 Axes>"
            ]
          },
          "metadata": {
            "tags": [],
            "needs_background": "light"
          }
        }
      ]
    }
  ]
}